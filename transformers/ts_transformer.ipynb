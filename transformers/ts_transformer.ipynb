{
 "cells": [
  {
   "cell_type": "code",
   "execution_count": 1,
   "metadata": {},
   "outputs": [],
   "source": [
    "import os; os.environ['TF_CPP_MIN_LOG_LEVEL'] = '2' # Disable warinings"
   ]
  },
  {
   "cell_type": "code",
   "execution_count": 2,
   "metadata": {},
   "outputs": [],
   "source": [
    "import numpy as np\n",
    "import pandas as pd\n",
    "import matplotlib.pyplot as plt\n",
    "import seaborn as sns\n",
    "\n",
    "from sklearn.metrics import (\n",
    "    classification_report, confusion_matrix, roc_curve, roc_auc_score,auc, accuracy_score\n",
    ")\n",
    "\n",
    "from sklearn.preprocessing import StandardScaler, MinMaxScaler\n",
    "from sklearn.model_selection import train_test_split\n",
    "\n",
    "import tensorflow as tf"
   ]
  },
  {
   "cell_type": "code",
   "execution_count": 3,
   "metadata": {},
   "outputs": [
    {
     "data": {
      "text/plain": [
       "[PhysicalDevice(name='/physical_device:GPU:0', device_type='GPU')]"
      ]
     },
     "execution_count": 3,
     "metadata": {},
     "output_type": "execute_result"
    }
   ],
   "source": [
    "tf.config.list_physical_devices('GPU')"
   ]
  },
  {
   "cell_type": "markdown",
   "metadata": {
    "tags": []
   },
   "source": [
    "### Epileptic Seizure Recognition\n",
    "* 1 - Recording of seizure activity\n",
    "* 2 - They recorder the EEG from the area where the tumor was located\n",
    "* 3 - Yes they identify where the region of the tumor was in the brain and recording the EEG activity from the healthy brain area\n",
    "* 4 - eyes closed, means when they were recording the EEG signal the patient had their eyes closed\n",
    "* 5 - eyes open, means when they were recording the EEG signal of the brain the patient had their eyes open"
   ]
  },
  {
   "cell_type": "code",
   "execution_count": 4,
   "metadata": {},
   "outputs": [],
   "source": [
    "df = pd.read_csv('data/Epileptic Seizure Recognition.csv')"
   ]
  },
  {
   "cell_type": "code",
   "execution_count": 5,
   "metadata": {},
   "outputs": [],
   "source": [
    "df['y'] -= 1 # sparse_categorical_crossentropy wants indices from 0 ... num_cat-1"
   ]
  },
  {
   "cell_type": "code",
   "execution_count": 6,
   "metadata": {},
   "outputs": [
    {
     "name": "stdout",
     "output_type": "stream",
     "text": [
      "X.shape=(11500, 178) | y.shape=(11500,)\n"
     ]
    }
   ],
   "source": [
    "X = df.values[:,1:-1] \n",
    "# y = pd.get_dummies(df['y']).values\n",
    "y = df['y'].values\n",
    "\n",
    "print(f'X.shape={X.shape} | y.shape={y.shape}')"
   ]
  },
  {
   "cell_type": "code",
   "execution_count": 7,
   "metadata": {},
   "outputs": [
    {
     "name": "stdout",
     "output_type": "stream",
     "text": [
      "X_train.shape=(7705, 178, 1) | X_test.shape=(3795, 178, 1)\n",
      "y_train.shape=(7705,)        | y_test.shape=(3795,)\n"
     ]
    }
   ],
   "source": [
    "X_train, X_test, y_train, y_test = train_test_split(X, y, test_size=0.33, random_state=42)\n",
    "\n",
    "# scaler = MinMaxScaler()\n",
    "scaler = StandardScaler()\n",
    "X_train = scaler.fit_transform(X_train)\n",
    "X_test  = scaler.transform(X_test)\n",
    "\n",
    "X_train = X_train.reshape(-1,178,1)\n",
    "X_test  = X_test.reshape(-1,178,1)\n",
    "print(f'X_train.shape={X_train.shape} | X_test.shape={X_test.shape}')\n",
    "\n",
    "# y_train = y_train.reshape(-1,1)\n",
    "# y_test  = y_test.reshape(-1,1)\n",
    "print(f'y_train.shape={y_train.shape}        | y_test.shape={y_test.shape}')"
   ]
  },
  {
   "cell_type": "code",
   "execution_count": 8,
   "metadata": {},
   "outputs": [],
   "source": [
    "model = tf.keras.models.Sequential([\n",
    "    tf.keras.layers.LSTM(64, input_shape=(178,1), return_sequences=True),\n",
    "    tf.keras.layers.Dropout(0.4),\n",
    "    tf.keras.layers.LSTM(64),\n",
    "    tf.keras.layers.Dropout(0.4),\n",
    "    tf.keras.layers.Dense(64, activation='relu'),\n",
    "    tf.keras.layers.Dense(5, activation='softmax')\n",
    "])"
   ]
  },
  {
   "cell_type": "code",
   "execution_count": 9,
   "metadata": {},
   "outputs": [],
   "source": [
    "model.compile(loss='sparse_categorical_crossentropy', optimizer='adam', metrics=['accuracy'])"
   ]
  },
  {
   "cell_type": "code",
   "execution_count": 10,
   "metadata": {},
   "outputs": [],
   "source": [
    "history = model.fit(\n",
    "    X_train, y_train, \n",
    "    validation_data=(X_test, y_test),\n",
    "    epochs=50,\n",
    "    verbose=0\n",
    ")"
   ]
  },
  {
   "cell_type": "code",
   "execution_count": 11,
   "metadata": {},
   "outputs": [
    {
     "data": {
      "text/plain": [
       "<AxesSubplot: >"
      ]
     },
     "execution_count": 11,
     "metadata": {},
     "output_type": "execute_result"
    },
    {
     "data": {
      "image/png": "[encoded data removed]",
      "text/plain": [
       "<Figure size 600x200 with 1 Axes>"
      ]
     },
     "metadata": {},
     "output_type": "display_data"
    }
   ],
   "source": [
    "pd.DataFrame(history.history)[['accuracy','val_accuracy']].plot(figsize=(6,2),grid=True)"
   ]
  },
  {
   "cell_type": "code",
   "execution_count": 12,
   "metadata": {},
   "outputs": [
    {
     "name": "stdout",
     "output_type": "stream",
     "text": [
      "119/119 [==============================] - 1s 11ms/step - loss: 0.5773 - accuracy: 0.7223\n"
     ]
    },
    {
     "data": {
      "text/plain": [
       "[0.5772630572319031, 0.7222661375999451]"
      ]
     },
     "execution_count": 12,
     "metadata": {},
     "output_type": "execute_result"
    }
   ],
   "source": [
    "model.evaluate(X_test, y_test)"
   ]
  },
  {
   "cell_type": "code",
   "execution_count": 13,
   "metadata": {},
   "outputs": [
    {
     "data": {
      "text/plain": [
       "array([[737,  20,   7,   6,   0],\n",
       "       [ 13, 201, 466,  14,  57],\n",
       "       [  5,  53, 587,  17,  83],\n",
       "       [  0,   5,   4, 603, 153],\n",
       "       [  0,   7,  12, 132, 613]])"
      ]
     },
     "execution_count": 13,
     "metadata": {},
     "output_type": "execute_result"
    }
   ],
   "source": [
    "confusion_matrix(y_true=y_test, y_pred=np.argmax(model(X_test), axis=1))"
   ]
  },
  {
   "cell_type": "code",
   "execution_count": 14,
   "metadata": {},
   "outputs": [
    {
     "name": "stdout",
     "output_type": "stream",
     "text": [
      "Model: \"sequential\"\n",
      "_________________________________________________________________\n",
      " Layer (type)                Output Shape              Param #   \n",
      "=================================================================\n",
      " lstm (LSTM)                 (None, 178, 64)           16896     \n",
      "                                                                 \n",
      " dropout (Dropout)           (None, 178, 64)           0         \n",
      "                                                                 \n",
      " lstm_1 (LSTM)               (None, 64)                33024     \n",
      "                                                                 \n",
      " dropout_1 (Dropout)         (None, 64)                0         \n",
      "                                                                 \n",
      " dense (Dense)               (None, 64)                4160      \n",
      "                                                                 \n",
      " dense_1 (Dense)             (None, 5)                 325       \n",
      "                                                                 \n",
      "=================================================================\n",
      "Total params: 54,405\n",
      "Trainable params: 54,405\n",
      "Non-trainable params: 0\n",
      "_________________________________________________________________\n"
     ]
    }
   ],
   "source": [
    "model.summary()"
   ]
  },
  {
   "cell_type": "markdown",
   "metadata": {},
   "source": [
    "## Define the components"
   ]
  },
  {
   "cell_type": "markdown",
   "metadata": {
    "id": "QFv-FNYUmvpn"
   },
   "source": [
    "### The encoder layer"
   ]
  },
  {
   "cell_type": "markdown",
   "metadata": {
    "id": "RgPaE3f44Cgh"
   },
   "source": [
    "<table>\n",
    "<tr>\n",
    "  <th colspan=1>The encoder layer</th>\n",
    "<tr>\n",
    "<tr>\n",
    "  <td>\n",
    "   <img src=\"https://www.tensorflow.org/images/tutorials/transformer/EncoderLayer.png\"/>\n",
    "  </td>\n",
    "</tr>\n",
    "</table>"
   ]
  },
  {
   "cell_type": "code",
   "execution_count": 21,
   "metadata": {
    "id": "1Rz82wEs5biZ"
   },
   "outputs": [],
   "source": [
    "def positional_encoding(length, depth):\n",
    "    depth = depth/2\n",
    "\n",
    "    positions = np.arange(length)[:, np.newaxis]     # (seq, 1)\n",
    "    depths = np.arange(depth)[np.newaxis, :]/depth   # (1, depth)\n",
    "\n",
    "    angle_rates = 1 / (10000**depths)         # (1, depth)\n",
    "    angle_rads = positions * angle_rates      # (pos, depth)\n",
    "\n",
    "    pos_encoding = np.concatenate(        \n",
    "        [np.sin(angle_rads), np.cos(angle_rads)],\n",
    "        axis=-1\n",
    "    ) \n",
    "    \n",
    "    return tf.cast(pos_encoding, dtype=tf.float32)"
   ]
  },
  {
   "cell_type": "code",
   "execution_count": 22,
   "metadata": {
    "id": "838tmM1cm9cB"
   },
   "outputs": [],
   "source": [
    "class FixedPositionalEncoding(tf.keras.layers.Layer):\n",
    "    def __init__(self, d_model, dropout=0.1, max_len=1024, scale_factor=1.0):\n",
    "        super().__init__()        \n",
    "        self.d_model = d_model        \n",
    "        self.pos_encoding = positional_encoding(length=max_len, depth=d_model)\n",
    "        self.pos_encoding *= scale_factor\n",
    "        \n",
    "    def call(self, x):\n",
    "        length = tf.shape(x)[1]\n",
    "        # This factor sets the relative scale of the embedding and positonal_encoding.\n",
    "        x *= tf.math.sqrt(tf.cast(self.d_model, tf.float32))\n",
    "        x = x + self.pos_encoding[tf.newaxis, :length, :self.d_model]\n",
    "        return x"
   ]
  },
  {
   "cell_type": "code",
   "execution_count": 23,
   "metadata": {
    "id": "838tmM1cm9cB"
   },
   "outputs": [],
   "source": [
    "class LearnablePositionalEncoding(tf.keras.layers.Layer):    \n",
    "    def __init__(self, d_model, max_len=1024):        \n",
    "        super().__init__()        \n",
    "        self.d_model = d_model        \n",
    "        self.max_len = max_len\n",
    "        \n",
    "        self.W_pos = self.add_weight(\n",
    "            shape=(self.max_len, self.d_model), initializer=\"random_normal\", \n",
    "            trainable=True\n",
    "        )\n",
    "\n",
    "    def call(self, x):\n",
    "        length = tf.shape(x)[1]\n",
    "        x = x + self.W_pos[tf.newaxis, :length, :self.d_model]\n",
    "        return x"
   ]
  },
  {
   "cell_type": "code",
   "execution_count": 24,
   "metadata": {},
   "outputs": [],
   "source": [
    "class FeedForward(tf.keras.layers.Layer):\n",
    "    def __init__(self, d_model, dff, dropout_rate=0):\n",
    "        super().__init__()        \n",
    "        self.seq = tf.keras.Sequential([\n",
    "            tf.keras.layers.Dense(dff, activation='relu'),\n",
    "            tf.keras.layers.Dense(d_model),\n",
    "            tf.keras.layers.Dropout(dropout_rate)\n",
    "        ])        \n",
    "        self.add = tf.keras.layers.Add()\n",
    "        self.batch_norm = tf.keras.layers.BatchNormalization()\n",
    "\n",
    "    def call(self, x):\n",
    "        x = self.add([x, self.seq(x)])\n",
    "        x = self.batch_norm(x) \n",
    "        return x"
   ]
  },
  {
   "cell_type": "code",
   "execution_count": 29,
   "metadata": {},
   "outputs": [],
   "source": [
    "class EncoderLayer(tf.keras.layers.Layer):\n",
    "    def __init__(self, d_model, num_heads, dff, dropout_rate=0):\n",
    "        super().__init__()        \n",
    "        self.mha = tf.keras.layers.MultiHeadAttention(num_heads=num_heads, key_dim=d_model)        \n",
    "        self.batch_norm = tf.keras.layers.BatchNormalization()\n",
    "        self.add = tf.keras.layers.Add()        \n",
    "        self.ffn = FeedForward(d_model, dff, dropout_rate=dropout_rate)\n",
    "\n",
    "    def call(self, x):        \n",
    "        attn_output = self.mha(query=x, value=x, key=x)\n",
    "        x = self.add([x, attn_output])\n",
    "        x = self.batch_norm(x)        \n",
    "        x = self.ffn(x)\n",
    "        return x"
   ]
  },
  {
   "cell_type": "markdown",
   "metadata": {
    "id": "dXI2B-Ad4ETO"
   },
   "source": [
    "<table>\n",
    "<tr>\n",
    "  <th colspan=1>The encoder</th>\n",
    "<tr>\n",
    "<tr>\n",
    "  <td>\n",
    "   <img src=\"https://www.tensorflow.org/images/tutorials/transformer/Encoder.png\"/>\n",
    "  </td>\n",
    "</tr>\n",
    "</table>"
   ]
  },
  {
   "cell_type": "code",
   "execution_count": 53,
   "metadata": {},
   "outputs": [],
   "source": [
    "class Encoder(tf.keras.layers.Layer):\n",
    "    def __init__(self, feat_dim, d_model, num_heads, num_layers, dim_feedforward, dropout_rate=0,\n",
    "                 pos_encoding='fixed', activation='gelu', norm='BatchNorm', max_len=1024, freeze=False):\n",
    "        \n",
    "        super().__init__()\n",
    "        self.d_model = d_model\n",
    "        self.num_layers = num_layers\n",
    "        self.linear_in = tf.keras.layers.Dense(d_model)\n",
    "        self.pos_encoding = LearnablePositionalEncoding(d_model=d_model, max_len=max_len) \n",
    "        # self.pos_encoding = FixedPositionalEncoding(d_model=d_model, max_len=max_len) \n",
    "        \n",
    "        self.enc_layers = [            \n",
    "            EncoderLayer(\n",
    "                d_model=d_model,\n",
    "                num_heads=num_heads,\n",
    "                dff=dim_feedforward,\n",
    "                dropout_rate=dropout_rate\n",
    "            ) for _ in range(num_layers)\n",
    "        ]\n",
    "        \n",
    "        self.dropout = tf.keras.layers.Dropout(dropout_rate)   \n",
    "        self.linear_out = tf.keras.layers.Dense(feat_dim)\n",
    "        \n",
    "    def call(self, x):\n",
    "        x = self.linear_in(x)\n",
    "        x = self.pos_encoding(x)\n",
    "        x = self.dropout(x)\n",
    "        \n",
    "        for i in range(self.num_layers):\n",
    "            x = self.enc_layers[i](x)\n",
    "            \n",
    "        x = self.linear_out(x)\n",
    "            \n",
    "        return x"
   ]
  },
  {
   "cell_type": "code",
   "execution_count": 58,
   "metadata": {},
   "outputs": [],
   "source": [
    "encoder = Encoder(\n",
    "    feat_dim=1,\n",
    "    d_model=20, \n",
    "    num_heads=8, \n",
    "    num_layers=4,\n",
    "    dim_feedforward=128, \n",
    "    dropout_rate=0.1, \n",
    "    max_len=1024\n",
    ")"
   ]
  },
  {
   "cell_type": "code",
   "execution_count": 59,
   "metadata": {},
   "outputs": [
    {
     "data": {
      "text/plain": [
       "TensorShape([64, 178, 1])"
      ]
     },
     "execution_count": 59,
     "metadata": {},
     "output_type": "execute_result"
    }
   ],
   "source": [
    "encoder(X_train[:64]).shape"
   ]
  },
  {
   "cell_type": "markdown",
   "metadata": {},
   "source": [
    "### Time-Series Encoder"
   ]
  },
  {
   "cell_type": "code",
   "execution_count": 42,
   "metadata": {
    "tags": []
   },
   "outputs": [],
   "source": [
    "def masked_loss(label, pred):\n",
    "    \n",
    "    mask = label != 0\n",
    "    loss_object = tf.keras.losses.SparseCategoricalCrossentropy(from_logits=True, reduction='none')\n",
    "    loss = loss_object(label, pred)\n",
    "\n",
    "    mask = tf.cast(mask, dtype=loss.dtype)\n",
    "    loss *= mask\n",
    "    \n",
    "    loss = tf.reduce_sum(loss)/tf.reduce_sum(mask)\n",
    "    return loss\n",
    "\n",
    "def masked_accuracy(label, pred):\n",
    "    pred = tf.argmax(pred, axis=2)\n",
    "    label = tf.cast(label, pred.dtype)\n",
    "    match = label == pred\n",
    "    \n",
    "    \n",
    "    mask = label != 0\n",
    "    \n",
    "    match = match & mask\n",
    "    \n",
    "    match = tf.cast(match, dtype=tf.float32)\n",
    "    mask = tf.cast(mask, dtype=tf.float32)\n",
    "    return tf.reduce_sum(match)/tf.reduce_sum(mask)"
   ]
  },
  {
   "cell_type": "code",
   "execution_count": 103,
   "metadata": {
    "tags": []
   },
   "outputs": [],
   "source": [
    "def masked_mse(label, pred):\n",
    "    \n",
    "    mask = label != 0\n",
    "    loss_object = tf.keras.losses.MeanSquaredError(reduction='none')\n",
    "    loss = loss_object(label, pred)\n",
    "\n",
    "    mask = tf.cast(mask, dtype=loss.dtype)\n",
    "    mask = tf.squeeze(mask)\n",
    "\n",
    "    loss *= mask\n",
    "    \n",
    "    loss = tf.reduce_sum(loss)/tf.reduce_sum(mask)\n",
    "    return loss"
   ]
  },
  {
   "cell_type": "code",
   "execution_count": 108,
   "metadata": {},
   "outputs": [],
   "source": [
    "tst_encoder = tf.keras.models.Sequential([\n",
    "    Encoder(        \n",
    "        feat_dim=1,\n",
    "        d_model=10, \n",
    "        num_heads=8, \n",
    "        num_layers=8,\n",
    "        dim_feedforward=256, \n",
    "        dropout_rate=0.2, \n",
    "        max_len=1024      \n",
    "    ),\n",
    "    # tf.keras.layers.Flatten(),\n",
    "    # tf.keras.layers.Dense(5, activation='softmax')\n",
    "])"
   ]
  },
  {
   "cell_type": "code",
   "execution_count": 109,
   "metadata": {},
   "outputs": [],
   "source": [
    "# tst_encoder.compile(loss='sparse_categorical_crossentropy', optimizer='adam', metrics=['accuracy'])\n",
    "tst_encoder.compile(loss=masked_mse, optimizer='adam')"
   ]
  },
  {
   "cell_type": "code",
   "execution_count": null,
   "metadata": {
    "jupyter": {
     "source_hidden": true
    },
    "tags": []
   },
   "outputs": [],
   "source": [
    "ts_history = tst_encoder.fit(\n",
    "    X_train, y_train, \n",
    "    validation_data=(X_test, y_test),\n",
    "    epochs=50,\n",
    "    batch_size=1024,\n",
    "    verbose=1\n",
    ")"
   ]
  },
  {
   "cell_type": "code",
   "execution_count": 110,
   "metadata": {},
   "outputs": [
    {
     "name": "stdout",
     "output_type": "stream",
     "text": [
      "Epoch 1/50\n",
      "8/8 [==============================] - 18s 583ms/step - loss: 1.0288 - val_loss: 0.6306\n",
      "Epoch 2/50\n",
      "8/8 [==============================] - 3s 426ms/step - loss: 0.5932 - val_loss: 0.7736\n",
      "Epoch 3/50\n",
      "8/8 [==============================] - 3s 421ms/step - loss: 0.5574 - val_loss: 0.7076\n",
      "Epoch 4/50\n",
      "8/8 [==============================] - 3s 423ms/step - loss: 0.5449 - val_loss: 0.6258\n",
      "Epoch 5/50\n",
      "8/8 [==============================] - 3s 429ms/step - loss: 0.5336 - val_loss: 0.5772\n",
      "Epoch 6/50\n",
      "8/8 [==============================] - 3s 427ms/step - loss: 0.5272 - val_loss: 0.5233\n",
      "Epoch 7/50\n",
      "8/8 [==============================] - 3s 423ms/step - loss: 0.5220 - val_loss: 0.5126\n",
      "Epoch 8/50\n",
      "8/8 [==============================] - 3s 435ms/step - loss: 0.5188 - val_loss: 0.5074\n",
      "Epoch 9/50\n",
      "8/8 [==============================] - 3s 430ms/step - loss: 0.5162 - val_loss: 0.5071\n",
      "Epoch 10/50\n",
      "8/8 [==============================] - 3s 431ms/step - loss: 0.5145 - val_loss: 0.5114\n",
      "Epoch 11/50\n",
      "8/8 [==============================] - 3s 432ms/step - loss: 0.5127 - val_loss: 0.5210\n",
      "Epoch 12/50\n",
      "8/8 [==============================] - 3s 431ms/step - loss: 0.5121 - val_loss: 0.5226\n",
      "Epoch 13/50\n",
      "8/8 [==============================] - 3s 431ms/step - loss: 0.5098 - val_loss: 0.5385\n",
      "Epoch 14/50\n",
      "8/8 [==============================] - 3s 433ms/step - loss: 0.5092 - val_loss: 0.5392\n",
      "Epoch 15/50\n",
      "8/8 [==============================] - 3s 431ms/step - loss: 0.5093 - val_loss: 0.5593\n",
      "Epoch 16/50\n",
      "8/8 [==============================] - 3s 432ms/step - loss: 0.5065 - val_loss: 0.5528\n",
      "Epoch 17/50\n",
      "8/8 [==============================] - 3s 433ms/step - loss: 0.5057 - val_loss: 0.5615\n",
      "Epoch 18/50\n",
      "8/8 [==============================] - 3s 434ms/step - loss: 0.5048 - val_loss: 0.5710\n",
      "Epoch 19/50\n",
      "8/8 [==============================] - 3s 434ms/step - loss: 0.5042 - val_loss: 0.5729\n",
      "Epoch 20/50\n",
      "8/8 [==============================] - 3s 435ms/step - loss: 0.5037 - val_loss: 0.5762\n",
      "Epoch 21/50\n",
      "8/8 [==============================] - 3s 439ms/step - loss: 0.5032 - val_loss: 0.5807\n",
      "Epoch 22/50\n",
      "8/8 [==============================] - 3s 436ms/step - loss: 0.5027 - val_loss: 0.5852\n",
      "Epoch 23/50\n",
      "8/8 [==============================] - 3s 436ms/step - loss: 0.5021 - val_loss: 0.5925\n",
      "Epoch 24/50\n",
      "8/8 [==============================] - 3s 437ms/step - loss: 0.5019 - val_loss: 0.5864\n",
      "Epoch 25/50\n",
      "8/8 [==============================] - 3s 431ms/step - loss: 0.5008 - val_loss: 0.5877\n",
      "Epoch 26/50\n",
      "8/8 [==============================] - 3s 436ms/step - loss: 0.5020 - val_loss: 0.5863\n",
      "Epoch 27/50\n",
      "8/8 [==============================] - 3s 438ms/step - loss: 0.5008 - val_loss: 0.5938\n",
      "Epoch 28/50\n",
      "8/8 [==============================] - 3s 435ms/step - loss: 0.4996 - val_loss: 0.5955\n",
      "Epoch 29/50\n",
      "8/8 [==============================] - 3s 437ms/step - loss: 0.5002 - val_loss: 0.5857\n",
      "Epoch 30/50\n",
      "8/8 [==============================] - 3s 436ms/step - loss: 0.4984 - val_loss: 0.5971\n",
      "Epoch 31/50\n",
      "8/8 [==============================] - 3s 434ms/step - loss: 0.4992 - val_loss: 0.5835\n",
      "Epoch 32/50\n",
      "8/8 [==============================] - 3s 436ms/step - loss: 0.4986 - val_loss: 0.5968\n",
      "Epoch 33/50\n",
      "8/8 [==============================] - 3s 435ms/step - loss: 0.4977 - val_loss: 0.5850\n",
      "Epoch 34/50\n",
      "8/8 [==============================] - 3s 435ms/step - loss: 0.4989 - val_loss: 0.5951\n",
      "Epoch 35/50\n",
      "8/8 [==============================] - 3s 437ms/step - loss: 0.4985 - val_loss: 0.5921\n",
      "Epoch 36/50\n",
      "8/8 [==============================] - 3s 436ms/step - loss: 0.4979 - val_loss: 0.5843\n",
      "Epoch 37/50\n",
      "8/8 [==============================] - 3s 437ms/step - loss: 0.4968 - val_loss: 0.5811\n",
      "Epoch 38/50\n",
      "8/8 [==============================] - 3s 433ms/step - loss: 0.4965 - val_loss: 0.5808\n",
      "Epoch 39/50\n",
      "8/8 [==============================] - 3s 437ms/step - loss: 0.4957 - val_loss: 0.5778\n",
      "Epoch 40/50\n",
      "8/8 [==============================] - 3s 437ms/step - loss: 0.4955 - val_loss: 0.5798\n",
      "Epoch 41/50\n",
      "8/8 [==============================] - 3s 435ms/step - loss: 0.4955 - val_loss: 0.5676\n",
      "Epoch 42/50\n",
      "8/8 [==============================] - 3s 436ms/step - loss: 0.4954 - val_loss: 0.5849\n",
      "Epoch 43/50\n",
      "8/8 [==============================] - 3s 435ms/step - loss: 0.4965 - val_loss: 0.5781\n",
      "Epoch 44/50\n",
      "8/8 [==============================] - 3s 435ms/step - loss: 0.4957 - val_loss: 0.5647\n",
      "Epoch 45/50\n",
      "8/8 [==============================] - 3s 434ms/step - loss: 0.4949 - val_loss: 0.5706\n",
      "Epoch 46/50\n",
      "8/8 [==============================] - 3s 439ms/step - loss: 0.4943 - val_loss: 0.5545\n",
      "Epoch 47/50\n",
      "8/8 [==============================] - 3s 433ms/step - loss: 0.4947 - val_loss: 0.5634\n",
      "Epoch 48/50\n",
      "8/8 [==============================] - 3s 442ms/step - loss: 0.4940 - val_loss: 0.5629\n",
      "Epoch 49/50\n",
      "8/8 [==============================] - 3s 439ms/step - loss: 0.4948 - val_loss: 0.5473\n",
      "Epoch 50/50\n",
      "8/8 [==============================] - 3s 440ms/step - loss: 0.4954 - val_loss: 0.5621\n"
     ]
    }
   ],
   "source": [
    "masked_X_train = X_train*np.random.randint(0,2,size=X_train.shape)\n",
    "masked_X_test  = X_test*np.random.randint(0,2,size=X_test.shape)\n",
    "\n",
    "ts_history = tst_encoder.fit(\n",
    "    masked_X_train, X_train, \n",
    "    validation_data=(masked_X_test, X_test),\n",
    "    epochs=50,\n",
    "    batch_size=1024,\n",
    "    verbose=1\n",
    ")"
   ]
  },
  {
   "cell_type": "code",
   "execution_count": 120,
   "metadata": {},
   "outputs": [
    {
     "data": {
      "text/plain": [
       "<matplotlib.legend.Legend at 0x7fdd61180760>"
      ]
     },
     "execution_count": 120,
     "metadata": {},
     "output_type": "execute_result"
    },
    {
     "data": {
      "image/png": "[encoded data removed]",
      "text/plain": [
       "<Figure size 640x480 with 1 Axes>"
      ]
     },
     "metadata": {},
     "output_type": "display_data"
    }
   ],
   "source": [
    "idx=np.random.randint(low=0, high=X_train.shape[0])\n",
    "\n",
    "predicted    = tf.squeeze(tst_encoder(masked_X_train[idx:idx+1])).numpy()\n",
    "ground_truth = tf.squeeze(X_train[idx:idx+1]).numpy()\n",
    "\n",
    "plt.plot(predicted, label='pred')\n",
    "plt.plot(ground_truth, label='true')\n",
    "plt.legend()"
   ]
  },
  {
   "cell_type": "code",
   "execution_count": null,
   "metadata": {},
   "outputs": [],
   "source": []
  },
  {
   "cell_type": "code",
   "execution_count": null,
   "metadata": {},
   "outputs": [],
   "source": [
    "pd.DataFrame(ts_history.history)[['accuracy','val_accuracy']].plot(figsize=(6,2),grid=True)"
   ]
  },
  {
   "cell_type": "code",
   "execution_count": null,
   "metadata": {},
   "outputs": [],
   "source": [
    "tst_encoder.evaluate(X_test, y_test)"
   ]
  },
  {
   "cell_type": "code",
   "execution_count": 72,
   "metadata": {},
   "outputs": [
    {
     "data": {
      "text/plain": [
       "array([[694,   2,   0,  73,   1],\n",
       "       [ 48,  87, 255, 176, 185],\n",
       "       [  5,  73, 313, 143, 211],\n",
       "       [ 25,  37, 135, 228, 340],\n",
       "       [  0,  97, 389,  16, 262]])"
      ]
     },
     "execution_count": 72,
     "metadata": {},
     "output_type": "execute_result"
    }
   ],
   "source": [
    "confusion_matrix(y_true=y_test, y_pred=np.argmax(tst_encoder(X_test), axis=1))"
   ]
  },
  {
   "cell_type": "code",
   "execution_count": 73,
   "metadata": {},
   "outputs": [
    {
     "name": "stdout",
     "output_type": "stream",
     "text": [
      "Model: \"sequential_72\"\n",
      "_________________________________________________________________\n",
      " Layer (type)                Output Shape              Param #   \n",
      "=================================================================\n",
      " encoder_13 (Encoder)        (None, 178, 1)            81599     \n",
      "                                                                 \n",
      " flatten_1 (Flatten)         (None, 178)               0         \n",
      "                                                                 \n",
      " dense_168 (Dense)           (None, 5)                 895       \n",
      "                                                                 \n",
      "=================================================================\n",
      "Total params: 82,494\n",
      "Trainable params: 82,174\n",
      "Non-trainable params: 320\n",
      "_________________________________________________________________\n"
     ]
    }
   ],
   "source": [
    "tst_encoder.summary()"
   ]
  },
  {
   "cell_type": "code",
   "execution_count": null,
   "metadata": {},
   "outputs": [],
   "source": []
  }
 ],
 "metadata": {
  "kernelspec": {
   "display_name": "Python 3 (ipykernel)",
   "language": "python",
   "name": "python3"
  },
  "language_info": {
   "codemirror_mode": {
    "name": "ipython",
    "version": 3
   },
   "file_extension": ".py",
   "mimetype": "text/x-python",
   "name": "python",
   "nbconvert_exporter": "python",
   "pygments_lexer": "ipython3",
   "version": "3.8.10"
  },
  "vscode": {
   "interpreter": {
    "hash": "09ea055e067e1e23ab0b9fd73c3c7be64499f5f71e5b33f0b07700ca1809059c"
   }
  }
 },
 "nbformat": 4,
 "nbformat_minor": 4
}
