{
 "cells": [
  {
   "cell_type": "code",
   "execution_count": 1,
   "id": "fc7ba8d7-8ebb-4d58-8175-fe1b466b0e6a",
   "metadata": {},
   "outputs": [],
   "source": [
    "import gc, random, os\n",
    "import numpy as np\n",
    "import pandas as pd\n",
    "import matplotlib.pyplot as plt\n",
    "import matplotlib as mpl\n",
    "import seaborn as sns\n",
    "sns.set_theme()\n",
    "\n",
    "from matplotlib.ticker import FixedLocator, FixedFormatter\n",
    "\n",
    "from sklearn.cluster import DBSCAN, KMeans, MiniBatchKMeans\n",
    "from sklearn.metrics import silhouette_score, silhouette_samples\n",
    "from sklearn.model_selection import train_test_split, cross_val_score, KFold, StratifiedKFold\n",
    "from sklearn.preprocessing import MinMaxScaler, StandardScaler, PowerTransformer\n",
    "from sklearn.mixture import BayesianGaussianMixture, GaussianMixture\n",
    "from sklearn.decomposition import PCA\n",
    "from sklearn import metrics\n",
    "\n",
    "from scipy import stats\n",
    "from scipy.stats import norm\n",
    "\n",
    "import lightgbm as lgb\n",
    "import xgboost as xgb\n",
    "import catboost as cb\n",
    "\n",
    "import tensorflow as tf\n",
    "from tensorflow.keras import models\n",
    "from tensorflow.keras import layers\n",
    "from tensorflow.keras import optimizers\n",
    "from tensorflow.keras import callbacks\n",
    "\n",
    "import optuna"
   ]
  },
  {
   "cell_type": "markdown",
   "id": "ad860f58-32ef-407d-8ec9-2d3f9d0bcda5",
   "metadata": {},
   "source": [
    "## Seed everything"
   ]
  },
  {
   "cell_type": "code",
   "execution_count": 2,
   "id": "ee54b00b-2ba0-446c-bdd8-88967c8e6853",
   "metadata": {},
   "outputs": [],
   "source": [
    "seed = 42\n",
    "\n",
    "os.environ['PYTHONHASHSEED'] = str(seed)\n",
    "np.random.seed(seed)"
   ]
  },
  {
   "cell_type": "markdown",
   "id": "b527ad1a-c8e6-4784-af21-6c066266fd1b",
   "metadata": {},
   "source": [
    "## Load Data"
   ]
  },
  {
   "cell_type": "code",
   "execution_count": 3,
   "id": "a06cdc49-0690-4c11-b062-02a03c1a6b29",
   "metadata": {},
   "outputs": [
    {
     "data": {
      "text/plain": [
       "(98000, 30)"
      ]
     },
     "execution_count": 3,
     "metadata": {},
     "output_type": "execute_result"
    }
   ],
   "source": [
    "df = pd.read_csv('../../../Data/Tabular Playground Series/tabular-playground-series-jul-2022/data.csv')\n",
    "df.shape"
   ]
  },
  {
   "cell_type": "code",
   "execution_count": 4,
   "id": "a9f90fa4-61f8-4a72-9f9d-d6a973c46e65",
   "metadata": {},
   "outputs": [
    {
     "data": {
      "text/html": [
       "<div>\n",
       "<style scoped>\n",
       "    .dataframe tbody tr th:only-of-type {\n",
       "        vertical-align: middle;\n",
       "    }\n",
       "\n",
       "    .dataframe tbody tr th {\n",
       "        vertical-align: top;\n",
       "    }\n",
       "\n",
       "    .dataframe thead th {\n",
       "        text-align: right;\n",
       "    }\n",
       "</style>\n",
       "<table border=\"1\" class=\"dataframe\">\n",
       "  <thead>\n",
       "    <tr style=\"text-align: right;\">\n",
       "      <th></th>\n",
       "      <th>id</th>\n",
       "      <th>f_00</th>\n",
       "      <th>f_01</th>\n",
       "      <th>f_02</th>\n",
       "      <th>f_03</th>\n",
       "      <th>f_04</th>\n",
       "      <th>f_05</th>\n",
       "      <th>f_06</th>\n",
       "      <th>f_07</th>\n",
       "      <th>f_08</th>\n",
       "      <th>...</th>\n",
       "      <th>f_19</th>\n",
       "      <th>f_20</th>\n",
       "      <th>f_21</th>\n",
       "      <th>f_22</th>\n",
       "      <th>f_23</th>\n",
       "      <th>f_24</th>\n",
       "      <th>f_25</th>\n",
       "      <th>f_26</th>\n",
       "      <th>f_27</th>\n",
       "      <th>f_28</th>\n",
       "    </tr>\n",
       "  </thead>\n",
       "  <tbody>\n",
       "    <tr>\n",
       "      <th>0</th>\n",
       "      <td>0</td>\n",
       "      <td>-0.389420</td>\n",
       "      <td>-0.912791</td>\n",
       "      <td>0.648951</td>\n",
       "      <td>0.589045</td>\n",
       "      <td>-0.830817</td>\n",
       "      <td>0.733624</td>\n",
       "      <td>2.258560</td>\n",
       "      <td>2</td>\n",
       "      <td>13</td>\n",
       "      <td>...</td>\n",
       "      <td>-0.478412</td>\n",
       "      <td>-0.757002</td>\n",
       "      <td>-0.763635</td>\n",
       "      <td>-1.090369</td>\n",
       "      <td>1.142641</td>\n",
       "      <td>-0.884274</td>\n",
       "      <td>1.137896</td>\n",
       "      <td>1.309073</td>\n",
       "      <td>1.463002</td>\n",
       "      <td>0.813527</td>\n",
       "    </tr>\n",
       "    <tr>\n",
       "      <th>1</th>\n",
       "      <td>1</td>\n",
       "      <td>-0.689249</td>\n",
       "      <td>-0.453954</td>\n",
       "      <td>0.654175</td>\n",
       "      <td>0.995248</td>\n",
       "      <td>-1.653020</td>\n",
       "      <td>0.863810</td>\n",
       "      <td>-0.090651</td>\n",
       "      <td>2</td>\n",
       "      <td>3</td>\n",
       "      <td>...</td>\n",
       "      <td>-0.428791</td>\n",
       "      <td>-0.089908</td>\n",
       "      <td>-1.784204</td>\n",
       "      <td>-0.839474</td>\n",
       "      <td>0.459685</td>\n",
       "      <td>1.759412</td>\n",
       "      <td>-0.275422</td>\n",
       "      <td>-0.852168</td>\n",
       "      <td>0.562457</td>\n",
       "      <td>-2.680541</td>\n",
       "    </tr>\n",
       "  </tbody>\n",
       "</table>\n",
       "<p>2 rows × 30 columns</p>\n",
       "</div>"
      ],
      "text/plain": [
       "   id      f_00      f_01      f_02      f_03      f_04      f_05      f_06  \\\n",
       "0   0 -0.389420 -0.912791  0.648951  0.589045 -0.830817  0.733624  2.258560   \n",
       "1   1 -0.689249 -0.453954  0.654175  0.995248 -1.653020  0.863810 -0.090651   \n",
       "\n",
       "   f_07  f_08  ...      f_19      f_20      f_21      f_22      f_23  \\\n",
       "0     2    13  ... -0.478412 -0.757002 -0.763635 -1.090369  1.142641   \n",
       "1     2     3  ... -0.428791 -0.089908 -1.784204 -0.839474  0.459685   \n",
       "\n",
       "       f_24      f_25      f_26      f_27      f_28  \n",
       "0 -0.884274  1.137896  1.309073  1.463002  0.813527  \n",
       "1  1.759412 -0.275422 -0.852168  0.562457 -2.680541  \n",
       "\n",
       "[2 rows x 30 columns]"
      ]
     },
     "execution_count": 4,
     "metadata": {},
     "output_type": "execute_result"
    }
   ],
   "source": [
    "df.head(2)"
   ]
  },
  {
   "cell_type": "code",
   "execution_count": 5,
   "id": "f0f14d36-a3bf-4b7d-99c3-7454881a4632",
   "metadata": {},
   "outputs": [],
   "source": [
    "X_train = df.drop('id', axis=1)"
   ]
  },
  {
   "cell_type": "code",
   "execution_count": 6,
   "id": "81da036b-763c-48c5-aa4e-8f0129afbb99",
   "metadata": {},
   "outputs": [
    {
     "data": {
      "text/html": [
       "<div>\n",
       "<style scoped>\n",
       "    .dataframe tbody tr th:only-of-type {\n",
       "        vertical-align: middle;\n",
       "    }\n",
       "\n",
       "    .dataframe tbody tr th {\n",
       "        vertical-align: top;\n",
       "    }\n",
       "\n",
       "    .dataframe thead th {\n",
       "        text-align: right;\n",
       "    }\n",
       "</style>\n",
       "<table border=\"1\" class=\"dataframe\">\n",
       "  <thead>\n",
       "    <tr style=\"text-align: right;\">\n",
       "      <th></th>\n",
       "      <th>f_00</th>\n",
       "      <th>f_01</th>\n",
       "      <th>f_02</th>\n",
       "      <th>f_03</th>\n",
       "      <th>f_04</th>\n",
       "      <th>f_05</th>\n",
       "      <th>f_06</th>\n",
       "      <th>f_07</th>\n",
       "      <th>f_08</th>\n",
       "      <th>f_09</th>\n",
       "      <th>...</th>\n",
       "      <th>f_19</th>\n",
       "      <th>f_20</th>\n",
       "      <th>f_21</th>\n",
       "      <th>f_22</th>\n",
       "      <th>f_23</th>\n",
       "      <th>f_24</th>\n",
       "      <th>f_25</th>\n",
       "      <th>f_26</th>\n",
       "      <th>f_27</th>\n",
       "      <th>f_28</th>\n",
       "    </tr>\n",
       "  </thead>\n",
       "  <tbody>\n",
       "    <tr>\n",
       "      <th>0</th>\n",
       "      <td>-0.389420</td>\n",
       "      <td>-0.912791</td>\n",
       "      <td>0.648951</td>\n",
       "      <td>0.589045</td>\n",
       "      <td>-0.830817</td>\n",
       "      <td>0.733624</td>\n",
       "      <td>2.258560</td>\n",
       "      <td>2</td>\n",
       "      <td>13</td>\n",
       "      <td>14</td>\n",
       "      <td>...</td>\n",
       "      <td>-0.478412</td>\n",
       "      <td>-0.757002</td>\n",
       "      <td>-0.763635</td>\n",
       "      <td>-1.090369</td>\n",
       "      <td>1.142641</td>\n",
       "      <td>-0.884274</td>\n",
       "      <td>1.137896</td>\n",
       "      <td>1.309073</td>\n",
       "      <td>1.463002</td>\n",
       "      <td>0.813527</td>\n",
       "    </tr>\n",
       "    <tr>\n",
       "      <th>1</th>\n",
       "      <td>-0.689249</td>\n",
       "      <td>-0.453954</td>\n",
       "      <td>0.654175</td>\n",
       "      <td>0.995248</td>\n",
       "      <td>-1.653020</td>\n",
       "      <td>0.863810</td>\n",
       "      <td>-0.090651</td>\n",
       "      <td>2</td>\n",
       "      <td>3</td>\n",
       "      <td>6</td>\n",
       "      <td>...</td>\n",
       "      <td>-0.428791</td>\n",
       "      <td>-0.089908</td>\n",
       "      <td>-1.784204</td>\n",
       "      <td>-0.839474</td>\n",
       "      <td>0.459685</td>\n",
       "      <td>1.759412</td>\n",
       "      <td>-0.275422</td>\n",
       "      <td>-0.852168</td>\n",
       "      <td>0.562457</td>\n",
       "      <td>-2.680541</td>\n",
       "    </tr>\n",
       "  </tbody>\n",
       "</table>\n",
       "<p>2 rows × 29 columns</p>\n",
       "</div>"
      ],
      "text/plain": [
       "       f_00      f_01      f_02      f_03      f_04      f_05      f_06  f_07  \\\n",
       "0 -0.389420 -0.912791  0.648951  0.589045 -0.830817  0.733624  2.258560     2   \n",
       "1 -0.689249 -0.453954  0.654175  0.995248 -1.653020  0.863810 -0.090651     2   \n",
       "\n",
       "   f_08  f_09  ...      f_19      f_20      f_21      f_22      f_23  \\\n",
       "0    13    14  ... -0.478412 -0.757002 -0.763635 -1.090369  1.142641   \n",
       "1     3     6  ... -0.428791 -0.089908 -1.784204 -0.839474  0.459685   \n",
       "\n",
       "       f_24      f_25      f_26      f_27      f_28  \n",
       "0 -0.884274  1.137896  1.309073  1.463002  0.813527  \n",
       "1  1.759412 -0.275422 -0.852168  0.562457 -2.680541  \n",
       "\n",
       "[2 rows x 29 columns]"
      ]
     },
     "execution_count": 6,
     "metadata": {},
     "output_type": "execute_result"
    }
   ],
   "source": [
    "X_train.head(2)"
   ]
  },
  {
   "cell_type": "code",
   "execution_count": 7,
   "id": "4fc0775e-969f-4863-8ebf-11f5c377308f",
   "metadata": {},
   "outputs": [
    {
     "data": {
      "text/html": [
       "<div>\n",
       "<style scoped>\n",
       "    .dataframe tbody tr th:only-of-type {\n",
       "        vertical-align: middle;\n",
       "    }\n",
       "\n",
       "    .dataframe tbody tr th {\n",
       "        vertical-align: top;\n",
       "    }\n",
       "\n",
       "    .dataframe thead th {\n",
       "        text-align: right;\n",
       "    }\n",
       "</style>\n",
       "<table border=\"1\" class=\"dataframe\">\n",
       "  <thead>\n",
       "    <tr style=\"text-align: right;\">\n",
       "      <th></th>\n",
       "      <th>count</th>\n",
       "      <th>mean</th>\n",
       "      <th>std</th>\n",
       "      <th>min</th>\n",
       "      <th>25%</th>\n",
       "      <th>50%</th>\n",
       "      <th>75%</th>\n",
       "      <th>max</th>\n",
       "    </tr>\n",
       "  </thead>\n",
       "  <tbody>\n",
       "    <tr>\n",
       "      <th>f_00</th>\n",
       "      <td>98000.0</td>\n",
       "      <td>0.001220</td>\n",
       "      <td>1.002801</td>\n",
       "      <td>-4.732235</td>\n",
       "      <td>-0.675226</td>\n",
       "      <td>0.002022</td>\n",
       "      <td>0.677271</td>\n",
       "      <td>4.490521</td>\n",
       "    </tr>\n",
       "    <tr>\n",
       "      <th>f_01</th>\n",
       "      <td>98000.0</td>\n",
       "      <td>0.005580</td>\n",
       "      <td>1.000742</td>\n",
       "      <td>-4.202795</td>\n",
       "      <td>-0.670985</td>\n",
       "      <td>0.006650</td>\n",
       "      <td>0.677746</td>\n",
       "      <td>4.324974</td>\n",
       "    </tr>\n",
       "    <tr>\n",
       "      <th>f_02</th>\n",
       "      <td>98000.0</td>\n",
       "      <td>-0.001042</td>\n",
       "      <td>1.001373</td>\n",
       "      <td>-4.377021</td>\n",
       "      <td>-0.672779</td>\n",
       "      <td>-0.000324</td>\n",
       "      <td>0.677086</td>\n",
       "      <td>4.560247</td>\n",
       "    </tr>\n",
       "    <tr>\n",
       "      <th>f_03</th>\n",
       "      <td>98000.0</td>\n",
       "      <td>-0.000700</td>\n",
       "      <td>1.000422</td>\n",
       "      <td>-4.010826</td>\n",
       "      <td>-0.672540</td>\n",
       "      <td>-0.003185</td>\n",
       "      <td>0.672097</td>\n",
       "      <td>4.399373</td>\n",
       "    </tr>\n",
       "    <tr>\n",
       "      <th>f_04</th>\n",
       "      <td>98000.0</td>\n",
       "      <td>-0.003522</td>\n",
       "      <td>1.003061</td>\n",
       "      <td>-4.535903</td>\n",
       "      <td>-0.682510</td>\n",
       "      <td>-0.003307</td>\n",
       "      <td>0.677589</td>\n",
       "      <td>4.050549</td>\n",
       "    </tr>\n",
       "    <tr>\n",
       "      <th>f_05</th>\n",
       "      <td>98000.0</td>\n",
       "      <td>-0.001612</td>\n",
       "      <td>1.000532</td>\n",
       "      <td>-4.300767</td>\n",
       "      <td>-0.675066</td>\n",
       "      <td>0.001024</td>\n",
       "      <td>0.673344</td>\n",
       "      <td>4.710316</td>\n",
       "    </tr>\n",
       "    <tr>\n",
       "      <th>f_06</th>\n",
       "      <td>98000.0</td>\n",
       "      <td>-0.003042</td>\n",
       "      <td>0.997434</td>\n",
       "      <td>-4.894525</td>\n",
       "      <td>-0.680421</td>\n",
       "      <td>-0.002053</td>\n",
       "      <td>0.668112</td>\n",
       "      <td>3.998595</td>\n",
       "    </tr>\n",
       "    <tr>\n",
       "      <th>f_07</th>\n",
       "      <td>98000.0</td>\n",
       "      <td>5.545918</td>\n",
       "      <td>3.691840</td>\n",
       "      <td>0.000000</td>\n",
       "      <td>3.000000</td>\n",
       "      <td>5.000000</td>\n",
       "      <td>8.000000</td>\n",
       "      <td>32.000000</td>\n",
       "    </tr>\n",
       "    <tr>\n",
       "      <th>f_08</th>\n",
       "      <td>98000.0</td>\n",
       "      <td>6.763061</td>\n",
       "      <td>4.152348</td>\n",
       "      <td>0.000000</td>\n",
       "      <td>4.000000</td>\n",
       "      <td>6.000000</td>\n",
       "      <td>9.000000</td>\n",
       "      <td>30.000000</td>\n",
       "    </tr>\n",
       "    <tr>\n",
       "      <th>f_09</th>\n",
       "      <td>98000.0</td>\n",
       "      <td>8.193163</td>\n",
       "      <td>5.904919</td>\n",
       "      <td>0.000000</td>\n",
       "      <td>4.000000</td>\n",
       "      <td>7.000000</td>\n",
       "      <td>11.000000</td>\n",
       "      <td>44.000000</td>\n",
       "    </tr>\n",
       "    <tr>\n",
       "      <th>f_10</th>\n",
       "      <td>98000.0</td>\n",
       "      <td>8.057878</td>\n",
       "      <td>4.700226</td>\n",
       "      <td>0.000000</td>\n",
       "      <td>5.000000</td>\n",
       "      <td>7.000000</td>\n",
       "      <td>11.000000</td>\n",
       "      <td>36.000000</td>\n",
       "    </tr>\n",
       "    <tr>\n",
       "      <th>f_11</th>\n",
       "      <td>98000.0</td>\n",
       "      <td>8.084990</td>\n",
       "      <td>4.197106</td>\n",
       "      <td>0.000000</td>\n",
       "      <td>5.000000</td>\n",
       "      <td>8.000000</td>\n",
       "      <td>11.000000</td>\n",
       "      <td>28.000000</td>\n",
       "    </tr>\n",
       "    <tr>\n",
       "      <th>f_12</th>\n",
       "      <td>98000.0</td>\n",
       "      <td>7.076388</td>\n",
       "      <td>4.433308</td>\n",
       "      <td>0.000000</td>\n",
       "      <td>4.000000</td>\n",
       "      <td>6.000000</td>\n",
       "      <td>10.000000</td>\n",
       "      <td>38.000000</td>\n",
       "    </tr>\n",
       "    <tr>\n",
       "      <th>f_13</th>\n",
       "      <td>98000.0</td>\n",
       "      <td>6.286102</td>\n",
       "      <td>4.120077</td>\n",
       "      <td>0.000000</td>\n",
       "      <td>3.000000</td>\n",
       "      <td>6.000000</td>\n",
       "      <td>9.000000</td>\n",
       "      <td>30.000000</td>\n",
       "    </tr>\n",
       "    <tr>\n",
       "      <th>f_14</th>\n",
       "      <td>98000.0</td>\n",
       "      <td>0.003413</td>\n",
       "      <td>0.998940</td>\n",
       "      <td>-4.377021</td>\n",
       "      <td>-0.671810</td>\n",
       "      <td>0.003536</td>\n",
       "      <td>0.678679</td>\n",
       "      <td>4.490521</td>\n",
       "    </tr>\n",
       "    <tr>\n",
       "      <th>f_15</th>\n",
       "      <td>98000.0</td>\n",
       "      <td>-0.002639</td>\n",
       "      <td>1.001096</td>\n",
       "      <td>-4.535903</td>\n",
       "      <td>-0.677757</td>\n",
       "      <td>-0.004299</td>\n",
       "      <td>0.673859</td>\n",
       "      <td>4.270708</td>\n",
       "    </tr>\n",
       "    <tr>\n",
       "      <th>f_16</th>\n",
       "      <td>98000.0</td>\n",
       "      <td>0.005404</td>\n",
       "      <td>1.003277</td>\n",
       "      <td>-4.182233</td>\n",
       "      <td>-0.671055</td>\n",
       "      <td>0.006535</td>\n",
       "      <td>0.680903</td>\n",
       "      <td>4.157538</td>\n",
       "    </tr>\n",
       "    <tr>\n",
       "      <th>f_17</th>\n",
       "      <td>98000.0</td>\n",
       "      <td>0.001656</td>\n",
       "      <td>1.001258</td>\n",
       "      <td>-4.468930</td>\n",
       "      <td>-0.672635</td>\n",
       "      <td>0.001663</td>\n",
       "      <td>0.673174</td>\n",
       "      <td>4.230849</td>\n",
       "    </tr>\n",
       "    <tr>\n",
       "      <th>f_18</th>\n",
       "      <td>98000.0</td>\n",
       "      <td>-0.005399</td>\n",
       "      <td>0.995965</td>\n",
       "      <td>-4.149688</td>\n",
       "      <td>-0.680243</td>\n",
       "      <td>-0.001574</td>\n",
       "      <td>0.666996</td>\n",
       "      <td>4.710316</td>\n",
       "    </tr>\n",
       "    <tr>\n",
       "      <th>f_19</th>\n",
       "      <td>98000.0</td>\n",
       "      <td>-0.004513</td>\n",
       "      <td>1.004372</td>\n",
       "      <td>-4.894525</td>\n",
       "      <td>-0.678773</td>\n",
       "      <td>-0.000587</td>\n",
       "      <td>0.672149</td>\n",
       "      <td>4.560247</td>\n",
       "    </tr>\n",
       "    <tr>\n",
       "      <th>f_20</th>\n",
       "      <td>98000.0</td>\n",
       "      <td>-0.000515</td>\n",
       "      <td>1.002962</td>\n",
       "      <td>-4.732235</td>\n",
       "      <td>-0.679777</td>\n",
       "      <td>-0.000806</td>\n",
       "      <td>0.675437</td>\n",
       "      <td>4.399373</td>\n",
       "    </tr>\n",
       "    <tr>\n",
       "      <th>f_21</th>\n",
       "      <td>98000.0</td>\n",
       "      <td>-0.001670</td>\n",
       "      <td>0.999703</td>\n",
       "      <td>-4.438130</td>\n",
       "      <td>-0.675147</td>\n",
       "      <td>0.000819</td>\n",
       "      <td>0.676881</td>\n",
       "      <td>4.135419</td>\n",
       "    </tr>\n",
       "    <tr>\n",
       "      <th>f_22</th>\n",
       "      <td>98000.0</td>\n",
       "      <td>-0.038752</td>\n",
       "      <td>1.477858</td>\n",
       "      <td>-6.873999</td>\n",
       "      <td>-1.022964</td>\n",
       "      <td>-0.056687</td>\n",
       "      <td>0.930158</td>\n",
       "      <td>6.517721</td>\n",
       "    </tr>\n",
       "    <tr>\n",
       "      <th>f_23</th>\n",
       "      <td>98000.0</td>\n",
       "      <td>-0.220002</td>\n",
       "      <td>1.494836</td>\n",
       "      <td>-8.234305</td>\n",
       "      <td>-1.203204</td>\n",
       "      <td>-0.219046</td>\n",
       "      <td>0.764690</td>\n",
       "      <td>6.054831</td>\n",
       "    </tr>\n",
       "    <tr>\n",
       "      <th>f_24</th>\n",
       "      <td>98000.0</td>\n",
       "      <td>0.166434</td>\n",
       "      <td>1.543014</td>\n",
       "      <td>-7.792363</td>\n",
       "      <td>-0.903385</td>\n",
       "      <td>0.167074</td>\n",
       "      <td>1.217432</td>\n",
       "      <td>7.527271</td>\n",
       "    </tr>\n",
       "    <tr>\n",
       "      <th>f_25</th>\n",
       "      <td>98000.0</td>\n",
       "      <td>-0.064309</td>\n",
       "      <td>1.576086</td>\n",
       "      <td>-6.593842</td>\n",
       "      <td>-1.128966</td>\n",
       "      <td>-0.099221</td>\n",
       "      <td>0.987684</td>\n",
       "      <td>7.544731</td>\n",
       "    </tr>\n",
       "    <tr>\n",
       "      <th>f_26</th>\n",
       "      <td>98000.0</td>\n",
       "      <td>-0.062540</td>\n",
       "      <td>1.428055</td>\n",
       "      <td>-7.375719</td>\n",
       "      <td>-0.975680</td>\n",
       "      <td>-0.070852</td>\n",
       "      <td>0.843212</td>\n",
       "      <td>7.005608</td>\n",
       "    </tr>\n",
       "    <tr>\n",
       "      <th>f_27</th>\n",
       "      <td>98000.0</td>\n",
       "      <td>0.098472</td>\n",
       "      <td>1.305407</td>\n",
       "      <td>-7.335556</td>\n",
       "      <td>-0.746489</td>\n",
       "      <td>0.082230</td>\n",
       "      <td>0.925306</td>\n",
       "      <td>7.205971</td>\n",
       "    </tr>\n",
       "    <tr>\n",
       "      <th>f_28</th>\n",
       "      <td>98000.0</td>\n",
       "      <td>-0.230910</td>\n",
       "      <td>1.528476</td>\n",
       "      <td>-6.954151</td>\n",
       "      <td>-1.262606</td>\n",
       "      <td>-0.271319</td>\n",
       "      <td>0.770516</td>\n",
       "      <td>6.977150</td>\n",
       "    </tr>\n",
       "  </tbody>\n",
       "</table>\n",
       "</div>"
      ],
      "text/plain": [
       "        count      mean       std       min       25%       50%        75%  \\\n",
       "f_00  98000.0  0.001220  1.002801 -4.732235 -0.675226  0.002022   0.677271   \n",
       "f_01  98000.0  0.005580  1.000742 -4.202795 -0.670985  0.006650   0.677746   \n",
       "f_02  98000.0 -0.001042  1.001373 -4.377021 -0.672779 -0.000324   0.677086   \n",
       "f_03  98000.0 -0.000700  1.000422 -4.010826 -0.672540 -0.003185   0.672097   \n",
       "f_04  98000.0 -0.003522  1.003061 -4.535903 -0.682510 -0.003307   0.677589   \n",
       "f_05  98000.0 -0.001612  1.000532 -4.300767 -0.675066  0.001024   0.673344   \n",
       "f_06  98000.0 -0.003042  0.997434 -4.894525 -0.680421 -0.002053   0.668112   \n",
       "f_07  98000.0  5.545918  3.691840  0.000000  3.000000  5.000000   8.000000   \n",
       "f_08  98000.0  6.763061  4.152348  0.000000  4.000000  6.000000   9.000000   \n",
       "f_09  98000.0  8.193163  5.904919  0.000000  4.000000  7.000000  11.000000   \n",
       "f_10  98000.0  8.057878  4.700226  0.000000  5.000000  7.000000  11.000000   \n",
       "f_11  98000.0  8.084990  4.197106  0.000000  5.000000  8.000000  11.000000   \n",
       "f_12  98000.0  7.076388  4.433308  0.000000  4.000000  6.000000  10.000000   \n",
       "f_13  98000.0  6.286102  4.120077  0.000000  3.000000  6.000000   9.000000   \n",
       "f_14  98000.0  0.003413  0.998940 -4.377021 -0.671810  0.003536   0.678679   \n",
       "f_15  98000.0 -0.002639  1.001096 -4.535903 -0.677757 -0.004299   0.673859   \n",
       "f_16  98000.0  0.005404  1.003277 -4.182233 -0.671055  0.006535   0.680903   \n",
       "f_17  98000.0  0.001656  1.001258 -4.468930 -0.672635  0.001663   0.673174   \n",
       "f_18  98000.0 -0.005399  0.995965 -4.149688 -0.680243 -0.001574   0.666996   \n",
       "f_19  98000.0 -0.004513  1.004372 -4.894525 -0.678773 -0.000587   0.672149   \n",
       "f_20  98000.0 -0.000515  1.002962 -4.732235 -0.679777 -0.000806   0.675437   \n",
       "f_21  98000.0 -0.001670  0.999703 -4.438130 -0.675147  0.000819   0.676881   \n",
       "f_22  98000.0 -0.038752  1.477858 -6.873999 -1.022964 -0.056687   0.930158   \n",
       "f_23  98000.0 -0.220002  1.494836 -8.234305 -1.203204 -0.219046   0.764690   \n",
       "f_24  98000.0  0.166434  1.543014 -7.792363 -0.903385  0.167074   1.217432   \n",
       "f_25  98000.0 -0.064309  1.576086 -6.593842 -1.128966 -0.099221   0.987684   \n",
       "f_26  98000.0 -0.062540  1.428055 -7.375719 -0.975680 -0.070852   0.843212   \n",
       "f_27  98000.0  0.098472  1.305407 -7.335556 -0.746489  0.082230   0.925306   \n",
       "f_28  98000.0 -0.230910  1.528476 -6.954151 -1.262606 -0.271319   0.770516   \n",
       "\n",
       "            max  \n",
       "f_00   4.490521  \n",
       "f_01   4.324974  \n",
       "f_02   4.560247  \n",
       "f_03   4.399373  \n",
       "f_04   4.050549  \n",
       "f_05   4.710316  \n",
       "f_06   3.998595  \n",
       "f_07  32.000000  \n",
       "f_08  30.000000  \n",
       "f_09  44.000000  \n",
       "f_10  36.000000  \n",
       "f_11  28.000000  \n",
       "f_12  38.000000  \n",
       "f_13  30.000000  \n",
       "f_14   4.490521  \n",
       "f_15   4.270708  \n",
       "f_16   4.157538  \n",
       "f_17   4.230849  \n",
       "f_18   4.710316  \n",
       "f_19   4.560247  \n",
       "f_20   4.399373  \n",
       "f_21   4.135419  \n",
       "f_22   6.517721  \n",
       "f_23   6.054831  \n",
       "f_24   7.527271  \n",
       "f_25   7.544731  \n",
       "f_26   7.005608  \n",
       "f_27   7.205971  \n",
       "f_28   6.977150  "
      ]
     },
     "execution_count": 7,
     "metadata": {},
     "output_type": "execute_result"
    }
   ],
   "source": [
    "X_train.describe().T"
   ]
  },
  {
   "cell_type": "code",
   "execution_count": 8,
   "id": "bcd2314d-1f68-4a5b-b4fd-dcffa902b074",
   "metadata": {},
   "outputs": [
    {
     "name": "stdout",
     "output_type": "stream",
     "text": [
      "<class 'pandas.core.frame.DataFrame'>\n",
      "RangeIndex: 98000 entries, 0 to 97999\n",
      "Data columns (total 29 columns):\n",
      " #   Column  Non-Null Count  Dtype  \n",
      "---  ------  --------------  -----  \n",
      " 0   f_00    98000 non-null  float64\n",
      " 1   f_01    98000 non-null  float64\n",
      " 2   f_02    98000 non-null  float64\n",
      " 3   f_03    98000 non-null  float64\n",
      " 4   f_04    98000 non-null  float64\n",
      " 5   f_05    98000 non-null  float64\n",
      " 6   f_06    98000 non-null  float64\n",
      " 7   f_07    98000 non-null  int64  \n",
      " 8   f_08    98000 non-null  int64  \n",
      " 9   f_09    98000 non-null  int64  \n",
      " 10  f_10    98000 non-null  int64  \n",
      " 11  f_11    98000 non-null  int64  \n",
      " 12  f_12    98000 non-null  int64  \n",
      " 13  f_13    98000 non-null  int64  \n",
      " 14  f_14    98000 non-null  float64\n",
      " 15  f_15    98000 non-null  float64\n",
      " 16  f_16    98000 non-null  float64\n",
      " 17  f_17    98000 non-null  float64\n",
      " 18  f_18    98000 non-null  float64\n",
      " 19  f_19    98000 non-null  float64\n",
      " 20  f_20    98000 non-null  float64\n",
      " 21  f_21    98000 non-null  float64\n",
      " 22  f_22    98000 non-null  float64\n",
      " 23  f_23    98000 non-null  float64\n",
      " 24  f_24    98000 non-null  float64\n",
      " 25  f_25    98000 non-null  float64\n",
      " 26  f_26    98000 non-null  float64\n",
      " 27  f_27    98000 non-null  float64\n",
      " 28  f_28    98000 non-null  float64\n",
      "dtypes: float64(22), int64(7)\n",
      "memory usage: 21.7 MB\n"
     ]
    }
   ],
   "source": [
    "X_train.info()"
   ]
  },
  {
   "cell_type": "code",
   "execution_count": 9,
   "id": "a92da8cb-a8c2-4a19-b021-14dad9354fe4",
   "metadata": {},
   "outputs": [
    {
     "data": {
      "text/plain": [
       "<AxesSubplot:>"
      ]
     },
     "execution_count": 9,
     "metadata": {},
     "output_type": "execute_result"
    },
    {
     "data": {
      "image/png": "[encoded data removed]",
      "text/plain": [
       "<Figure size 1728x288 with 1 Axes>"
      ]
     },
     "metadata": {},
     "output_type": "display_data"
    }
   ],
   "source": [
    "X_train.boxplot(figsize=(24,4))"
   ]
  },
  {
   "cell_type": "markdown",
   "id": "e62502a2-d2e1-441f-984b-9f0584dd41b4",
   "metadata": {},
   "source": [
    "## Probably a good idea to scale the data"
   ]
  },
  {
   "cell_type": "code",
   "execution_count": 10,
   "id": "53b7ea2b-12a8-44b2-878b-5596b745cbea",
   "metadata": {},
   "outputs": [
    {
     "data": {
      "text/html": [
       "<div>\n",
       "<style scoped>\n",
       "    .dataframe tbody tr th:only-of-type {\n",
       "        vertical-align: middle;\n",
       "    }\n",
       "\n",
       "    .dataframe tbody tr th {\n",
       "        vertical-align: top;\n",
       "    }\n",
       "\n",
       "    .dataframe thead th {\n",
       "        text-align: right;\n",
       "    }\n",
       "</style>\n",
       "<table border=\"1\" class=\"dataframe\">\n",
       "  <thead>\n",
       "    <tr style=\"text-align: right;\">\n",
       "      <th></th>\n",
       "      <th>f_00</th>\n",
       "      <th>f_01</th>\n",
       "      <th>f_02</th>\n",
       "      <th>f_03</th>\n",
       "      <th>f_04</th>\n",
       "      <th>f_05</th>\n",
       "      <th>f_06</th>\n",
       "      <th>f_07</th>\n",
       "      <th>f_08</th>\n",
       "      <th>f_09</th>\n",
       "      <th>...</th>\n",
       "      <th>f_19</th>\n",
       "      <th>f_20</th>\n",
       "      <th>f_21</th>\n",
       "      <th>f_22</th>\n",
       "      <th>f_23</th>\n",
       "      <th>f_24</th>\n",
       "      <th>f_25</th>\n",
       "      <th>f_26</th>\n",
       "      <th>f_27</th>\n",
       "      <th>f_28</th>\n",
       "    </tr>\n",
       "  </thead>\n",
       "  <tbody>\n",
       "    <tr>\n",
       "      <th>0</th>\n",
       "      <td>-0.389230</td>\n",
       "      <td>-0.917652</td>\n",
       "      <td>0.647948</td>\n",
       "      <td>0.590717</td>\n",
       "      <td>-0.824836</td>\n",
       "      <td>0.734685</td>\n",
       "      <td>2.259470</td>\n",
       "      <td>-0.977987</td>\n",
       "      <td>1.383372</td>\n",
       "      <td>1.039938</td>\n",
       "      <td>...</td>\n",
       "      <td>-0.472922</td>\n",
       "      <td>-0.753925</td>\n",
       "      <td>-0.763110</td>\n",
       "      <td>-0.707876</td>\n",
       "      <td>0.911477</td>\n",
       "      <td>-0.678852</td>\n",
       "      <td>0.768543</td>\n",
       "      <td>0.960344</td>\n",
       "      <td>1.042536</td>\n",
       "      <td>0.694234</td>\n",
       "    </tr>\n",
       "    <tr>\n",
       "      <th>1</th>\n",
       "      <td>-0.688368</td>\n",
       "      <td>-0.458647</td>\n",
       "      <td>0.653182</td>\n",
       "      <td>0.995359</td>\n",
       "      <td>-1.644030</td>\n",
       "      <td>0.864898</td>\n",
       "      <td>-0.085604</td>\n",
       "      <td>-0.977987</td>\n",
       "      <td>-0.875405</td>\n",
       "      <td>-0.179925</td>\n",
       "      <td>...</td>\n",
       "      <td>-0.423594</td>\n",
       "      <td>-0.088164</td>\n",
       "      <td>-1.777545</td>\n",
       "      <td>-0.535582</td>\n",
       "      <td>0.453824</td>\n",
       "      <td>1.031505</td>\n",
       "      <td>-0.117686</td>\n",
       "      <td>-0.550783</td>\n",
       "      <td>0.367242</td>\n",
       "      <td>-1.636652</td>\n",
       "    </tr>\n",
       "  </tbody>\n",
       "</table>\n",
       "<p>2 rows × 29 columns</p>\n",
       "</div>"
      ],
      "text/plain": [
       "       f_00      f_01      f_02      f_03      f_04      f_05      f_06  \\\n",
       "0 -0.389230 -0.917652  0.647948  0.590717 -0.824836  0.734685  2.259470   \n",
       "1 -0.688368 -0.458647  0.653182  0.995359 -1.644030  0.864898 -0.085604   \n",
       "\n",
       "       f_07      f_08      f_09  ...      f_19      f_20      f_21      f_22  \\\n",
       "0 -0.977987  1.383372  1.039938  ... -0.472922 -0.753925 -0.763110 -0.707876   \n",
       "1 -0.977987 -0.875405 -0.179925  ... -0.423594 -0.088164 -1.777545 -0.535582   \n",
       "\n",
       "       f_23      f_24      f_25      f_26      f_27      f_28  \n",
       "0  0.911477 -0.678852  0.768543  0.960344  1.042536  0.694234  \n",
       "1  0.453824  1.031505 -0.117686 -0.550783  0.367242 -1.636652  \n",
       "\n",
       "[2 rows x 29 columns]"
      ]
     },
     "execution_count": 10,
     "metadata": {},
     "output_type": "execute_result"
    }
   ],
   "source": [
    "# standard_scaler = StandardScaler()\n",
    "# X_train = pd.DataFrame(standard_scaler.fit_transform(X_train), columns=X_train.columns)\n",
    "\n",
    "power_transformer = PowerTransformer()\n",
    "X_train = pd.DataFrame(power_transformer.fit_transform(X_train), columns=X_train.columns)\n",
    "X_train.head(2)"
   ]
  },
  {
   "cell_type": "code",
   "execution_count": 11,
   "id": "44258095-5a79-4b9b-bc6a-d846648f1c4c",
   "metadata": {},
   "outputs": [
    {
     "data": {
      "text/plain": [
       "<AxesSubplot:>"
      ]
     },
     "execution_count": 11,
     "metadata": {},
     "output_type": "execute_result"
    },
    {
     "data": {
      "image/png": "[encoded data removed]",
      "text/plain": [
       "<Figure size 1728x288 with 1 Axes>"
      ]
     },
     "metadata": {},
     "output_type": "display_data"
    }
   ],
   "source": [
    "X_train.boxplot(figsize=(24,4))"
   ]
  },
  {
   "cell_type": "code",
   "execution_count": 12,
   "id": "02e6d97e-9258-42f7-8485-fb402ba1e394",
   "metadata": {},
   "outputs": [],
   "source": [
    "# for col in X_train.columns:    \n",
    "#     plt.figure(figsize=(5,5))\n",
    "#     res = stats.probplot(X_train[col], plot=plt)"
   ]
  },
  {
   "cell_type": "markdown",
   "id": "1b84ea7d-d711-4a33-bd86-54d322b1a5b6",
   "metadata": {},
   "source": [
    "## DBSCAN\n",
    "\n",
    "* it's hard to pick the right eps and min_samples to get exactly 7 clusters"
   ]
  },
  {
   "cell_type": "code",
   "execution_count": 13,
   "id": "38a9570a-708b-4d6b-bf22-b9ef2a9ab824",
   "metadata": {},
   "outputs": [],
   "source": [
    "# Epsilon = np.linspace(0.05, 10, 20)\n",
    "# Min_Samples = [5]\n",
    "\n",
    "# sil_scores = {}\n",
    "\n",
    "# for eps in Epsilon:\n",
    "#     for min_samples in Min_Samples:    \n",
    "        \n",
    "#         dbscan = DBSCAN(eps=eps, min_samples=min_samples, metric='cosine')\n",
    "#         dbscan.fit(X_train)\n",
    "#         num_clusters = len(np.unique(dbscan.labels_))\n",
    "        \n",
    "#         if num_clusters == 1:\n",
    "#             print(f'eps={eps} | min_samples={min_samples} | number of clusters = {num_clusters}')\n",
    "#             break\n",
    "#         else:\n",
    "#             sil_score = silhouette_score(X_train, dbscan.labels_)\n",
    "#             sil_scores[(eps,min_samples)] = sil_score\n",
    "#             print(f'eps={np.round(eps,4)} | min_samples={min_samples} | number of clusters = {num_clusters} | silhouette_score = {sil_score}')"
   ]
  },
  {
   "cell_type": "markdown",
   "id": "a3a80cb0-838b-4974-8a09-d9b02030b221",
   "metadata": {},
   "source": [
    "## K-Means"
   ]
  },
  {
   "cell_type": "markdown",
   "id": "348e4b66-3ef3-465d-b4a6-bc809e21786e",
   "metadata": {},
   "source": [
    "### Let's try K-means on unscaled data"
   ]
  },
  {
   "cell_type": "code",
   "execution_count": 44,
   "id": "91876c58-66ef-4f3c-84fd-330f9f256755",
   "metadata": {},
   "outputs": [
    {
     "data": {
      "text/plain": [
       "KMeans(n_clusters=7, random_state=42)"
      ]
     },
     "execution_count": 44,
     "metadata": {},
     "output_type": "execute_result"
    }
   ],
   "source": [
    "kmeans = KMeans(n_clusters=7, n_init=10, max_iter=300, random_state=seed)\n",
    "\n",
    "kmeans.fit(df.drop('id', axis=1))"
   ]
  },
  {
   "cell_type": "code",
   "execution_count": 45,
   "id": "5e645587-d9d7-417f-840d-dbffcd0b3c3c",
   "metadata": {},
   "outputs": [],
   "source": [
    "submission = pd.read_csv('../../../Data/Tabular Playground Series/tabular-playground-series-jul-2022/sample_submission.csv')\n",
    "submission['Predicted'] = kmeans.predict(X_train)\n",
    "submission.to_csv(\"submission.csv\", index=False)"
   ]
  },
  {
   "cell_type": "markdown",
   "id": "fd92b7e3-689c-4418-8ece-c3b265fa64d8",
   "metadata": {},
   "source": [
    "### This results in a very poor leaderboard score"
   ]
  },
  {
   "cell_type": "markdown",
   "id": "95579505-3683-4627-a520-c86a0c138954",
   "metadata": {},
   "source": [
    "### Leaderboard Score\n",
    "\n",
    "<img src=\"k-means-7-clusters-unscaled.png\">"
   ]
  },
  {
   "cell_type": "markdown",
   "id": "57289840-e51f-4283-a47f-6e5da9ba1d5b",
   "metadata": {},
   "source": [
    "### Now, let's try K-means on scaled data"
   ]
  },
  {
   "cell_type": "code",
   "execution_count": 46,
   "id": "f098829e-f09e-45fa-b5f9-b0f736741505",
   "metadata": {},
   "outputs": [
    {
     "data": {
      "text/plain": [
       "KMeans(n_clusters=7, random_state=42)"
      ]
     },
     "execution_count": 46,
     "metadata": {},
     "output_type": "execute_result"
    }
   ],
   "source": [
    "kmeans = KMeans(n_clusters=7, n_init=10, max_iter=300, random_state=seed)\n",
    "\n",
    "kmeans.fit(X_train)"
   ]
  },
  {
   "cell_type": "code",
   "execution_count": 47,
   "id": "6977a2de-3a4e-4c9d-8c57-efb4f106202c",
   "metadata": {},
   "outputs": [],
   "source": [
    "submission = pd.read_csv('../../../Data/Tabular Playground Series/tabular-playground-series-jul-2022/sample_submission.csv')\n",
    "submission['Predicted'] = kmeans.predict(X_train)\n",
    "submission.to_csv(\"submission.csv\", index=False)"
   ]
  },
  {
   "cell_type": "markdown",
   "id": "9855bc22-5b1b-4b84-ae8b-959ef242f319",
   "metadata": {},
   "source": [
    "### K-Means on scaled data is better, but still the score is very poor"
   ]
  },
  {
   "cell_type": "markdown",
   "id": "06dae8fe-fe65-4dec-b033-d10468b63f72",
   "metadata": {},
   "source": [
    "### Leaderboard Score\n",
    "\n",
    "<img src=\"k-means-7-clusters-scaled.png\">"
   ]
  },
  {
   "cell_type": "markdown",
   "id": "9fa7a218-d31a-4362-848b-219d3df23b9f",
   "metadata": {},
   "source": [
    "## Gaussian Mixture\n",
    "\n",
    "* I tried n_components from 2 to 19 and gm's aic/bic scores did not show me what was the optimal number of clusters"
   ]
  },
  {
   "cell_type": "code",
   "execution_count": 51,
   "id": "e57ce3b7-c1b8-4351-97ad-b5ca78ee3dc4",
   "metadata": {},
   "outputs": [],
   "source": [
    "# aic = []\n",
    "# bic = []\n",
    "\n",
    "# for n in range(2,20):    \n",
    "    \n",
    "#     gm = GaussianMixture(\n",
    "#         n_components=n, \n",
    "#         covariance_type='full',\n",
    "#         max_iter=300,\n",
    "#         random_state=seed,\n",
    "#         n_init=10,\n",
    "#     )\n",
    "\n",
    "#     gm.fit(X_train)\n",
    "    \n",
    "#     print(f'n_components={n} | Converged: {gm.converged_} | gm.weights_={gm.weights_}')\n",
    " \n",
    "#     aic.append(gm.aic(X_train))\n",
    "#     bic.append(gm.bic(X_train))    "
   ]
  },
  {
   "cell_type": "code",
   "execution_count": 38,
   "id": "f01d9052-f5ac-45db-9daa-c95fff1c1d4b",
   "metadata": {},
   "outputs": [
    {
     "data": {
      "text/plain": [
       "[<matplotlib.lines.Line2D at 0x25edc5923d0>]"
      ]
     },
     "execution_count": 38,
     "metadata": {},
     "output_type": "execute_result"
    },
    {
     "data": {
      "image/png": "[encoded data removed]",
      "text/plain": [
       "<Figure size 432x288 with 1 Axes>"
      ]
     },
     "metadata": {},
     "output_type": "display_data"
    }
   ],
   "source": [
    "plt.plot(aic)"
   ]
  },
  {
   "cell_type": "code",
   "execution_count": 39,
   "id": "156ca43b-1a0c-4cac-8311-16bc3ac04608",
   "metadata": {},
   "outputs": [
    {
     "data": {
      "text/plain": [
       "[<matplotlib.lines.Line2D at 0x25edc5798b0>]"
      ]
     },
     "execution_count": 39,
     "metadata": {},
     "output_type": "execute_result"
    },
    {
     "data": {
      "image/png": "[encoded data removed]",
      "text/plain": [
       "<Figure size 432x288 with 1 Axes>"
      ]
     },
     "metadata": {},
     "output_type": "display_data"
    }
   ],
   "source": [
    "plt.plot(bic)"
   ]
  },
  {
   "cell_type": "markdown",
   "id": "59bd6539-3701-4f51-b8ba-1c96cb2503f3",
   "metadata": {},
   "source": [
    "## Bayesian Gaussian Mixture\n",
    "\n",
    "* I ran BGM with 2-14 clusters and looked at the cluster weights. The model consistently picks up that there are exactly 7 clusters when n_clusters > 7\n",
    "* This proves that there are 7 clusters\n",
    "* Note that some people tried to look at silhouette_score to assess the clustering quality, but silhouette_score is not a good measure for clusters produced by a BGM model. It's more of a measure for K-Means. \n",
    "* I also looked at silhouette_score depending on the number of clusters and I confirm it doesn't work. See HOML2 page 267. "
   ]
  },
  {
   "cell_type": "code",
   "execution_count": 40,
   "id": "aac54878-a054-47bb-8765-4526c0a7587a",
   "metadata": {},
   "outputs": [
    {
     "name": "stdout",
     "output_type": "stream",
     "text": [
      "n_components=2 | Converged: True | bgm.weights_=[0.55336502 0.44663498]\n",
      "n_components=3 | Converged: True | bgm.weights_=[0.50308969 0.36830055 0.12860975]\n"
     ]
    },
    {
     "name": "stderr",
     "output_type": "stream",
     "text": [
      "C:\\Users\\yurit\\anaconda3\\envs\\ml\\lib\\site-packages\\sklearn\\mixture\\_base.py:265: ConvergenceWarning: Initialization 10 did not converge. Try different init parameters, or increase max_iter, tol or check for degenerate data.\n",
      "  warnings.warn('Initialization %d did not converge. '\n"
     ]
    },
    {
     "name": "stdout",
     "output_type": "stream",
     "text": [
      "n_components=4 | Converged: False | bgm.weights_=[0.29078419 0.28828509 0.19228251 0.22864821]\n"
     ]
    },
    {
     "name": "stderr",
     "output_type": "stream",
     "text": [
      "C:\\Users\\yurit\\anaconda3\\envs\\ml\\lib\\site-packages\\sklearn\\mixture\\_base.py:265: ConvergenceWarning: Initialization 10 did not converge. Try different init parameters, or increase max_iter, tol or check for degenerate data.\n",
      "  warnings.warn('Initialization %d did not converge. '\n"
     ]
    },
    {
     "name": "stdout",
     "output_type": "stream",
     "text": [
      "n_components=5 | Converged: False | bgm.weights_=[0.23432007 0.22473966 0.14793518 0.28840897 0.10459612]\n",
      "n_components=6 | Converged: True | bgm.weights_=[0.22487064 0.21983356 0.1713162  0.11005515 0.14197884 0.13194561]\n",
      "n_components=7 | Converged: True | bgm.weights_=[0.16313081 0.16216267 0.13239644 0.16845291 0.11895164 0.13840276\n",
      " 0.11650278]\n",
      "n_components=8 | Converged: True | bgm.weights_=[0.03666162 0.13725724 0.11640445 0.16925412 0.08367377 0.16234201\n",
      " 0.16192551 0.13248128]\n",
      "n_components=9 | Converged: True | bgm.weights_=[0.02607927 0.09192113 0.13058398 0.13292735 0.12497994 0.11710999\n",
      " 0.16975888 0.04757062 0.15906883]\n",
      "n_components=10 | Converged: True | bgm.weights_=[0.13099743 0.13488979 0.02840725 0.13313074 0.13792428 0.11345336\n",
      " 0.0260834  0.13035151 0.13742947 0.02733277]\n",
      "n_components=11 | Converged: True | bgm.weights_=[0.0937529  0.13320518 0.11056695 0.02806175 0.02736319 0.13095325\n",
      " 0.12484145 0.0479973  0.16929022 0.02608078 0.10788703]\n",
      "n_components=12 | Converged: True | bgm.weights_=[0.09355173 0.13504712 0.13335379 0.13390986 0.02840715 0.03801222\n",
      " 0.02608296 0.02850209 0.12583027 0.07802283 0.13191189 0.0473681 ]\n",
      "n_components=13 | Converged: True | bgm.weights_=[0.09394321 0.12089416 0.12730098 0.0774734  0.11704277 0.03810695\n",
      " 0.12952581 0.04761428 0.03887357 0.02610979 0.12634791 0.02832165\n",
      " 0.02844551]\n",
      "n_components=14 | Converged: True | bgm.weights_=[0.10187775 0.0473885  0.02823134 0.11787482 0.0288159  0.02730286\n",
      " 0.11160323 0.110954   0.0195677  0.13568445 0.04496927 0.09343517\n",
      " 0.10616244 0.02613257]\n"
     ]
    }
   ],
   "source": [
    "for n in range(2,15):\n",
    "    bgm = BayesianGaussianMixture(\n",
    "        n_components=n, \n",
    "        covariance_type='full', \n",
    "        max_iter=300, \n",
    "        random_state=seed, \n",
    "        n_init=10\n",
    "    )\n",
    "\n",
    "    bgm.fit(X_train)\n",
    "    \n",
    "    print(f'n_components={n} | Converged: {bgm.converged_} | bgm.weights_={bgm.weights_}')"
   ]
  },
  {
   "cell_type": "markdown",
   "id": "7945220e-9129-4f05-a530-534c8f68f5c6",
   "metadata": {},
   "source": [
    "#### Out of 14 cluster weights, 7 weights are close to zero and 7 are not, which illustrates that there are 7 clusters"
   ]
  },
  {
   "cell_type": "code",
   "execution_count": 42,
   "id": "57855870-5230-4d29-997b-144d042999f0",
   "metadata": {},
   "outputs": [
    {
     "data": {
      "text/plain": [
       "[<matplotlib.lines.Line2D at 0x25edca4d7f0>]"
      ]
     },
     "execution_count": 42,
     "metadata": {},
     "output_type": "execute_result"
    },
    {
     "data": {
      "image/png": "[encoded data removed]",
      "text/plain": [
       "<Figure size 432x288 with 1 Axes>"
      ]
     },
     "metadata": {},
     "output_type": "display_data"
    }
   ],
   "source": [
    "plt.plot([0.10187775, 0.0473885,  0.02823134, 0.11787482, 0.0288159,  0.02730286, 0.11160323, 0.110954,   0.0195677,  0.13568445, 0.04496927, 0.09343517, 0.10616244, 0.02613257])"
   ]
  },
  {
   "cell_type": "markdown",
   "id": "b06a317f-0b6c-4356-87d8-08b18e06c448",
   "metadata": {},
   "source": [
    "## Let's looks at BGM leaderboard result on exactly 7 clusters"
   ]
  },
  {
   "cell_type": "code",
   "execution_count": 14,
   "id": "5fdb28ac-dca7-4187-9552-7f304ae437d3",
   "metadata": {},
   "outputs": [
    {
     "data": {
      "text/plain": [
       "BayesianGaussianMixture(max_iter=300, n_components=7, n_init=15,\n",
       "                        random_state=42)"
      ]
     },
     "execution_count": 14,
     "metadata": {},
     "output_type": "execute_result"
    }
   ],
   "source": [
    "bgm = BayesianGaussianMixture(\n",
    "    n_components=7, \n",
    "    covariance_type='full', \n",
    "    max_iter=300, \n",
    "    random_state=seed, \n",
    "    n_init=15\n",
    ")\n",
    "\n",
    "bgm.fit(X_train)"
   ]
  },
  {
   "cell_type": "code",
   "execution_count": 15,
   "id": "eee51328-0967-4335-8d00-bc523eca0ad1",
   "metadata": {},
   "outputs": [
    {
     "data": {
      "text/plain": [
       "True"
      ]
     },
     "execution_count": 15,
     "metadata": {},
     "output_type": "execute_result"
    }
   ],
   "source": [
    "bgm.converged_"
   ]
  },
  {
   "cell_type": "code",
   "execution_count": 16,
   "id": "fb604f8e-b91d-4ec4-8a6f-898995b84ca7",
   "metadata": {},
   "outputs": [
    {
     "data": {
      "text/plain": [
       "[<matplotlib.lines.Line2D at 0x1c797c94be0>]"
      ]
     },
     "execution_count": 16,
     "metadata": {},
     "output_type": "execute_result"
    },
    {
     "data": {
      "image/png": "[encoded data removed]",
      "text/plain": [
       "<Figure size 432x288 with 1 Axes>"
      ]
     },
     "metadata": {},
     "output_type": "display_data"
    }
   ],
   "source": [
    "plt.plot(bgm.weights_)"
   ]
  },
  {
   "cell_type": "code",
   "execution_count": 55,
   "id": "3fa32046-6e1e-4444-aef8-6cf7ddde9a97",
   "metadata": {},
   "outputs": [],
   "source": [
    "submission = pd.read_csv('../../../Data/Tabular Playground Series/tabular-playground-series-jul-2022/sample_submission.csv')\n",
    "submission['Predicted'] = bgm.predict(X_train)\n",
    "submission.to_csv(\"submission.csv\", index=False)"
   ]
  },
  {
   "cell_type": "markdown",
   "id": "a7eead17-21ac-40ce-ab2d-d9c8bf3cfd29",
   "metadata": {},
   "source": [
    "## A significant improvement vs. previous models!"
   ]
  },
  {
   "cell_type": "markdown",
   "id": "840d898f-2b1d-468e-9e75-320448e46eb9",
   "metadata": {},
   "source": [
    "### Leaderboard Score\n",
    "\n",
    "<img src=\"bgm-7-clusters-scaled.png\">"
   ]
  },
  {
   "cell_type": "markdown",
   "id": "37ac4a6f-db92-444b-981f-e638e4af78b2",
   "metadata": {},
   "source": [
    "# Let's examine which features are useful"
   ]
  },
  {
   "cell_type": "code",
   "execution_count": 17,
   "id": "b18fcf99-6634-4f54-bfde-76e30bf81a71",
   "metadata": {},
   "outputs": [
    {
     "data": {
      "image/png": "[encoded data removed]",
      "text/plain": [
       "<Figure size 864x144 with 1 Axes>"
      ]
     },
     "metadata": {},
     "output_type": "display_data"
    },
    {
     "data": {
      "image/png": "[encoded data removed]",
      "text/plain": [
       "<Figure size 864x144 with 1 Axes>"
      ]
     },
     "metadata": {},
     "output_type": "display_data"
    },
    {
     "data": {
      "image/png": "[encoded data removed]",
      "text/plain": [
       "<Figure size 864x144 with 1 Axes>"
      ]
     },
     "metadata": {},
     "output_type": "display_data"
    }
   ],
   "source": [
    "for n in range(1,4):\n",
    "    pca = PCA(n_components=n, random_state=seed)\n",
    "\n",
    "    p = pca.fit_transform(X_train)\n",
    "\n",
    "    inv_transform = pca.inverse_transform(p)\n",
    "\n",
    "    plt.figure(figsize=(12,2))\n",
    "    pd.DataFrame(inv_transform, columns=X_train.columns).std().plot.bar(title=f'n_components={n}')"
   ]
  },
  {
   "cell_type": "code",
   "execution_count": 18,
   "id": "f16d581d-2b9d-4ef5-a002-9c058afc65e3",
   "metadata": {},
   "outputs": [],
   "source": [
    "most_var_features = ['f_07','f_08','f_09','f_10','f_11','f_12','f_13','f_22','f_23','f_24','f_25','f_26','f_27','f_28']"
   ]
  },
  {
   "cell_type": "code",
   "execution_count": null,
   "id": "de8a03a2-7361-4520-abff-e1ab24974d49",
   "metadata": {},
   "outputs": [],
   "source": [
    "bgm = BayesianGaussianMixture(\n",
    "    n_components=7, \n",
    "    covariance_type='full', \n",
    "    max_iter=300, \n",
    "    random_state=seed, \n",
    "    n_init=15\n",
    ")\n",
    "\n",
    "bgm.fit(X_train[most_var_features])"
   ]
  },
  {
   "cell_type": "code",
   "execution_count": 93,
   "id": "c14de081-ae33-46cd-856b-df3bd9781fbc",
   "metadata": {},
   "outputs": [
    {
     "data": {
      "text/plain": [
       "True"
      ]
     },
     "execution_count": 93,
     "metadata": {},
     "output_type": "execute_result"
    }
   ],
   "source": [
    "bgm.converged_"
   ]
  },
  {
   "cell_type": "markdown",
   "id": "8780aa36-390d-4b7a-a4b2-58c03dd8ec88",
   "metadata": {},
   "source": [
    "### It seems reducing the number of features also reduces the number of clusters that BGM recognizes (see weight #3 comes out to be very close to 0)"
   ]
  },
  {
   "cell_type": "code",
   "execution_count": 94,
   "id": "e74bd366-912d-45ed-9fc9-7030b085bb54",
   "metadata": {},
   "outputs": [
    {
     "data": {
      "text/plain": [
       "[<matplotlib.lines.Line2D at 0x25eef5b9df0>]"
      ]
     },
     "execution_count": 94,
     "metadata": {},
     "output_type": "execute_result"
    },
    {
     "data": {
      "image/png": "[encoded data removed]",
      "text/plain": [
       "<Figure size 432x288 with 1 Axes>"
      ]
     },
     "metadata": {},
     "output_type": "display_data"
    }
   ],
   "source": [
    "plt.plot(bgm.weights_)"
   ]
  },
  {
   "cell_type": "code",
   "execution_count": 95,
   "id": "534aaea3-5fb4-4a98-9fa6-185127670f5b",
   "metadata": {},
   "outputs": [],
   "source": [
    "submission = pd.read_csv('../../../Data/Tabular Playground Series/tabular-playground-series-jul-2022/sample_submission.csv')\n",
    "submission['Predicted'] = bgm.predict(X_train[most_var_features])\n",
    "submission.to_csv(\"submission.csv\", index=False)"
   ]
  },
  {
   "cell_type": "markdown",
   "id": "e70c978f-376b-46e4-ac91-b2859534f97a",
   "metadata": {},
   "source": [
    "## Reducing number of features decreses LB Score and it also seems the data loses one cluster (see weights chart above)"
   ]
  },
  {
   "cell_type": "markdown",
   "id": "cef6b0f8-357a-4aab-9dce-fbc34f151582",
   "metadata": {},
   "source": [
    "### Leaderboard Score\n",
    "\n",
    "<img src=\"bgm-7-clusters-scaled-reduced.png\">"
   ]
  },
  {
   "cell_type": "markdown",
   "id": "6a1b123b-79f6-4f74-9fcc-c62037011355",
   "metadata": {},
   "source": [
    "## There are 7 features which only take integer values\n",
    "\n",
    "* after PowerTransform, they are no longer integer features in X_train"
   ]
  },
  {
   "cell_type": "code",
   "execution_count": 19,
   "id": "5f95f75f-6d91-4186-94f6-ef6794babdc6",
   "metadata": {},
   "outputs": [],
   "source": [
    "int_features = ['f_07','f_08','f_09','f_10','f_11','f_12','f_13']"
   ]
  },
  {
   "cell_type": "code",
   "execution_count": 20,
   "id": "49477d63-c5ef-4e93-ad39-1ae71ef2220f",
   "metadata": {},
   "outputs": [
    {
     "data": {
      "text/html": [
       "<div>\n",
       "<style scoped>\n",
       "    .dataframe tbody tr th:only-of-type {\n",
       "        vertical-align: middle;\n",
       "    }\n",
       "\n",
       "    .dataframe tbody tr th {\n",
       "        vertical-align: top;\n",
       "    }\n",
       "\n",
       "    .dataframe thead th {\n",
       "        text-align: right;\n",
       "    }\n",
       "</style>\n",
       "<table border=\"1\" class=\"dataframe\">\n",
       "  <thead>\n",
       "    <tr style=\"text-align: right;\">\n",
       "      <th></th>\n",
       "      <th>f_07</th>\n",
       "      <th>f_08</th>\n",
       "      <th>f_09</th>\n",
       "      <th>f_10</th>\n",
       "      <th>f_11</th>\n",
       "      <th>f_12</th>\n",
       "      <th>f_13</th>\n",
       "    </tr>\n",
       "  </thead>\n",
       "  <tbody>\n",
       "    <tr>\n",
       "      <th>0</th>\n",
       "      <td>2</td>\n",
       "      <td>13</td>\n",
       "      <td>14</td>\n",
       "      <td>5</td>\n",
       "      <td>13</td>\n",
       "      <td>6</td>\n",
       "      <td>6</td>\n",
       "    </tr>\n",
       "    <tr>\n",
       "      <th>1</th>\n",
       "      <td>2</td>\n",
       "      <td>3</td>\n",
       "      <td>6</td>\n",
       "      <td>4</td>\n",
       "      <td>6</td>\n",
       "      <td>16</td>\n",
       "      <td>9</td>\n",
       "    </tr>\n",
       "    <tr>\n",
       "      <th>2</th>\n",
       "      <td>5</td>\n",
       "      <td>11</td>\n",
       "      <td>5</td>\n",
       "      <td>8</td>\n",
       "      <td>9</td>\n",
       "      <td>3</td>\n",
       "      <td>11</td>\n",
       "    </tr>\n",
       "    <tr>\n",
       "      <th>3</th>\n",
       "      <td>6</td>\n",
       "      <td>2</td>\n",
       "      <td>13</td>\n",
       "      <td>8</td>\n",
       "      <td>9</td>\n",
       "      <td>6</td>\n",
       "      <td>4</td>\n",
       "    </tr>\n",
       "    <tr>\n",
       "      <th>4</th>\n",
       "      <td>8</td>\n",
       "      <td>7</td>\n",
       "      <td>5</td>\n",
       "      <td>3</td>\n",
       "      <td>1</td>\n",
       "      <td>13</td>\n",
       "      <td>11</td>\n",
       "    </tr>\n",
       "  </tbody>\n",
       "</table>\n",
       "</div>"
      ],
      "text/plain": [
       "   f_07  f_08  f_09  f_10  f_11  f_12  f_13\n",
       "0     2    13    14     5    13     6     6\n",
       "1     2     3     6     4     6    16     9\n",
       "2     5    11     5     8     9     3    11\n",
       "3     6     2    13     8     9     6     4\n",
       "4     8     7     5     3     1    13    11"
      ]
     },
     "execution_count": 20,
     "metadata": {},
     "output_type": "execute_result"
    }
   ],
   "source": [
    "df[int_features].head()"
   ]
  },
  {
   "cell_type": "code",
   "execution_count": 21,
   "id": "d62f0962-14a0-48c2-9909-44fc4a769c78",
   "metadata": {},
   "outputs": [
    {
     "data": {
      "text/html": [
       "<div>\n",
       "<style scoped>\n",
       "    .dataframe tbody tr th:only-of-type {\n",
       "        vertical-align: middle;\n",
       "    }\n",
       "\n",
       "    .dataframe tbody tr th {\n",
       "        vertical-align: top;\n",
       "    }\n",
       "\n",
       "    .dataframe thead th {\n",
       "        text-align: right;\n",
       "    }\n",
       "</style>\n",
       "<table border=\"1\" class=\"dataframe\">\n",
       "  <thead>\n",
       "    <tr style=\"text-align: right;\">\n",
       "      <th></th>\n",
       "      <th>f_07</th>\n",
       "      <th>f_08</th>\n",
       "      <th>f_09</th>\n",
       "      <th>f_10</th>\n",
       "      <th>f_11</th>\n",
       "      <th>f_12</th>\n",
       "      <th>f_13</th>\n",
       "    </tr>\n",
       "  </thead>\n",
       "  <tbody>\n",
       "    <tr>\n",
       "      <th>0</th>\n",
       "      <td>-0.977987</td>\n",
       "      <td>1.383372</td>\n",
       "      <td>1.039938</td>\n",
       "      <td>-0.567775</td>\n",
       "      <td>1.142180</td>\n",
       "      <td>-0.083596</td>\n",
       "      <td>0.086073</td>\n",
       "    </tr>\n",
       "    <tr>\n",
       "      <th>1</th>\n",
       "      <td>-0.977987</td>\n",
       "      <td>-0.875405</td>\n",
       "      <td>-0.179925</td>\n",
       "      <td>-0.837020</td>\n",
       "      <td>-0.420725</td>\n",
       "      <td>1.725834</td>\n",
       "      <td>0.738456</td>\n",
       "    </tr>\n",
       "    <tr>\n",
       "      <th>2</th>\n",
       "      <td>0.021718</td>\n",
       "      <td>1.017648</td>\n",
       "      <td>-0.394246</td>\n",
       "      <td>0.124844</td>\n",
       "      <td>0.296135</td>\n",
       "      <td>-0.928325</td>\n",
       "      <td>1.118063</td>\n",
       "    </tr>\n",
       "    <tr>\n",
       "      <th>3</th>\n",
       "      <td>0.286548</td>\n",
       "      <td>-1.213526</td>\n",
       "      <td>0.917564</td>\n",
       "      <td>0.124844</td>\n",
       "      <td>0.296135</td>\n",
       "      <td>-0.083596</td>\n",
       "      <td>-0.434221</td>\n",
       "    </tr>\n",
       "    <tr>\n",
       "      <th>4</th>\n",
       "      <td>0.756900</td>\n",
       "      <td>0.187543</td>\n",
       "      <td>-0.394246</td>\n",
       "      <td>-1.135381</td>\n",
       "      <td>-1.954502</td>\n",
       "      <td>1.271662</td>\n",
       "      <td>1.118063</td>\n",
       "    </tr>\n",
       "  </tbody>\n",
       "</table>\n",
       "</div>"
      ],
      "text/plain": [
       "       f_07      f_08      f_09      f_10      f_11      f_12      f_13\n",
       "0 -0.977987  1.383372  1.039938 -0.567775  1.142180 -0.083596  0.086073\n",
       "1 -0.977987 -0.875405 -0.179925 -0.837020 -0.420725  1.725834  0.738456\n",
       "2  0.021718  1.017648 -0.394246  0.124844  0.296135 -0.928325  1.118063\n",
       "3  0.286548 -1.213526  0.917564  0.124844  0.296135 -0.083596 -0.434221\n",
       "4  0.756900  0.187543 -0.394246 -1.135381 -1.954502  1.271662  1.118063"
      ]
     },
     "execution_count": 21,
     "metadata": {},
     "output_type": "execute_result"
    }
   ],
   "source": [
    "X_train[int_features].head()"
   ]
  },
  {
   "cell_type": "code",
   "execution_count": 22,
   "id": "c84806a1-d069-49a4-b318-210b5edd40af",
   "metadata": {},
   "outputs": [
    {
     "name": "stdout",
     "output_type": "stream",
     "text": [
      "f_07: 32\n",
      "f_08: 29\n",
      "f_09: 45\n",
      "f_10: 37\n",
      "f_11: 29\n",
      "f_12: 39\n",
      "f_13: 30\n"
     ]
    }
   ],
   "source": [
    "for feat in int_features:\n",
    "    print(f'{feat}: {df[feat].nunique()}')"
   ]
  },
  {
   "cell_type": "markdown",
   "id": "57e0e8e9-8acc-45de-97b9-56ccb9685ce9",
   "metadata": {},
   "source": [
    "### We might want to explore stricking int_features into CatBoost without PowerTransform as categorical features"
   ]
  },
  {
   "cell_type": "code",
   "execution_count": 23,
   "id": "3f37924f-2125-4a82-b441-db23835059ec",
   "metadata": {},
   "outputs": [
    {
     "name": "stdout",
     "output_type": "stream",
     "text": [
      "f_07:\n",
      "[ 0  1  2  3  4  5  6  7  8  9 10 11 12 13 14 15 16 17 18 19 20 21 22 23\n",
      " 24 25 26 27 28 29 30 32]\n",
      "\n",
      "\n",
      "f_08:\n",
      "[ 0  1  2  3  4  5  6  7  8  9 10 11 12 13 14 15 16 17 18 19 20 21 22 23\n",
      " 24 25 26 27 30]\n",
      "\n",
      "\n",
      "f_09:\n",
      "[ 0  1  2  3  4  5  6  7  8  9 10 11 12 13 14 15 16 17 18 19 20 21 22 23\n",
      " 24 25 26 27 28 29 30 31 32 33 34 35 36 37 38 39 40 41 42 43 44]\n",
      "\n",
      "\n",
      "f_10:\n",
      "[ 0  1  2  3  4  5  6  7  8  9 10 11 12 13 14 15 16 17 18 19 20 21 22 23\n",
      " 24 25 26 27 28 29 30 31 32 33 34 35 36]\n",
      "\n",
      "\n",
      "f_11:\n",
      "[ 0  1  2  3  4  5  6  7  8  9 10 11 12 13 14 15 16 17 18 19 20 21 22 23\n",
      " 24 25 26 27 28]\n",
      "\n",
      "\n",
      "f_12:\n",
      "[ 0  1  2  3  4  5  6  7  8  9 10 11 12 13 14 15 16 17 18 19 20 21 22 23\n",
      " 24 25 26 27 28 29 30 31 32 33 34 35 36 37 38]\n",
      "\n",
      "\n",
      "f_13:\n",
      "[ 0  1  2  3  4  5  6  7  8  9 10 11 12 13 14 15 16 17 18 19 20 21 22 23\n",
      " 24 25 26 27 28 30]\n",
      "\n",
      "\n"
     ]
    }
   ],
   "source": [
    "for feat in int_features:\n",
    "    print(f'{feat}:')\n",
    "    print(f'{df[feat].sort_values().unique()}')\n",
    "    print('\\n')"
   ]
  },
  {
   "cell_type": "markdown",
   "id": "029b2cd7-674e-4554-8089-6e0582432d27",
   "metadata": {},
   "source": [
    "## Let's use BGM on 7 clusters to build a supervised learning problem"
   ]
  },
  {
   "cell_type": "code",
   "execution_count": 24,
   "id": "e455cc2c-e2e8-4801-9968-0ae9d8a639e9",
   "metadata": {},
   "outputs": [
    {
     "data": {
      "text/plain": [
       "BayesianGaussianMixture(max_iter=300, n_components=7, n_init=15,\n",
       "                        random_state=42)"
      ]
     },
     "execution_count": 24,
     "metadata": {},
     "output_type": "execute_result"
    }
   ],
   "source": [
    "bgm = BayesianGaussianMixture(\n",
    "    n_components=7, \n",
    "    covariance_type='full', \n",
    "    max_iter=300, \n",
    "    random_state=seed, \n",
    "    n_init=15\n",
    ")\n",
    "\n",
    "bgm.fit(X_train)"
   ]
  },
  {
   "cell_type": "code",
   "execution_count": 25,
   "id": "455ed2e1-7852-4894-b163-a8f56dee0eb7",
   "metadata": {},
   "outputs": [
    {
     "data": {
      "text/plain": [
       "True"
      ]
     },
     "execution_count": 25,
     "metadata": {},
     "output_type": "execute_result"
    }
   ],
   "source": [
    "bgm.converged_"
   ]
  },
  {
   "cell_type": "code",
   "execution_count": 26,
   "id": "49484765-8a4f-4e3a-a463-b13266aff7c2",
   "metadata": {},
   "outputs": [
    {
     "data": {
      "text/plain": [
       "[<matplotlib.lines.Line2D at 0x1c7990a62e0>]"
      ]
     },
     "execution_count": 26,
     "metadata": {},
     "output_type": "execute_result"
    },
    {
     "data": {
      "image/png": "[encoded data removed]",
      "text/plain": [
       "<Figure size 432x288 with 1 Axes>"
      ]
     },
     "metadata": {},
     "output_type": "display_data"
    }
   ],
   "source": [
    "plt.plot(bgm.weights_)"
   ]
  },
  {
   "cell_type": "code",
   "execution_count": 27,
   "id": "bd7e463e-0c02-45cf-8e3d-d5419c1744d5",
   "metadata": {},
   "outputs": [],
   "source": [
    "y_train = bgm.predict(X_train)\n",
    "proba = bgm.predict_proba(X_train)"
   ]
  },
  {
   "cell_type": "code",
   "execution_count": 28,
   "id": "dfd7d9f3-7696-46cc-b51d-58425575af56",
   "metadata": {},
   "outputs": [
    {
     "data": {
      "text/plain": [
       "array([5, 4, 5, 2, 3], dtype=int64)"
      ]
     },
     "execution_count": 28,
     "metadata": {},
     "output_type": "execute_result"
    }
   ],
   "source": [
    "y_train[:5]"
   ]
  },
  {
   "cell_type": "code",
   "execution_count": 29,
   "id": "86f8ad9c-e0bb-4626-93d7-561579c581e1",
   "metadata": {},
   "outputs": [
    {
     "data": {
      "text/plain": [
       "array([[0.  , 0.  , 0.  , 0.  , 0.01, 0.98, 0.  ],\n",
       "       [0.05, 0.  , 0.02, 0.01, 0.9 , 0.  , 0.02],\n",
       "       [0.  , 0.11, 0.  , 0.  , 0.  , 0.89, 0.  ],\n",
       "       [0.01, 0.08, 0.87, 0.03, 0.01, 0.  , 0.  ],\n",
       "       [0.  , 0.  , 0.  , 0.98, 0.02, 0.  , 0.  ],\n",
       "       [0.02, 0.  , 0.  , 0.22, 0.73, 0.  , 0.03],\n",
       "       [0.  , 0.  , 1.  , 0.  , 0.  , 0.  , 0.  ],\n",
       "       [0.  , 0.04, 0.  , 0.  , 0.02, 0.92, 0.  ],\n",
       "       [0.02, 0.  , 0.  , 0.  , 0.78, 0.2 , 0.  ],\n",
       "       [0.6 , 0.  , 0.  , 0.  , 0.  , 0.4 , 0.  ]])"
      ]
     },
     "execution_count": 29,
     "metadata": {},
     "output_type": "execute_result"
    }
   ],
   "source": [
    "np.round(proba[:10],2)"
   ]
  },
  {
   "cell_type": "code",
   "execution_count": 30,
   "id": "010d6e5c-ae23-49a5-a3f8-5ed771fd47be",
   "metadata": {},
   "outputs": [],
   "source": [
    "max_proba = np.max(proba,axis=1)"
   ]
  },
  {
   "cell_type": "code",
   "execution_count": 31,
   "id": "4e2e2fc6-71d5-46d1-95dd-0aa7f14db1c0",
   "metadata": {},
   "outputs": [
    {
     "data": {
      "text/plain": [
       "array([0.97786138, 0.90289198, 0.88644387, 0.86863027, 0.98283882,\n",
       "       0.72572435, 0.99722166, 0.92475382, 0.77867506, 0.59579212])"
      ]
     },
     "execution_count": 31,
     "metadata": {},
     "output_type": "execute_result"
    }
   ],
   "source": [
    "max_proba[:10]"
   ]
  },
  {
   "cell_type": "code",
   "execution_count": 32,
   "id": "8b2bb8ff-6aa8-4e2e-abbb-3b01fd0ef5ee",
   "metadata": {},
   "outputs": [
    {
     "data": {
      "image/png": "[encoded data removed]",
      "text/plain": [
       "<Figure size 432x288 with 1 Axes>"
      ]
     },
     "metadata": {},
     "output_type": "display_data"
    }
   ],
   "source": [
    "_ = plt.hist(max_proba, bins=50)"
   ]
  },
  {
   "cell_type": "code",
   "execution_count": 33,
   "id": "c28fc779-3c2d-4593-8a32-a84b965b3428",
   "metadata": {},
   "outputs": [
    {
     "data": {
      "text/plain": [
       "<AxesSubplot:>"
      ]
     },
     "execution_count": 33,
     "metadata": {},
     "output_type": "execute_result"
    },
    {
     "data": {
      "image/png": "[encoded data removed]",
      "text/plain": [
       "<Figure size 432x288 with 1 Axes>"
      ]
     },
     "metadata": {},
     "output_type": "display_data"
    }
   ],
   "source": [
    "sns.boxplot(data=max_proba)"
   ]
  },
  {
   "cell_type": "code",
   "execution_count": 34,
   "id": "d3fe5e8f-8e82-4648-90c3-ff0a81db7174",
   "metadata": {},
   "outputs": [],
   "source": [
    "sure_idx = max_proba >= 0.8"
   ]
  },
  {
   "cell_type": "code",
   "execution_count": 35,
   "id": "c49e150e-3e6a-44e4-bfdf-2c06cab9884f",
   "metadata": {},
   "outputs": [
    {
     "name": "stdout",
     "output_type": "stream",
     "text": [
      "sure_samples.shape=(63109, 29)\n",
      "sure_y.shape=(63109,)\n"
     ]
    }
   ],
   "source": [
    "sure_samples = X_train[sure_idx]\n",
    "sure_y = y_train[sure_idx]\n",
    "print(f'sure_samples.shape={sure_samples.shape}')\n",
    "print(f'sure_y.shape={sure_y.shape}')"
   ]
  },
  {
   "cell_type": "code",
   "execution_count": 36,
   "id": "8d96e2f4-dc8d-4f3f-8d8e-2e0257f12806",
   "metadata": {},
   "outputs": [
    {
     "data": {
      "text/html": [
       "<div>\n",
       "<style scoped>\n",
       "    .dataframe tbody tr th:only-of-type {\n",
       "        vertical-align: middle;\n",
       "    }\n",
       "\n",
       "    .dataframe tbody tr th {\n",
       "        vertical-align: top;\n",
       "    }\n",
       "\n",
       "    .dataframe thead th {\n",
       "        text-align: right;\n",
       "    }\n",
       "</style>\n",
       "<table border=\"1\" class=\"dataframe\">\n",
       "  <thead>\n",
       "    <tr style=\"text-align: right;\">\n",
       "      <th></th>\n",
       "      <th>f_00</th>\n",
       "      <th>f_01</th>\n",
       "      <th>f_02</th>\n",
       "      <th>f_03</th>\n",
       "      <th>f_04</th>\n",
       "      <th>f_05</th>\n",
       "      <th>f_06</th>\n",
       "      <th>f_07</th>\n",
       "      <th>f_08</th>\n",
       "      <th>f_09</th>\n",
       "      <th>...</th>\n",
       "      <th>f_19</th>\n",
       "      <th>f_20</th>\n",
       "      <th>f_21</th>\n",
       "      <th>f_22</th>\n",
       "      <th>f_23</th>\n",
       "      <th>f_24</th>\n",
       "      <th>f_25</th>\n",
       "      <th>f_26</th>\n",
       "      <th>f_27</th>\n",
       "      <th>f_28</th>\n",
       "    </tr>\n",
       "  </thead>\n",
       "  <tbody>\n",
       "    <tr>\n",
       "      <th>0</th>\n",
       "      <td>-0.389230</td>\n",
       "      <td>-0.917652</td>\n",
       "      <td>0.647948</td>\n",
       "      <td>0.590717</td>\n",
       "      <td>-0.824836</td>\n",
       "      <td>0.734685</td>\n",
       "      <td>2.259470</td>\n",
       "      <td>-0.977987</td>\n",
       "      <td>1.383372</td>\n",
       "      <td>1.039938</td>\n",
       "      <td>...</td>\n",
       "      <td>-0.472922</td>\n",
       "      <td>-0.753925</td>\n",
       "      <td>-0.763110</td>\n",
       "      <td>-0.707876</td>\n",
       "      <td>0.911477</td>\n",
       "      <td>-0.678852</td>\n",
       "      <td>0.768543</td>\n",
       "      <td>0.960344</td>\n",
       "      <td>1.042536</td>\n",
       "      <td>0.694234</td>\n",
       "    </tr>\n",
       "    <tr>\n",
       "      <th>1</th>\n",
       "      <td>-0.688368</td>\n",
       "      <td>-0.458647</td>\n",
       "      <td>0.653182</td>\n",
       "      <td>0.995359</td>\n",
       "      <td>-1.644030</td>\n",
       "      <td>0.864898</td>\n",
       "      <td>-0.085604</td>\n",
       "      <td>-0.977987</td>\n",
       "      <td>-0.875405</td>\n",
       "      <td>-0.179925</td>\n",
       "      <td>...</td>\n",
       "      <td>-0.423594</td>\n",
       "      <td>-0.088164</td>\n",
       "      <td>-1.777545</td>\n",
       "      <td>-0.535582</td>\n",
       "      <td>0.453824</td>\n",
       "      <td>1.031505</td>\n",
       "      <td>-0.117686</td>\n",
       "      <td>-0.550783</td>\n",
       "      <td>0.367242</td>\n",
       "      <td>-1.636652</td>\n",
       "    </tr>\n",
       "  </tbody>\n",
       "</table>\n",
       "<p>2 rows × 29 columns</p>\n",
       "</div>"
      ],
      "text/plain": [
       "       f_00      f_01      f_02      f_03      f_04      f_05      f_06  \\\n",
       "0 -0.389230 -0.917652  0.647948  0.590717 -0.824836  0.734685  2.259470   \n",
       "1 -0.688368 -0.458647  0.653182  0.995359 -1.644030  0.864898 -0.085604   \n",
       "\n",
       "       f_07      f_08      f_09  ...      f_19      f_20      f_21      f_22  \\\n",
       "0 -0.977987  1.383372  1.039938  ... -0.472922 -0.753925 -0.763110 -0.707876   \n",
       "1 -0.977987 -0.875405 -0.179925  ... -0.423594 -0.088164 -1.777545 -0.535582   \n",
       "\n",
       "       f_23      f_24      f_25      f_26      f_27      f_28  \n",
       "0  0.911477 -0.678852  0.768543  0.960344  1.042536  0.694234  \n",
       "1  0.453824  1.031505 -0.117686 -0.550783  0.367242 -1.636652  \n",
       "\n",
       "[2 rows x 29 columns]"
      ]
     },
     "execution_count": 36,
     "metadata": {},
     "output_type": "execute_result"
    }
   ],
   "source": [
    "sure_samples.head(2)"
   ]
  },
  {
   "cell_type": "code",
   "execution_count": 37,
   "id": "2b79e872-adc3-4840-b7d0-402ff99d4480",
   "metadata": {},
   "outputs": [
    {
     "data": {
      "text/plain": [
       "[7, 8, 9, 10, 11, 12, 13]"
      ]
     },
     "execution_count": 37,
     "metadata": {},
     "output_type": "execute_result"
    }
   ],
   "source": [
    "cat_features = []\n",
    "\n",
    "for i, col in enumerate(X_train.columns.tolist()):\n",
    "    if col in int_features:\n",
    "        cat_features.append(i)\n",
    "        \n",
    "cat_features"
   ]
  },
  {
   "cell_type": "code",
   "execution_count": 38,
   "id": "ff5ed1e7-90d3-4307-8b94-5ec375d4be36",
   "metadata": {},
   "outputs": [],
   "source": [
    "def objective(trial, n_splits=10, shuffle=True, get_info=False):\n",
    "    \n",
    "    param = {        \n",
    "        'verbose': 0,\n",
    "        'random_state': seed,\n",
    "        'loss_function': 'MultiClass',\n",
    "        'task_type': 'GPU',\n",
    "        'iterations': trial.suggest_int('iterations', 10, 1000, 10),\n",
    "        'depth': trial.suggest_int('depth', 1, 8),\n",
    "        'learning_rate': trial.suggest_loguniform('learning_rate', 0.01, 1),\n",
    "        'random_strength': trial.suggest_uniform('random_strength', 1e-9, 10),\n",
    "        'bagging_temperature': trial.suggest_uniform('bagging_temperature', 0, 1),\n",
    "        'border_count': trial.suggest_int('border_count', 1, 255),\n",
    "        'l2_leaf_reg': trial.suggest_loguniform('l2_leaf_reg', 1e-3, 30),\n",
    "    }\n",
    "    \n",
    "    model = cb.CatBoostClassifier(**param)\n",
    "    \n",
    "    kf = StratifiedKFold(n_splits=n_splits, shuffle=shuffle, random_state=seed)    \n",
    "    \n",
    "    scores = []\n",
    "    models = []\n",
    "\n",
    "    for train_index, test_index in kf.split(sure_samples, sure_y): \n",
    "\n",
    "        train_dataset = cb.Pool(\n",
    "            data=sure_samples.iloc[train_index,:], \n",
    "            label=sure_y[train_index],\n",
    "#             cat_features=cat_features\n",
    "        )\n",
    "        \n",
    "        eval_dataset = cb.Pool(\n",
    "            data=sure_samples.iloc[test_index,:], \n",
    "            label=sure_y[test_index],\n",
    "#             cat_features=cat_features\n",
    "        )\n",
    "        \n",
    "        model.fit(\n",
    "            train_dataset,            \n",
    "            early_stopping_rounds=200,\n",
    "            verbose=0,            \n",
    "        )\n",
    "\n",
    "        y_test_pred = model.predict(eval_dataset).reshape(-1)\n",
    "        \n",
    "        score = metrics.adjusted_rand_score(\n",
    "            labels_true=sure_y[test_index],\n",
    "            labels_pred=y_test_pred\n",
    "        )\n",
    "        \n",
    "        scores.append(score)\n",
    "        models.append(model)\n",
    "\n",
    "    scores = np.array(scores)\n",
    "    \n",
    "    if get_info:\n",
    "        \n",
    "        info = {\n",
    "            'mean_score': np.mean(scores), \n",
    "            'score_std' : np.std(scores), \n",
    "            'scores': scores, \n",
    "            'models': models,\n",
    "        }\n",
    "        \n",
    "        return info\n",
    "    else:\n",
    "        return np.mean(scores)"
   ]
  },
  {
   "cell_type": "code",
   "execution_count": 39,
   "id": "bac709c3-7b35-4002-a435-e6cad073536d",
   "metadata": {},
   "outputs": [
    {
     "name": "stderr",
     "output_type": "stream",
     "text": [
      "\u001b[32m[I 2022-07-19 19:24:03,903]\u001b[0m A new study created in memory with name: tps_clustering\u001b[0m\n",
      "C:\\Users\\yurit\\anaconda3\\envs\\ml\\lib\\site-packages\\optuna\\progress_bar.py:47: ExperimentalWarning: Progress bar is experimental (supported from v1.2.0). The interface can change in the future.\n",
      "  self._init_valid()\n"
     ]
    },
    {
     "data": {
      "application/vnd.jupyter.widget-view+json": {
       "model_id": "8d5a3d1b05f047148e18750025293147",
       "version_major": 2,
       "version_minor": 0
      },
      "text/plain": [
       "  0%|          | 0/10 [00:00<?, ?it/s]"
      ]
     },
     "metadata": {},
     "output_type": "display_data"
    },
    {
     "name": "stdout",
     "output_type": "stream",
     "text": [
      "\u001b[32m[I 2022-07-19 19:24:29,502]\u001b[0m Trial 0 finished with value: 0.9788835816882455 and parameters: {'iterations': 460, 'depth': 3, 'learning_rate': 0.14011208895542743, 'random_strength': 2.4802425658415634, 'bagging_temperature': 0.37539110204207715, 'border_count': 220, 'l2_leaf_reg': 1.426200156510895}. Best is trial 0 with value: 0.9788835816882455.\u001b[0m\n",
      "\u001b[32m[I 2022-07-19 19:25:02,146]\u001b[0m Trial 1 finished with value: 0.8099277806440448 and parameters: {'iterations': 650, 'depth': 3, 'learning_rate': 0.011531789807335331, 'random_strength': 9.68607407990071, 'bagging_temperature': 0.9506139436626883, 'border_count': 153, 'l2_leaf_reg': 0.007810459200631237}. Best is trial 0 with value: 0.9788835816882455.\u001b[0m\n",
      "\u001b[32m[I 2022-07-19 19:25:43,236]\u001b[0m Trial 2 finished with value: 0.9016295934628102 and parameters: {'iterations': 330, 'depth': 7, 'learning_rate': 0.9988779895613357, 'random_strength': 4.285456220574034, 'bagging_temperature': 0.9650415159637824, 'border_count': 190, 'l2_leaf_reg': 0.09440690103710217}. Best is trial 0 with value: 0.9788835816882455.\u001b[0m\n",
      "\u001b[32m[I 2022-07-19 19:26:19,480]\u001b[0m Trial 3 finished with value: 0.9919190943762342 and parameters: {'iterations': 480, 'depth': 5, 'learning_rate': 0.1456264077105093, 'random_strength': 0.8923765764555411, 'bagging_temperature': 0.4768267185145151, 'border_count': 255, 'l2_leaf_reg': 0.3572483069177306}. Best is trial 3 with value: 0.9919190943762342.\u001b[0m\n",
      "\u001b[32m[I 2022-07-19 19:26:37,933]\u001b[0m Trial 4 finished with value: 0.8514786621846303 and parameters: {'iterations': 480, 'depth': 1, 'learning_rate': 0.11578468872436562, 'random_strength': 2.540095887568256, 'bagging_temperature': 0.030921073903101615, 'border_count': 36, 'l2_leaf_reg': 0.1503459596410527}. Best is trial 3 with value: 0.9919190943762342.\u001b[0m\n",
      "\u001b[32m[I 2022-07-19 19:27:19,335]\u001b[0m Trial 5 finished with value: 0.9790260401583126 and parameters: {'iterations': 350, 'depth': 7, 'learning_rate': 0.6262116511993411, 'random_strength': 7.332654337613257, 'bagging_temperature': 0.9766569560395519, 'border_count': 190, 'l2_leaf_reg': 18.330929939798807}. Best is trial 3 with value: 0.9919190943762342.\u001b[0m\n",
      "\u001b[32m[I 2022-07-19 19:27:42,006]\u001b[0m Trial 6 finished with value: 0.8851846316128812 and parameters: {'iterations': 650, 'depth': 1, 'learning_rate': 0.1851900460032054, 'random_strength': 6.969356078104052, 'bagging_temperature': 0.3319039269454145, 'border_count': 112, 'l2_leaf_reg': 0.02294076155496269}. Best is trial 3 with value: 0.9919190943762342.\u001b[0m\n",
      "\u001b[32m[I 2022-07-19 19:28:23,785]\u001b[0m Trial 7 finished with value: 0.9527615603110942 and parameters: {'iterations': 700, 'depth': 4, 'learning_rate': 0.026231496014771285, 'random_strength': 9.92204599124324, 'bagging_temperature': 0.40899783949061197, 'border_count': 168, 'l2_leaf_reg': 0.13564669430693227}. Best is trial 3 with value: 0.9919190943762342.\u001b[0m\n",
      "\u001b[32m[I 2022-07-19 19:29:39,547]\u001b[0m Trial 8 finished with value: 0.9893227036019482 and parameters: {'iterations': 720, 'depth': 7, 'learning_rate': 0.6699478547892599, 'random_strength': 6.767670185069598, 'bagging_temperature': 0.21762365194548328, 'border_count': 128, 'l2_leaf_reg': 2.8114402478107263}. Best is trial 3 with value: 0.9919190943762342.\u001b[0m\n",
      "\u001b[32m[I 2022-07-19 19:30:20,154]\u001b[0m Trial 9 finished with value: 0.9917130999491824 and parameters: {'iterations': 560, 'depth': 5, 'learning_rate': 0.10322060247209679, 'random_strength': 5.978442929897244, 'bagging_temperature': 0.26230290690111924, 'border_count': 74, 'l2_leaf_reg': 0.009516743404173963}. Best is trial 3 with value: 0.9919190943762342.\u001b[0m\n"
     ]
    }
   ],
   "source": [
    "study = optuna.create_study(direction='maximize', study_name='tps_clustering')\n",
    "study.optimize(objective, n_trials=10, show_progress_bar=True)"
   ]
  },
  {
   "cell_type": "code",
   "execution_count": 43,
   "id": "a6797aff-b823-4566-ad48-94294a6591cf",
   "metadata": {},
   "outputs": [
    {
     "data": {
      "text/plain": [
       "0.9919190943762342"
      ]
     },
     "execution_count": 43,
     "metadata": {},
     "output_type": "execute_result"
    }
   ],
   "source": [
    "study.best_value"
   ]
  },
  {
   "cell_type": "code",
   "execution_count": 40,
   "id": "5722075a-4a28-4882-b49f-e9a7cbb333eb",
   "metadata": {},
   "outputs": [
    {
     "data": {
      "text/plain": [
       "{'iterations': 480,\n",
       " 'depth': 5,\n",
       " 'learning_rate': 0.1456264077105093,\n",
       " 'random_strength': 0.8923765764555411,\n",
       " 'bagging_temperature': 0.4768267185145151,\n",
       " 'border_count': 255,\n",
       " 'l2_leaf_reg': 0.3572483069177306}"
      ]
     },
     "execution_count": 40,
     "metadata": {},
     "output_type": "execute_result"
    }
   ],
   "source": [
    "study.best_params"
   ]
  },
  {
   "cell_type": "code",
   "execution_count": 44,
   "id": "d8d0fd98-93bb-44d8-8bc2-c78d8d4ce384",
   "metadata": {},
   "outputs": [],
   "source": [
    "info = objective(optuna.trial.FixedTrial(study.best_params), get_info=True)"
   ]
  },
  {
   "cell_type": "code",
   "execution_count": 46,
   "id": "d2bafedc-47e6-4f25-9d23-106e5ae55cf9",
   "metadata": {},
   "outputs": [],
   "source": [
    "best_models = info['models']"
   ]
  },
  {
   "cell_type": "markdown",
   "id": "d6d64dc9-d282-494a-9345-87242ae02ee9",
   "metadata": {},
   "source": [
    "## A bag of CatBoost models for predictions"
   ]
  },
  {
   "cell_type": "code",
   "execution_count": 48,
   "id": "dd62b618-6dee-4243-8c2d-a7ffe9854b98",
   "metadata": {},
   "outputs": [],
   "source": [
    "predict_proba = 0\n",
    "\n",
    "for model in best_models:\n",
    "    predict_proba += model.predict_proba(X_train)"
   ]
  },
  {
   "cell_type": "code",
   "execution_count": 50,
   "id": "1e7c8c8d-1496-4608-ad63-ed4c09fdf4a0",
   "metadata": {},
   "outputs": [
    {
     "data": {
      "text/plain": [
       "array([5, 4, 5, 2, 3], dtype=int64)"
      ]
     },
     "execution_count": 50,
     "metadata": {},
     "output_type": "execute_result"
    }
   ],
   "source": [
    "predictions = np.argmax(predict_proba, axis=1)\n",
    "predictions[:5]"
   ]
  },
  {
   "cell_type": "code",
   "execution_count": 51,
   "id": "2aec194b-5c23-40d4-94b2-68b29bdae676",
   "metadata": {},
   "outputs": [],
   "source": [
    "submission = pd.read_csv('../../../Data/Tabular Playground Series/tabular-playground-series-jul-2022/sample_submission.csv')\n",
    "submission['Predicted'] = predictions\n",
    "submission.to_csv(\"submission.csv\", index=False)"
   ]
  },
  {
   "cell_type": "markdown",
   "id": "3841e198-fcae-45d2-8c17-23211f88ec59",
   "metadata": {},
   "source": [
    "## Your submission scored 0.61443, which is not an improvement of your previous score. Keep trying!"
   ]
  },
  {
   "cell_type": "markdown",
   "id": "b9cdb351-f335-451b-81f4-d0a4e7b153a3",
   "metadata": {},
   "source": [
    "### Leaderboard Score\n",
    "\n",
    "<img src=\"bag_of_catboost_all_scaled.png\">"
   ]
  },
  {
   "cell_type": "markdown",
   "id": "ebad8416-7ebf-42da-8be4-229b5ef491c5",
   "metadata": {},
   "source": [
    "## A single CatBoost model for scaled predictions"
   ]
  },
  {
   "cell_type": "code",
   "execution_count": 52,
   "id": "ce0c32b0-0dbe-454f-a5f0-7cf9cea6b838",
   "metadata": {},
   "outputs": [],
   "source": [
    "model = cb.CatBoostClassifier(**study.best_params)"
   ]
  },
  {
   "cell_type": "code",
   "execution_count": 53,
   "id": "b84aa171-7b1f-41ad-b80f-8d3885686598",
   "metadata": {},
   "outputs": [
    {
     "data": {
      "text/plain": [
       "<catboost.core.CatBoostClassifier at 0x1c79852f550>"
      ]
     },
     "execution_count": 53,
     "metadata": {},
     "output_type": "execute_result"
    }
   ],
   "source": [
    "train_dataset = cb.Pool(\n",
    "    data=sure_samples, \n",
    "    label=sure_y,\n",
    "#             cat_features=cat_features\n",
    ")\n",
    "\n",
    "model.fit(\n",
    "    train_dataset,            \n",
    "    early_stopping_rounds=200,\n",
    "    verbose=0,            \n",
    ")"
   ]
  },
  {
   "cell_type": "code",
   "execution_count": 55,
   "id": "3dfbe539-63bd-4d73-8e32-952f74b32fab",
   "metadata": {},
   "outputs": [],
   "source": [
    "submission = pd.read_csv('../../../Data/Tabular Playground Series/tabular-playground-series-jul-2022/sample_submission.csv')\n",
    "submission['Predicted'] = model.predict(X_train)\n",
    "submission.to_csv(\"submission.csv\", index=False)"
   ]
  },
  {
   "cell_type": "markdown",
   "id": "280a2e91-1bd5-4386-9a92-59ce36a83c1e",
   "metadata": {},
   "source": [
    "## Your submission scored 0.61488, which is not an improvement of your previous score. Keep trying!"
   ]
  },
  {
   "cell_type": "markdown",
   "id": "f1f580e9-b4de-409e-9d54-e0b9470dcb92",
   "metadata": {},
   "source": [
    "### Leaderboard Score\n",
    "\n",
    "<img src=\"single_catboost_all_scaled.png\">"
   ]
  },
  {
   "cell_type": "markdown",
   "id": "979e838e-8440-472b-be8f-3325f5ea009c",
   "metadata": {},
   "source": [
    "# Next idea is to fit CatBoost on un-scaled data with integer features as categorical"
   ]
  },
  {
   "cell_type": "code",
   "execution_count": 56,
   "id": "7b8fa419-5540-4b91-8dd8-6319740fb14f",
   "metadata": {},
   "outputs": [
    {
     "name": "stdout",
     "output_type": "stream",
     "text": [
      "sure_samples.shape=(63109, 29)\n",
      "sure_y.shape=(63109,)\n"
     ]
    }
   ],
   "source": [
    "sure_samples = df.drop('id', axis=1)[sure_idx]\n",
    "sure_y = y_train[sure_idx]\n",
    "print(f'sure_samples.shape={sure_samples.shape}')\n",
    "print(f'sure_y.shape={sure_y.shape}')"
   ]
  },
  {
   "cell_type": "code",
   "execution_count": 57,
   "id": "62a6a66e-637f-42b2-8a40-91c2fb71b48d",
   "metadata": {},
   "outputs": [
    {
     "data": {
      "text/html": [
       "<div>\n",
       "<style scoped>\n",
       "    .dataframe tbody tr th:only-of-type {\n",
       "        vertical-align: middle;\n",
       "    }\n",
       "\n",
       "    .dataframe tbody tr th {\n",
       "        vertical-align: top;\n",
       "    }\n",
       "\n",
       "    .dataframe thead th {\n",
       "        text-align: right;\n",
       "    }\n",
       "</style>\n",
       "<table border=\"1\" class=\"dataframe\">\n",
       "  <thead>\n",
       "    <tr style=\"text-align: right;\">\n",
       "      <th></th>\n",
       "      <th>f_00</th>\n",
       "      <th>f_01</th>\n",
       "      <th>f_02</th>\n",
       "      <th>f_03</th>\n",
       "      <th>f_04</th>\n",
       "      <th>f_05</th>\n",
       "      <th>f_06</th>\n",
       "      <th>f_07</th>\n",
       "      <th>f_08</th>\n",
       "      <th>f_09</th>\n",
       "      <th>...</th>\n",
       "      <th>f_19</th>\n",
       "      <th>f_20</th>\n",
       "      <th>f_21</th>\n",
       "      <th>f_22</th>\n",
       "      <th>f_23</th>\n",
       "      <th>f_24</th>\n",
       "      <th>f_25</th>\n",
       "      <th>f_26</th>\n",
       "      <th>f_27</th>\n",
       "      <th>f_28</th>\n",
       "    </tr>\n",
       "  </thead>\n",
       "  <tbody>\n",
       "    <tr>\n",
       "      <th>0</th>\n",
       "      <td>-0.389420</td>\n",
       "      <td>-0.912791</td>\n",
       "      <td>0.648951</td>\n",
       "      <td>0.589045</td>\n",
       "      <td>-0.830817</td>\n",
       "      <td>0.733624</td>\n",
       "      <td>2.258560</td>\n",
       "      <td>2</td>\n",
       "      <td>13</td>\n",
       "      <td>14</td>\n",
       "      <td>...</td>\n",
       "      <td>-0.478412</td>\n",
       "      <td>-0.757002</td>\n",
       "      <td>-0.763635</td>\n",
       "      <td>-1.090369</td>\n",
       "      <td>1.142641</td>\n",
       "      <td>-0.884274</td>\n",
       "      <td>1.137896</td>\n",
       "      <td>1.309073</td>\n",
       "      <td>1.463002</td>\n",
       "      <td>0.813527</td>\n",
       "    </tr>\n",
       "    <tr>\n",
       "      <th>1</th>\n",
       "      <td>-0.689249</td>\n",
       "      <td>-0.453954</td>\n",
       "      <td>0.654175</td>\n",
       "      <td>0.995248</td>\n",
       "      <td>-1.653020</td>\n",
       "      <td>0.863810</td>\n",
       "      <td>-0.090651</td>\n",
       "      <td>2</td>\n",
       "      <td>3</td>\n",
       "      <td>6</td>\n",
       "      <td>...</td>\n",
       "      <td>-0.428791</td>\n",
       "      <td>-0.089908</td>\n",
       "      <td>-1.784204</td>\n",
       "      <td>-0.839474</td>\n",
       "      <td>0.459685</td>\n",
       "      <td>1.759412</td>\n",
       "      <td>-0.275422</td>\n",
       "      <td>-0.852168</td>\n",
       "      <td>0.562457</td>\n",
       "      <td>-2.680541</td>\n",
       "    </tr>\n",
       "  </tbody>\n",
       "</table>\n",
       "<p>2 rows × 29 columns</p>\n",
       "</div>"
      ],
      "text/plain": [
       "       f_00      f_01      f_02      f_03      f_04      f_05      f_06  f_07  \\\n",
       "0 -0.389420 -0.912791  0.648951  0.589045 -0.830817  0.733624  2.258560     2   \n",
       "1 -0.689249 -0.453954  0.654175  0.995248 -1.653020  0.863810 -0.090651     2   \n",
       "\n",
       "   f_08  f_09  ...      f_19      f_20      f_21      f_22      f_23  \\\n",
       "0    13    14  ... -0.478412 -0.757002 -0.763635 -1.090369  1.142641   \n",
       "1     3     6  ... -0.428791 -0.089908 -1.784204 -0.839474  0.459685   \n",
       "\n",
       "       f_24      f_25      f_26      f_27      f_28  \n",
       "0 -0.884274  1.137896  1.309073  1.463002  0.813527  \n",
       "1  1.759412 -0.275422 -0.852168  0.562457 -2.680541  \n",
       "\n",
       "[2 rows x 29 columns]"
      ]
     },
     "execution_count": 57,
     "metadata": {},
     "output_type": "execute_result"
    }
   ],
   "source": [
    "sure_samples.head(2)"
   ]
  },
  {
   "cell_type": "code",
   "execution_count": 60,
   "id": "f728cab8-5b59-4b54-9048-90df01e0f9a6",
   "metadata": {},
   "outputs": [
    {
     "data": {
      "text/plain": [
       "<AxesSubplot:>"
      ]
     },
     "execution_count": 60,
     "metadata": {},
     "output_type": "execute_result"
    },
    {
     "data": {
      "image/png": "[encoded data removed]",
      "text/plain": [
       "<Figure size 1152x288 with 1 Axes>"
      ]
     },
     "metadata": {},
     "output_type": "display_data"
    }
   ],
   "source": [
    "sure_samples.boxplot(figsize=(16,4))"
   ]
  },
  {
   "cell_type": "code",
   "execution_count": 67,
   "id": "f13de3c2-6ed0-49fa-a87c-b25e09c26153",
   "metadata": {},
   "outputs": [],
   "source": [
    "def objective(trial, n_splits=10, shuffle=True, get_info=False):\n",
    "    \n",
    "    param = {        \n",
    "        'verbose': 0,\n",
    "        'random_state': seed,\n",
    "        'loss_function': 'MultiClass',\n",
    "        'task_type': 'GPU',\n",
    "        'iterations': trial.suggest_int('iterations', 10, 1000, 10),\n",
    "        'depth': trial.suggest_int('depth', 1, 8),\n",
    "        'learning_rate': trial.suggest_loguniform('learning_rate', 0.01, 1),\n",
    "        'random_strength': trial.suggest_uniform('random_strength', 1e-9, 10),\n",
    "        'bagging_temperature': trial.suggest_uniform('bagging_temperature', 0, 1),\n",
    "        'border_count': trial.suggest_int('border_count', 1, 255),\n",
    "        'l2_leaf_reg': trial.suggest_loguniform('l2_leaf_reg', 1e-3, 30),\n",
    "    }\n",
    "    \n",
    "    model = cb.CatBoostClassifier(**param)\n",
    "    \n",
    "    kf = StratifiedKFold(n_splits=n_splits, shuffle=shuffle, random_state=seed)    \n",
    "    \n",
    "    scores = []\n",
    "    models = []\n",
    "\n",
    "    for train_index, test_index in kf.split(sure_samples, sure_y): \n",
    "\n",
    "        train_dataset = cb.Pool(\n",
    "            data=sure_samples.iloc[train_index,:], \n",
    "            label=sure_y[train_index],\n",
    "            cat_features=cat_features\n",
    "        )\n",
    "        \n",
    "        eval_dataset = cb.Pool(\n",
    "            data=sure_samples.iloc[test_index,:], \n",
    "            label=sure_y[test_index],\n",
    "            cat_features=cat_features\n",
    "        )\n",
    "        \n",
    "        model.fit(\n",
    "            train_dataset,            \n",
    "            early_stopping_rounds=200,\n",
    "            verbose=0,            \n",
    "        )\n",
    "\n",
    "        y_test_pred = model.predict(eval_dataset).reshape(-1)\n",
    "        \n",
    "        score = metrics.adjusted_rand_score(\n",
    "            labels_true=sure_y[test_index],\n",
    "            labels_pred=y_test_pred\n",
    "        )\n",
    "        \n",
    "        scores.append(score)\n",
    "        models.append(model)\n",
    "\n",
    "    scores = np.array(scores)\n",
    "    \n",
    "    if get_info:\n",
    "        \n",
    "        info = {\n",
    "            'mean_score': np.mean(scores), \n",
    "            'score_std' : np.std(scores), \n",
    "            'scores': scores, \n",
    "            'models': models,\n",
    "        }\n",
    "        \n",
    "        return info\n",
    "    else:\n",
    "        return np.mean(scores)"
   ]
  },
  {
   "cell_type": "code",
   "execution_count": 68,
   "id": "56bd9e92-13a0-4625-b312-19ae4773046d",
   "metadata": {},
   "outputs": [
    {
     "name": "stderr",
     "output_type": "stream",
     "text": [
      "\u001b[32m[I 2022-07-19 20:33:48,642]\u001b[0m A new study created in memory with name: catboost_on_unscaled_data_with_bgm_target\u001b[0m\n",
      "C:\\Users\\yurit\\anaconda3\\envs\\ml\\lib\\site-packages\\optuna\\progress_bar.py:47: ExperimentalWarning: Progress bar is experimental (supported from v1.2.0). The interface can change in the future.\n",
      "  self._init_valid()\n"
     ]
    },
    {
     "data": {
      "application/vnd.jupyter.widget-view+json": {
       "model_id": "65b1780729a74ad9a086be83382c9dba",
       "version_major": 2,
       "version_minor": 0
      },
      "text/plain": [
       "  0%|          | 0/10 [00:00<?, ?it/s]"
      ]
     },
     "metadata": {},
     "output_type": "display_data"
    },
    {
     "name": "stdout",
     "output_type": "stream",
     "text": [
      "\u001b[32m[I 2022-07-19 20:36:07,079]\u001b[0m Trial 0 finished with value: 0.9747780498290431 and parameters: {'iterations': 920, 'depth': 7, 'learning_rate': 0.30368574436796, 'random_strength': 7.155502366261009, 'bagging_temperature': 0.6622904518475742, 'border_count': 188, 'l2_leaf_reg': 13.224628864502117}. Best is trial 0 with value: 0.9747780498290431.\u001b[0m\n",
      "\u001b[32m[I 2022-07-19 20:37:40,602]\u001b[0m Trial 1 finished with value: 0.9817348150679059 and parameters: {'iterations': 430, 'depth': 8, 'learning_rate': 0.20013131009619078, 'random_strength': 8.094855774839385, 'bagging_temperature': 0.2711608188179271, 'border_count': 151, 'l2_leaf_reg': 0.06797013867996354}. Best is trial 1 with value: 0.9817348150679059.\u001b[0m\n",
      "\u001b[32m[I 2022-07-19 20:38:45,958]\u001b[0m Trial 2 finished with value: 0.9671649072727133 and parameters: {'iterations': 800, 'depth': 2, 'learning_rate': 0.5980230096554202, 'random_strength': 1.3523386839047493, 'bagging_temperature': 0.06362542370727264, 'border_count': 184, 'l2_leaf_reg': 0.41342723052560776}. Best is trial 1 with value: 0.9817348150679059.\u001b[0m\n",
      "\u001b[32m[I 2022-07-19 20:39:54,363]\u001b[0m Trial 3 finished with value: 0.9793123240321082 and parameters: {'iterations': 300, 'depth': 8, 'learning_rate': 0.2052185750705029, 'random_strength': 8.299607213796094, 'bagging_temperature': 0.03130170452224845, 'border_count': 130, 'l2_leaf_reg': 0.0024912405616826744}. Best is trial 1 with value: 0.9817348150679059.\u001b[0m\n",
      "\u001b[32m[I 2022-07-19 20:41:31,119]\u001b[0m Trial 4 finished with value: 0.9852801094744323 and parameters: {'iterations': 890, 'depth': 5, 'learning_rate': 0.16062407645322016, 'random_strength': 5.445300603280031, 'bagging_temperature': 0.358640620724898, 'border_count': 241, 'l2_leaf_reg': 0.20982796272270796}. Best is trial 4 with value: 0.9852801094744323.\u001b[0m\n",
      "\u001b[32m[I 2022-07-19 20:42:58,290]\u001b[0m Trial 5 finished with value: 0.9302296695025996 and parameters: {'iterations': 800, 'depth': 5, 'learning_rate': 0.02383419490891962, 'random_strength': 2.2029475333415083, 'bagging_temperature': 0.8991167566799839, 'border_count': 191, 'l2_leaf_reg': 0.7126702139142433}. Best is trial 4 with value: 0.9852801094744323.\u001b[0m\n",
      "\u001b[32m[I 2022-07-19 20:43:12,028]\u001b[0m Trial 6 finished with value: 0.3463254056888136 and parameters: {'iterations': 20, 'depth': 8, 'learning_rate': 0.016015915391604525, 'random_strength': 7.1674215879118695, 'bagging_temperature': 0.18012882965878618, 'border_count': 147, 'l2_leaf_reg': 0.11031126728870375}. Best is trial 4 with value: 0.9852801094744323.\u001b[0m\n",
      "\u001b[32m[I 2022-07-19 20:45:26,379]\u001b[0m Trial 7 finished with value: 0.9695865602863633 and parameters: {'iterations': 880, 'depth': 7, 'learning_rate': 0.058533520784729, 'random_strength': 5.959305677443428, 'bagging_temperature': 0.6936699742227688, 'border_count': 118, 'l2_leaf_reg': 4.755785412866473}. Best is trial 4 with value: 0.9852801094744323.\u001b[0m\n",
      "\u001b[32m[I 2022-07-19 20:45:59,929]\u001b[0m Trial 8 finished with value: 0.8026471602533887 and parameters: {'iterations': 120, 'depth': 8, 'learning_rate': 0.043140823436835084, 'random_strength': 9.703614852428476, 'bagging_temperature': 0.3616835390145533, 'border_count': 160, 'l2_leaf_reg': 0.022142638273704298}. Best is trial 4 with value: 0.9852801094744323.\u001b[0m\n",
      "\u001b[32m[I 2022-07-19 20:46:58,926]\u001b[0m Trial 9 finished with value: 0.7965444658735098 and parameters: {'iterations': 830, 'depth': 1, 'learning_rate': 0.13859721315172702, 'random_strength': 3.9097176431192135, 'bagging_temperature': 0.6968873624184415, 'border_count': 27, 'l2_leaf_reg': 0.0015264302232524173}. Best is trial 4 with value: 0.9852801094744323.\u001b[0m\n"
     ]
    }
   ],
   "source": [
    "study = optuna.create_study(direction='maximize', study_name='catboost_on_unscaled_data_with_bgm_target')\n",
    "study.optimize(objective, n_trials=10, show_progress_bar=True)"
   ]
  },
  {
   "cell_type": "code",
   "execution_count": 69,
   "id": "5855c327-09ed-48cb-ac84-e294bb525bfb",
   "metadata": {},
   "outputs": [
    {
     "data": {
      "text/plain": [
       "0.9852801094744323"
      ]
     },
     "execution_count": 69,
     "metadata": {},
     "output_type": "execute_result"
    }
   ],
   "source": [
    "study.best_value"
   ]
  },
  {
   "cell_type": "code",
   "execution_count": 70,
   "id": "c1951547-73ea-4b55-a2e8-6c4d7a326b31",
   "metadata": {},
   "outputs": [
    {
     "data": {
      "text/plain": [
       "{'iterations': 890,\n",
       " 'depth': 5,\n",
       " 'learning_rate': 0.16062407645322016,\n",
       " 'random_strength': 5.445300603280031,\n",
       " 'bagging_temperature': 0.358640620724898,\n",
       " 'border_count': 241,\n",
       " 'l2_leaf_reg': 0.20982796272270796}"
      ]
     },
     "execution_count": 70,
     "metadata": {},
     "output_type": "execute_result"
    }
   ],
   "source": [
    "study.best_params"
   ]
  },
  {
   "cell_type": "code",
   "execution_count": 71,
   "id": "d53553e2-a85d-442d-9769-cf33bf4ccd22",
   "metadata": {},
   "outputs": [],
   "source": [
    "info = objective(optuna.trial.FixedTrial(study.best_params), get_info=True)"
   ]
  },
  {
   "cell_type": "code",
   "execution_count": 72,
   "id": "26d2dd7b-e5c6-4058-a418-116b99cc96c1",
   "metadata": {},
   "outputs": [],
   "source": [
    "best_models = info['models']"
   ]
  },
  {
   "cell_type": "markdown",
   "id": "6e1b0b0b-c0aa-4013-af3d-c57d335d6f45",
   "metadata": {},
   "source": [
    "## A bag of CatBoost models for predictions"
   ]
  },
  {
   "cell_type": "code",
   "execution_count": 73,
   "id": "26b04052-dbd0-4c31-b045-ea95a1b120c1",
   "metadata": {},
   "outputs": [],
   "source": [
    "predict_proba = 0\n",
    "\n",
    "for model in best_models:\n",
    "    predict_proba += model.predict_proba(df.drop('id', axis=1))"
   ]
  },
  {
   "cell_type": "code",
   "execution_count": 74,
   "id": "a8cd974b-9025-488d-9544-002f183c26af",
   "metadata": {},
   "outputs": [
    {
     "data": {
      "text/plain": [
       "array([5, 4, 5, 2, 3], dtype=int64)"
      ]
     },
     "execution_count": 74,
     "metadata": {},
     "output_type": "execute_result"
    }
   ],
   "source": [
    "predictions = np.argmax(predict_proba, axis=1)\n",
    "predictions[:5]"
   ]
  },
  {
   "cell_type": "code",
   "execution_count": 75,
   "id": "e1622234-ec5b-447b-a51d-346e516eb8ed",
   "metadata": {},
   "outputs": [],
   "source": [
    "submission = pd.read_csv('../../../Data/Tabular Playground Series/tabular-playground-series-jul-2022/sample_submission.csv')\n",
    "submission['Predicted'] = predictions\n",
    "submission.to_csv(\"submission.csv\", index=False)"
   ]
  },
  {
   "cell_type": "markdown",
   "id": "381aac34-9d77-4128-9255-522737cc383d",
   "metadata": {},
   "source": [
    "## Your submission scored 0.61418, which is not an improvement of your previous score. Keep trying!"
   ]
  },
  {
   "cell_type": "markdown",
   "id": "9a115a21-5054-4b7f-94ce-e66101a5737e",
   "metadata": {},
   "source": [
    "### Leaderboard Score\n",
    "\n",
    "<img src=\"bag_of_catboost_unscaled.png\">"
   ]
  },
  {
   "cell_type": "code",
   "execution_count": null,
   "id": "9b39f943-e784-4e28-ab1f-c02533b4dc5c",
   "metadata": {},
   "outputs": [],
   "source": []
  }
 ],
 "metadata": {
  "kernelspec": {
   "display_name": "ml",
   "language": "python",
   "name": "ml"
  },
  "language_info": {
   "codemirror_mode": {
    "name": "ipython",
    "version": 3
   },
   "file_extension": ".py",
   "mimetype": "text/x-python",
   "name": "python",
   "nbconvert_exporter": "python",
   "pygments_lexer": "ipython3",
   "version": "3.8.8"
  }
 },
 "nbformat": 4,
 "nbformat_minor": 5
}
