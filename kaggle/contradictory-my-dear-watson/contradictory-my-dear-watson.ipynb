{
 "cells": [
  {
   "cell_type": "code",
   "execution_count": 33,
   "id": "cd7156d7-5715-49fe-acd2-204b6249cde9",
   "metadata": {},
   "outputs": [],
   "source": [
    "import os\n",
    "\n",
    "import numpy as np\n",
    "import pandas as pd\n",
    "import matplotlib.pyplot as plt\n",
    "import seaborn as sns\n",
    "sns.set_theme()\n",
    "\n",
    "import sklearn\n",
    "from sklearn import metrics\n",
    "from sklearn.preprocessing import StandardScaler, MinMaxScaler\n",
    "from sklearn.model_selection import train_test_split, GridSearchCV\n",
    "from sklearn import preprocessing, decomposition, model_selection, metrics, pipeline\n",
    "from sklearn.feature_extraction.text import TfidfVectorizer, CountVectorizer\n",
    "from sklearn.decomposition import TruncatedSVD\n",
    "from sklearn.linear_model import LogisticRegression\n",
    "from sklearn.naive_bayes import MultinomialNB\n",
    "\n",
    "import tensorflow as tf\n",
    "from tensorflow import keras\n",
    "from keras import models, layers, optimizers, losses, preprocessing, regularizers\n",
    "import tensorflow_hub as hub\n",
    "import tensorflow_text\n",
    "\n",
    "import xgboost as xgb\n",
    "import catboost as cb\n",
    "\n",
    "from transformers import BertTokenizer, TFBertModel"
   ]
  },
  {
   "cell_type": "code",
   "execution_count": 2,
   "id": "2058061e-2c6e-48b7-bbcc-b67f85fe3731",
   "metadata": {},
   "outputs": [],
   "source": [
    "os.environ[\"WANDB_API_KEY\"] = \"0\" ## to silence warning"
   ]
  },
  {
   "cell_type": "markdown",
   "id": "bff7d826-2307-42a0-9a35-f3438cebf1fe",
   "metadata": {},
   "source": [
    "# Check if GPU is available"
   ]
  },
  {
   "cell_type": "code",
   "execution_count": 3,
   "id": "8c16307b-d847-4de7-9a53-0b8ce894152c",
   "metadata": {},
   "outputs": [
    {
     "data": {
      "text/plain": [
       "[PhysicalDevice(name='/physical_device:GPU:0', device_type='GPU')]"
      ]
     },
     "execution_count": 3,
     "metadata": {},
     "output_type": "execute_result"
    }
   ],
   "source": [
    "tf.config.list_physical_devices(device_type='GPU')"
   ]
  },
  {
   "cell_type": "markdown",
   "id": "652d3023-aabe-46a3-a07c-d068053ac48d",
   "metadata": {},
   "source": [
    "# Load Data"
   ]
  },
  {
   "cell_type": "code",
   "execution_count": 4,
   "id": "114d39cf-47c7-42ab-a1ec-7dd5120a9aaf",
   "metadata": {},
   "outputs": [
    {
     "name": "stdout",
     "output_type": "stream",
     "text": [
      "df_train.shape = (12120, 6)\n",
      "df_test.shape  = (5195, 5)\n",
      "df_all.shape   = (17315, 6)\n"
     ]
    }
   ],
   "source": [
    "df_train = pd.read_csv('../../Data/contradictory-my-dear-watson/train.csv')\n",
    "df_test  = pd.read_csv('../../Data/contradictory-my-dear-watson/test.csv')\n",
    "\n",
    "df_all = pd.concat([df_train, df_test])\n",
    "\n",
    "print(f'df_train.shape = {df_train.shape}')\n",
    "print(f'df_test.shape  = {df_test.shape}')\n",
    "print(f'df_all.shape   = {df_all.shape}')"
   ]
  },
  {
   "cell_type": "code",
   "execution_count": 5,
   "id": "fa8ead9d-daad-4376-b81f-aac1ff770980",
   "metadata": {},
   "outputs": [
    {
     "data": {
      "text/html": [
       "<div>\n",
       "<style scoped>\n",
       "    .dataframe tbody tr th:only-of-type {\n",
       "        vertical-align: middle;\n",
       "    }\n",
       "\n",
       "    .dataframe tbody tr th {\n",
       "        vertical-align: top;\n",
       "    }\n",
       "\n",
       "    .dataframe thead th {\n",
       "        text-align: right;\n",
       "    }\n",
       "</style>\n",
       "<table border=\"1\" class=\"dataframe\">\n",
       "  <thead>\n",
       "    <tr style=\"text-align: right;\">\n",
       "      <th></th>\n",
       "      <th>id</th>\n",
       "      <th>premise</th>\n",
       "      <th>hypothesis</th>\n",
       "      <th>lang_abv</th>\n",
       "      <th>language</th>\n",
       "      <th>label</th>\n",
       "    </tr>\n",
       "  </thead>\n",
       "  <tbody>\n",
       "    <tr>\n",
       "      <th>0</th>\n",
       "      <td>5130fd2cb5</td>\n",
       "      <td>and these comments were considered in formulat...</td>\n",
       "      <td>The rules developed in the interim were put to...</td>\n",
       "      <td>en</td>\n",
       "      <td>English</td>\n",
       "      <td>0</td>\n",
       "    </tr>\n",
       "    <tr>\n",
       "      <th>1</th>\n",
       "      <td>5b72532a0b</td>\n",
       "      <td>These are issues that we wrestle with in pract...</td>\n",
       "      <td>Practice groups are not permitted to work on t...</td>\n",
       "      <td>en</td>\n",
       "      <td>English</td>\n",
       "      <td>2</td>\n",
       "    </tr>\n",
       "  </tbody>\n",
       "</table>\n",
       "</div>"
      ],
      "text/plain": [
       "           id                                            premise  \\\n",
       "0  5130fd2cb5  and these comments were considered in formulat...   \n",
       "1  5b72532a0b  These are issues that we wrestle with in pract...   \n",
       "\n",
       "                                          hypothesis lang_abv language  label  \n",
       "0  The rules developed in the interim were put to...       en  English      0  \n",
       "1  Practice groups are not permitted to work on t...       en  English      2  "
      ]
     },
     "execution_count": 5,
     "metadata": {},
     "output_type": "execute_result"
    }
   ],
   "source": [
    "df_train.head(2)"
   ]
  },
  {
   "cell_type": "code",
   "execution_count": 6,
   "id": "03f25743-002c-45ea-b2e8-bfc2deef9c87",
   "metadata": {},
   "outputs": [
    {
     "data": {
      "image/png": "[encoded data removed]",
      "text/plain": [
       "<Figure size 576x144 with 1 Axes>"
      ]
     },
     "metadata": {},
     "output_type": "display_data"
    }
   ],
   "source": [
    "_ = df_train['label'].value_counts().sort_index().plot.bar(figsize=(8,2), title='Labels Count')"
   ]
  },
  {
   "cell_type": "code",
   "execution_count": 7,
   "id": "c9a03c13-c623-421f-a96e-212237642def",
   "metadata": {},
   "outputs": [
    {
     "name": "stdout",
     "output_type": "stream",
     "text": [
      "<class 'pandas.core.frame.DataFrame'>\n",
      "RangeIndex: 12120 entries, 0 to 12119\n",
      "Data columns (total 6 columns):\n",
      " #   Column      Non-Null Count  Dtype \n",
      "---  ------      --------------  ----- \n",
      " 0   id          12120 non-null  object\n",
      " 1   premise     12120 non-null  object\n",
      " 2   hypothesis  12120 non-null  object\n",
      " 3   lang_abv    12120 non-null  object\n",
      " 4   language    12120 non-null  object\n",
      " 5   label       12120 non-null  int64 \n",
      "dtypes: int64(1), object(5)\n",
      "memory usage: 568.2+ KB\n"
     ]
    }
   ],
   "source": [
    "df_train.info()"
   ]
  },
  {
   "cell_type": "markdown",
   "id": "ebeec7c0-cfad-43e6-963f-3fdc788ecfe6",
   "metadata": {
    "_cell_guid": "a7f5d429-083e-4d81-883f-e032dfb0e236",
    "_uuid": "68cee874-838e-4f0e-9f80-bfebc4a295d0"
   },
   "source": [
    "## Preparing Data for Input"
   ]
  },
  {
   "cell_type": "markdown",
   "id": "c667a04f-9f83-4061-aef6-5eae8ac9b5ea",
   "metadata": {
    "_cell_guid": "f20a33db-a377-43b6-825e-157456ed1092",
    "_uuid": "27e66828-76b9-44f4-ba79-66fe0cb8f922"
   },
   "source": [
    "To start out, we can use a pretrained model. Here, we'll use a multilingual BERT model from huggingface. For more information about BERT, see: https://github.com/google-research/bert/blob/master/multilingual.md\n",
    "\n",
    "First, we download the tokenizer."
   ]
  },
  {
   "cell_type": "code",
   "execution_count": 8,
   "id": "b6e81b36-5d3a-40d3-8ed1-dc74ca5fa2c0",
   "metadata": {
    "_cell_guid": "ddc3e65e-24a4-43dc-98f0-194655d17cfd",
    "_uuid": "0af7b876-e719-474a-b6a5-fef500624b83"
   },
   "outputs": [],
   "source": [
    "model_name = 'bert-base-multilingual-cased'\n",
    "tokenizer = BertTokenizer.from_pretrained(model_name)"
   ]
  },
  {
   "cell_type": "code",
   "execution_count": 9,
   "id": "7ae1ee2e-efcb-4033-b10b-077731ebbe88",
   "metadata": {},
   "outputs": [
    {
     "data": {
      "text/plain": [
       "119547"
      ]
     },
     "execution_count": 9,
     "metadata": {},
     "output_type": "execute_result"
    }
   ],
   "source": [
    "len(tokenizer.vocab)"
   ]
  },
  {
   "cell_type": "markdown",
   "id": "72da0072-1f56-4bb7-9d32-de2e8d4c5ebd",
   "metadata": {
    "_cell_guid": "f6f4ab91-c9b5-4861-a400-89969200b7f4",
    "_uuid": "a6088f3d-8778-4a6c-82b0-db6a5461ec95"
   },
   "source": [
    "### Tokenizers turn sequences of words into arrays of numbers. Let's look at an example:"
   ]
  },
  {
   "cell_type": "code",
   "execution_count": 10,
   "id": "5cc7f8b0-9ec2-4e56-b33e-7be53e391ff8",
   "metadata": {
    "_cell_guid": "55838dc3-c459-4097-b5b2-44d049429e25",
    "_uuid": "2cd597c4-6204-44ba-869a-fbf7c32c711d"
   },
   "outputs": [],
   "source": [
    "def encode_sentence(s):\n",
    "    tokens = list(tokenizer.tokenize(s))\n",
    "    tokens.append('[SEP]')\n",
    "    return tokenizer.convert_tokens_to_ids(tokens)"
   ]
  },
  {
   "cell_type": "code",
   "execution_count": 11,
   "id": "dc9f9534-4c0b-4fbf-99b8-56af90907e63",
   "metadata": {
    "_cell_guid": "f05a9baa-b7fa-44da-89dd-04fdfc149cba",
    "_uuid": "797de062-6743-4455-9ead-73527bf6c3b6"
   },
   "outputs": [
    {
     "data": {
      "text/plain": [
       "[13028, 21852, 10689, 10944, 112, 188, 30181, 60041, 20182, 102]"
      ]
     },
     "execution_count": 11,
     "metadata": {},
     "output_type": "execute_result"
    }
   ],
   "source": [
    "encode_sentence(\"you know they can't really defend themselves\")"
   ]
  },
  {
   "cell_type": "markdown",
   "id": "9c0cc8eb-2f43-451b-88d6-d2a881b0b577",
   "metadata": {},
   "source": [
    "## BERT\n",
    "[BERT](https://huggingface.co/transformers/model_doc/bert.html#tfbertmodel) **uses three kind of input data** - input word IDs, input masks, and input type IDs.\n",
    "\n",
    "These allow the model to know that **the premise and hypothesis are distinct sentences**, and also to ignore any padding from the tokenizer.\n",
    "\n",
    "We add a [CLS] token to denote **the beginning of the inputs**, and a [SEP] token to denote the separation between **the premise and the hypothesis**. \n",
    "\n",
    "We also **need to pad** all of the inputs to be the same size.\n",
    "\n",
    "Now, we're going to **encode all of our premise/hypothesis pairs** for input into BERT."
   ]
  },
  {
   "cell_type": "code",
   "execution_count": 12,
   "id": "2521fba1-0fcc-4979-b960-df1b657eb54a",
   "metadata": {
    "_cell_guid": "037b0a29-3e6d-42b6-b13a-328fab19d15d",
    "_uuid": "dedb18d0-63cb-492b-8fe0-b4ebb8819e4c"
   },
   "outputs": [],
   "source": [
    "def bert_encode(hypotheses, premises, tokenizer):\n",
    "    \n",
    "    num_examples = len(hypotheses)\n",
    "    print(\"num_examples = \", num_examples)\n",
    "    \n",
    "    sentence1 = tf.ragged.constant([\n",
    "            encode_sentence(s) for s in np.array(hypotheses)\n",
    "    ])\n",
    "    print(\"sentence1.shape = \", sentence1.shape)\n",
    "    \n",
    "    sentence2 = tf.ragged.constant([\n",
    "        encode_sentence(s) for s in np.array(premises)\n",
    "    ])\n",
    "    print(\"sentence2.shape = \", sentence2.shape)\n",
    "\n",
    "    cls_ = [tokenizer.convert_tokens_to_ids(['[CLS]'])]*sentence1.shape[0]\n",
    "    input_word_ids = tf.concat([cls_, sentence1, sentence2], axis=-1)\n",
    "    print(\"input_word_ids.shape = \", input_word_ids.shape)\n",
    "\n",
    "    input_mask = tf.ones_like(input_word_ids).to_tensor(shape=(input_word_ids.shape[0], 300))\n",
    "    print(\"input_mask.shape = \", input_mask.shape)\n",
    "    \n",
    "    type_cls = tf.zeros_like(cls_)\n",
    "    type_s1 = tf.zeros_like(sentence1)\n",
    "    type_s2 = tf.ones_like(sentence2)\n",
    "    \n",
    "    input_type_ids = tf.concat([type_cls, type_s1, type_s2], axis=-1).to_tensor(shape=(input_word_ids.shape[0], 300))\n",
    "    \n",
    "    inputs = {\n",
    "        'input_word_ids': input_word_ids.to_tensor(shape=(input_word_ids.shape[0], 300)),\n",
    "        'input_mask': input_mask,\n",
    "        'input_type_ids': input_type_ids}\n",
    "    \n",
    "    print()\n",
    "    \n",
    "    return inputs"
   ]
  },
  {
   "cell_type": "code",
   "execution_count": 13,
   "id": "c289868b-b816-4b91-95cc-836a73f2ac46",
   "metadata": {
    "_cell_guid": "fc14d779-d0c6-4585-8e80-ebf539bd132c",
    "_uuid": "697579c5-9f89-421c-8cbc-4321a7c93179"
   },
   "outputs": [
    {
     "name": "stdout",
     "output_type": "stream",
     "text": [
      "num_examples =  12120\n",
      "sentence1.shape =  (12120, None)\n",
      "sentence2.shape =  (12120, None)\n",
      "input_word_ids.shape =  (12120, None)\n",
      "input_mask.shape =  (12120, 300)\n",
      "\n",
      "num_examples =  5195\n",
      "sentence1.shape =  (5195, None)\n",
      "sentence2.shape =  (5195, None)\n",
      "input_word_ids.shape =  (5195, None)\n",
      "input_mask.shape =  (5195, 300)\n",
      "\n"
     ]
    }
   ],
   "source": [
    "train_input = bert_encode(df_train.premise.values, df_train.hypothesis.values, tokenizer)\n",
    "test_input  = bert_encode(df_test.premise.values, df_test.hypothesis.values, tokenizer)"
   ]
  },
  {
   "cell_type": "markdown",
   "id": "3a7b835d-69a7-425d-bbae-4f33dc921192",
   "metadata": {
    "_cell_guid": "3dbd7066-6469-4823-8e09-e2dfa0a68bcc",
    "_uuid": "e1bf9ee4-e872-45d8-a118-a72eb7917d8b"
   },
   "source": [
    "## Creating & Training Model"
   ]
  },
  {
   "cell_type": "markdown",
   "id": "5b1daf52-b017-4815-8b70-0e5a4ea003bd",
   "metadata": {
    "_cell_guid": "7ebc4032-48bf-4bbd-8244-6b4ee38a1f56",
    "_uuid": "33811793-9df3-4d97-84c3-c5367a130cd7"
   },
   "source": [
    "Now, we can incorporate the BERT transformer into a Keras Functional Model. For more information about the Keras Functional API, see: https://www.tensorflow.org/guide/keras/functional.\n",
    "\n",
    "This model was inspired by the model in this notebook: https://www.kaggle.com/tanulsingh077/deep-learning-for-nlp-zero-to-transformers-bert#BERT-and-Its-Implementation-on-this-Competition, which is a wonderful introduction to NLP!"
   ]
  },
  {
   "cell_type": "code",
   "execution_count": 23,
   "id": "d15d1662-21ff-4353-8f87-0429a06cb29b",
   "metadata": {
    "_cell_guid": "69f90af1-4d66-4b83-a264-df23a3a68e26",
    "_uuid": "1094f3ff-6b5b-4b15-9d93-b0065ae586bd"
   },
   "outputs": [],
   "source": [
    "max_len = train_input[\"input_word_ids\"].shape[1]\n",
    "\n",
    "def build_model():    \n",
    "    bert_encoder = TFBertModel.from_pretrained(model_name)\n",
    "    \n",
    "    input_word_ids = tf.keras.Input(shape=(max_len,), dtype=tf.int32, name=\"input_word_ids\")\n",
    "    input_mask = tf.keras.Input(shape=(max_len,), dtype=tf.int32, name=\"input_mask\")\n",
    "    input_type_ids = tf.keras.Input(shape=(max_len,), dtype=tf.int32, name=\"input_type_ids\")\n",
    "    \n",
    "    embedding = bert_encoder([input_word_ids, input_mask, input_type_ids])[0]\n",
    "    \n",
    "    output = tf.keras.layers.Dense(3, activation='softmax')(embedding[:,0,:])\n",
    "    \n",
    "    model = tf.keras.Model(inputs=[input_word_ids, input_mask, input_type_ids], outputs=output)\n",
    "   \n",
    "    model.compile(\n",
    "        optimizer=tf.keras.optimizers.Adam(learning_rate=1e-5), \n",
    "        loss='sparse_categorical_crossentropy', \n",
    "        metrics=['accuracy'],\n",
    "    )\n",
    "    \n",
    "    return model"
   ]
  },
  {
   "cell_type": "code",
   "execution_count": 24,
   "id": "f316dd61-ce60-4ce5-8d32-51eb74f0a721",
   "metadata": {},
   "outputs": [
    {
     "name": "stderr",
     "output_type": "stream",
     "text": [
      "Some layers from the model checkpoint at bert-base-multilingual-cased were not used when initializing TFBertModel: ['mlm___cls', 'nsp___cls']\n",
      "- This IS expected if you are initializing TFBertModel from the checkpoint of a model trained on another task or with another architecture (e.g. initializing a BertForSequenceClassification model from a BertForPreTraining model).\n",
      "- This IS NOT expected if you are initializing TFBertModel from the checkpoint of a model that you expect to be exactly identical (initializing a BertForSequenceClassification model from a BertForSequenceClassification model).\n",
      "All the layers of TFBertModel were initialized from the model checkpoint at bert-base-multilingual-cased.\n",
      "If your task is similar to the task the model of the checkpoint was trained on, you can already use TFBertModel for predictions without further training.\n"
     ]
    },
    {
     "name": "stdout",
     "output_type": "stream",
     "text": [
      "Model: \"model_4\"\n",
      "__________________________________________________________________________________________________\n",
      " Layer (type)                   Output Shape         Param #     Connected to                     \n",
      "==================================================================================================\n",
      " input_word_ids (InputLayer)    [(None, 300)]        0           []                               \n",
      "                                                                                                  \n",
      " input_mask (InputLayer)        [(None, 300)]        0           []                               \n",
      "                                                                                                  \n",
      " input_type_ids (InputLayer)    [(None, 300)]        0           []                               \n",
      "                                                                                                  \n",
      " tf_bert_model_4 (TFBertModel)  TFBaseModelOutputWi  177853440   ['input_word_ids[0][0]',         \n",
      "                                thPooling(last_hidd               'input_mask[0][0]',             \n",
      "                                en_state=(None, 300               'input_type_ids[0][0]']         \n",
      "                                , 768),                                                           \n",
      "                                 pooler_output=(Non                                               \n",
      "                                e, 768),                                                          \n",
      "                                 hidden_states=None                                               \n",
      "                                , attentions=None)                                                \n",
      "                                                                                                  \n",
      " tf.__operators__.getitem_4 (Sl  (None, 768)         0           ['tf_bert_model_4[0][0]']        \n",
      " icingOpLambda)                                                                                   \n",
      "                                                                                                  \n",
      " dense_4 (Dense)                (None, 3)            2307        ['tf.__operators__.getitem_4[0][0\n",
      "                                                                 ]']                              \n",
      "                                                                                                  \n",
      "==================================================================================================\n",
      "Total params: 177,855,747\n",
      "Trainable params: 177,855,747\n",
      "Non-trainable params: 0\n",
      "__________________________________________________________________________________________________\n"
     ]
    }
   ],
   "source": [
    "model = build_model()\n",
    "model.summary()"
   ]
  },
  {
   "cell_type": "code",
   "execution_count": 26,
   "id": "64afa36b-c965-4c13-b8c1-cf7e313254c7",
   "metadata": {},
   "outputs": [
    {
     "name": "stdout",
     "output_type": "stream",
     "text": [
      "Epoch 1/20\n",
      "606/606 [==============================] - 163s 268ms/step - loss: 0.9324 - accuracy: 0.5541 - val_loss: 0.8492 - val_accuracy: 0.6221\n",
      "Epoch 2/20\n",
      "606/606 [==============================] - 162s 267ms/step - loss: 0.6778 - accuracy: 0.7090 - val_loss: 0.8437 - val_accuracy: 0.6444\n",
      "Epoch 3/20\n",
      "606/606 [==============================] - 162s 267ms/step - loss: 0.4502 - accuracy: 0.8224 - val_loss: 0.9162 - val_accuracy: 0.6572\n",
      "Epoch 4/20\n",
      "606/606 [==============================] - 162s 267ms/step - loss: 0.2843 - accuracy: 0.8970 - val_loss: 1.0962 - val_accuracy: 0.6568\n",
      "Epoch 5/20\n",
      "606/606 [==============================] - 169s 279ms/step - loss: 0.1677 - accuracy: 0.9414 - val_loss: 1.3773 - val_accuracy: 0.6411\n",
      "Epoch 6/20\n",
      "606/606 [==============================] - 162s 267ms/step - loss: 0.1159 - accuracy: 0.9603 - val_loss: 1.6603 - val_accuracy: 0.6390\n",
      "Epoch 7/20\n",
      "606/606 [==============================] - 162s 267ms/step - loss: 0.0751 - accuracy: 0.9754 - val_loss: 2.1034 - val_accuracy: 0.6394\n",
      "Epoch 8/20\n",
      "606/606 [==============================] - 162s 267ms/step - loss: 0.0732 - accuracy: 0.9728 - val_loss: 1.8552 - val_accuracy: 0.6333\n",
      "Epoch 9/20\n",
      "606/606 [==============================] - 162s 267ms/step - loss: 0.0536 - accuracy: 0.9816 - val_loss: 1.9357 - val_accuracy: 0.6440\n",
      "Epoch 10/20\n",
      "606/606 [==============================] - 162s 268ms/step - loss: 0.0516 - accuracy: 0.9827 - val_loss: 2.0465 - val_accuracy: 0.6423\n",
      "Epoch 11/20\n",
      "606/606 [==============================] - 162s 267ms/step - loss: 0.0445 - accuracy: 0.9835 - val_loss: 2.3262 - val_accuracy: 0.6399\n",
      "Epoch 12/20\n",
      "606/606 [==============================] - 162s 267ms/step - loss: 0.0460 - accuracy: 0.9847 - val_loss: 1.9010 - val_accuracy: 0.6382\n",
      "Epoch 13/20\n",
      "606/606 [==============================] - 162s 268ms/step - loss: 0.0378 - accuracy: 0.9890 - val_loss: 2.0323 - val_accuracy: 0.6456\n",
      "Epoch 14/20\n",
      "606/606 [==============================] - 162s 268ms/step - loss: 0.0289 - accuracy: 0.9900 - val_loss: 2.2999 - val_accuracy: 0.6452\n",
      "Epoch 15/20\n",
      "606/606 [==============================] - 162s 267ms/step - loss: 0.0379 - accuracy: 0.9865 - val_loss: 2.1733 - val_accuracy: 0.6427\n",
      "Epoch 16/20\n",
      "606/606 [==============================] - 162s 268ms/step - loss: 0.0272 - accuracy: 0.9909 - val_loss: 2.2481 - val_accuracy: 0.6460\n",
      "Epoch 17/20\n",
      "606/606 [==============================] - 162s 268ms/step - loss: 0.0280 - accuracy: 0.9907 - val_loss: 2.2228 - val_accuracy: 0.6456\n",
      "Epoch 18/20\n",
      "606/606 [==============================] - 162s 268ms/step - loss: 0.0252 - accuracy: 0.9912 - val_loss: 2.3670 - val_accuracy: 0.6456\n",
      "Epoch 19/20\n",
      "606/606 [==============================] - 163s 268ms/step - loss: 0.0299 - accuracy: 0.9902 - val_loss: 1.9681 - val_accuracy: 0.6535\n",
      "Epoch 20/20\n",
      "606/606 [==============================] - 162s 267ms/step - loss: 0.0294 - accuracy: 0.9905 - val_loss: 2.1854 - val_accuracy: 0.6609\n"
     ]
    }
   ],
   "source": [
    "model_history = model.fit(train_input, \n",
    "                          df_train[\"label\"].values, \n",
    "                          epochs = 20, \n",
    "                          verbose = 1,\n",
    "                          batch_size = 16, \n",
    "                          validation_split = 0.2)"
   ]
  },
  {
   "cell_type": "code",
   "execution_count": 34,
   "id": "44685cd7-4620-4de9-9e9d-9cb2a0cf26e1",
   "metadata": {},
   "outputs": [],
   "source": [
    "def plot_NN_history(model_history, suptitle):\n",
    "    # plot data\n",
    "    fig, axes = plt.subplots(nrows=1, ncols=2, figsize=(15,6))\n",
    "    fig.suptitle(suptitle, fontsize=18)\n",
    "    \n",
    "    axes[0].plot(model_history.history['accuracy'], label='train accuracy', color='g', axes=axes[0])\n",
    "    axes[0].plot(model_history.history['val_accuracy'], label='val accuracy', color='r', axes=axes[0])\n",
    "    axes[0].set_title(\"Model Accuracy\", fontsize=16) \n",
    "    axes[0].legend(loc='upper left')\n",
    "\n",
    "    axes[1].plot(model_history.history['loss'], label='train loss', color='g', axes=axes[1])\n",
    "    axes[1].plot(model_history.history['val_loss'], label='val loss', color='r', axes=axes[1])\n",
    "    axes[1].set_title(\"Model Loss\", fontsize=16) \n",
    "    axes[1].legend(loc='upper left')\n",
    "\n",
    "    plt.show()"
   ]
  },
  {
   "cell_type": "code",
   "execution_count": 35,
   "id": "1d294d79-ba08-4281-84db-5ae1cd4f23ba",
   "metadata": {},
   "outputs": [
    {
     "data": {
      "image/png": "[encoded data removed]",
      "text/plain": [
       "<Figure size 1080x432 with 2 Axes>"
      ]
     },
     "metadata": {},
     "output_type": "display_data"
    }
   ],
   "source": [
    "plot_NN_history(model_history, \"BERT\")"
   ]
  },
  {
   "cell_type": "markdown",
   "id": "b3d41cae-f760-42f2-991c-86d4ed551f2f",
   "metadata": {
    "_cell_guid": "87b18b05-30f3-45f9-9c3e-6f8184934bd0",
    "_uuid": "fb1ff888-7684-4888-b861-3c31a3f360b7"
   },
   "source": [
    "## Generating & Submitting Predictions"
   ]
  },
  {
   "cell_type": "code",
   "execution_count": 36,
   "id": "306b65d4-fd94-484f-92db-00e17e9f2555",
   "metadata": {
    "_cell_guid": "a7ab0c33-0377-4cb2-b4f9-fc489383fdb7",
    "_uuid": "f9db46a1-1f83-4ddb-85bf-da8f40afe623"
   },
   "outputs": [
    {
     "name": "stdout",
     "output_type": "stream",
     "text": [
      "163/163 [==============================] - 24s 146ms/step\n"
     ]
    }
   ],
   "source": [
    "predictions = [np.argmax(i) for i in model.predict(test_input)]"
   ]
  },
  {
   "cell_type": "markdown",
   "id": "b9b80d84-d34c-4262-ba76-9e155b092166",
   "metadata": {
    "_cell_guid": "1d0e8e42-2746-4331-95a5-3eb78ca6861c",
    "_uuid": "7b489c00-896d-44af-9371-16c2cf222365"
   },
   "source": [
    "The submission file will consist of the ID column and a prediction column. We can just copy the ID column from the test file, make it a dataframe, and then add our prediction column."
   ]
  },
  {
   "cell_type": "code",
   "execution_count": 37,
   "id": "f5fce21f-3273-4835-9dca-5c747b2d9c75",
   "metadata": {
    "_cell_guid": "add7302f-ae26-4e78-b69d-858cacb35991",
    "_uuid": "9e0e34fa-1ef7-4207-a5c3-c21863c7be27"
   },
   "outputs": [],
   "source": [
    "submission = df_test.id.copy().to_frame()\n",
    "submission['prediction'] = predictions"
   ]
  },
  {
   "cell_type": "code",
   "execution_count": 38,
   "id": "6267d35d-2de3-4c5c-a6dc-1f97e44a5a56",
   "metadata": {
    "_cell_guid": "84abe9e3-ef04-4dac-97d2-2308a0f11313",
    "_uuid": "b8463f7e-8b2f-4c24-8eb3-a35ec02a2d6e"
   },
   "outputs": [],
   "source": [
    "submission.to_csv(\"submission.csv\", index = False)"
   ]
  },
  {
   "cell_type": "code",
   "execution_count": null,
   "id": "b3bd0cf7-2321-4015-b192-c0a276b46c42",
   "metadata": {},
   "outputs": [],
   "source": []
  },
  {
   "cell_type": "code",
   "execution_count": null,
   "id": "022fe12d-4b7a-4ca1-8214-07945001d3a3",
   "metadata": {},
   "outputs": [],
   "source": []
  },
  {
   "cell_type": "code",
   "execution_count": null,
   "id": "4bdd364e-fb69-4054-ad64-ab16a22a549a",
   "metadata": {},
   "outputs": [],
   "source": []
  }
 ],
 "metadata": {
  "kernelspec": {
   "display_name": "tr",
   "language": "python",
   "name": "tr"
  },
  "language_info": {
   "codemirror_mode": {
    "name": "ipython",
    "version": 3
   },
   "file_extension": ".py",
   "mimetype": "text/x-python",
   "name": "python",
   "nbconvert_exporter": "python",
   "pygments_lexer": "ipython3",
   "version": "3.8.8"
  }
 },
 "nbformat": 4,
 "nbformat_minor": 5
}
