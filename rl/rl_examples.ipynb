{
 "cells": [
  {
   "cell_type": "code",
   "execution_count": 47,
   "metadata": {},
   "outputs": [],
   "source": [
    "import numpy as np\n",
    "import pandas as pd\n",
    "import matplotlib.pyplot as plt\n",
    "import seaborn as sns"
   ]
  },
  {
   "cell_type": "code",
   "execution_count": 81,
   "metadata": {},
   "outputs": [
    {
     "data": {
      "text/plain": [
       "array([[0., 0., 0., 0.],\n",
       "       [0., 0., 0., 0.],\n",
       "       [0., 0., 0., 0.],\n",
       "       [0., 0., 0., 0.]])"
      ]
     },
     "execution_count": 81,
     "metadata": {},
     "output_type": "execute_result"
    }
   ],
   "source": [
    "V_shape = (5,5)\n",
    "V = np.zeros(V_shape)\n",
    "i_max = V.shape[0]-1\n",
    "j_max = V.shape[1]-1\n",
    "V"
   ]
  },
  {
   "cell_type": "code",
   "execution_count": 82,
   "metadata": {},
   "outputs": [],
   "source": [
    "gamma = 0.9"
   ]
  },
  {
   "cell_type": "code",
   "execution_count": 83,
   "metadata": {},
   "outputs": [],
   "source": [
    "def reward(i,j):\n",
    "    if i==0 and j==0:\n",
    "        return 0\n",
    "    if i==i_max and j==j_max:\n",
    "        return 0\n",
    "    return -1"
   ]
  },
  {
   "cell_type": "code",
   "execution_count": 84,
   "metadata": {},
   "outputs": [],
   "source": [
    "def next_states(i,j):\n",
    "    states = []\n",
    "    # left\n",
    "    if j>0:\n",
    "        states.append((i,j-1))\n",
    "    # right\n",
    "    if j<j_max:\n",
    "        states.append((i,j+1))\n",
    "    # up\n",
    "    if i>0:\n",
    "        states.append((i-1,j))\n",
    "    # down\n",
    "    if i<i_max:\n",
    "        states.append((i+1,j))\n",
    "    return states"
   ]
  },
  {
   "cell_type": "code",
   "execution_count": 85,
   "metadata": {},
   "outputs": [],
   "source": [
    "# random policy\n",
    "def next_V(V):\n",
    "    V_prime = np.zeros(V_shape)\n",
    "    for i in range(i_max+1):\n",
    "        for j in range(j_max+1):\n",
    "            states = next_states(i,j)\n",
    "            p = 1/len(states)\n",
    "            v_prime = 0\n",
    "            for s in states:\n",
    "                k,l = s\n",
    "                r = reward(k,l)\n",
    "                v_prime += p*(r + gamma*V[k,l])\n",
    "            V_prime[i,j] = v_prime\n",
    "    return V_prime"
   ]
  },
  {
   "cell_type": "code",
   "execution_count": 86,
   "metadata": {},
   "outputs": [],
   "source": [
    "# greedy policy\n",
    "def greedy_next_V(V):\n",
    "    V_prime = np.zeros(V_shape)\n",
    "    for i in range(i_max+1):\n",
    "        for j in range(j_max+1):\n",
    "            states = next_states(i,j)\n",
    "            values_choice = []\n",
    "            for s in states:\n",
    "                k,l = s\n",
    "                values_choice.append(V[k,l])\n",
    "            arg_max = np.argmax(values_choice)\n",
    "            k,l = states[arg_max]\n",
    "            r = reward(k,l)\n",
    "            V_prime[i,j] = (r + gamma*V[k,l])\n",
    "    return V_prime"
   ]
  },
  {
   "cell_type": "code",
   "execution_count": 87,
   "metadata": {},
   "outputs": [
    {
     "data": {
      "text/plain": [
       "array([[-9.02684442, -8.91874553, -9.27452777, -9.34705286],\n",
       "       [-8.91874553, -9.20563115, -9.31604938, -9.27452777],\n",
       "       [-9.27452777, -9.31604938, -9.20563115, -8.91874553],\n",
       "       [-9.34705286, -9.27452777, -8.91874553, -9.02684442]])"
      ]
     },
     "execution_count": 87,
     "metadata": {},
     "output_type": "execute_result"
    }
   ],
   "source": [
    "for _ in range(100):\n",
    "    V = next_V(V)\n",
    "V"
   ]
  },
  {
   "cell_type": "code",
   "execution_count": 88,
   "metadata": {},
   "outputs": [
    {
     "data": {
      "text/plain": [
       "array([[-9.02708906, -8.91898784, -9.27477241, -9.34729517],\n",
       "       [-8.91898784, -9.20587579, -9.31629169, -9.27477241],\n",
       "       [-9.27477241, -9.31629169, -9.20587579, -8.91898784],\n",
       "       [-9.34729517, -9.27477241, -8.91898784, -9.02708906]])"
      ]
     },
     "execution_count": 88,
     "metadata": {},
     "output_type": "execute_result"
    }
   ],
   "source": [
    "for _ in range(100):\n",
    "    V = next_V(V)\n",
    "V"
   ]
  },
  {
   "cell_type": "code",
   "execution_count": 89,
   "metadata": {},
   "outputs": [
    {
     "data": {
      "text/plain": [
       "array([[-5.26325787, -4.73695319, -5.26325787, -5.73695319],\n",
       "       [-5.73695319, -5.26325787, -5.73695319, -6.16325787],\n",
       "       [-6.16325787, -5.73695319, -6.16325787, -6.54695319],\n",
       "       [-6.54695319, -6.16325787, -6.54695319, -6.89225787]])"
      ]
     },
     "execution_count": 89,
     "metadata": {},
     "output_type": "execute_result"
    }
   ],
   "source": [
    "for _ in range(100):\n",
    "    V = greedy_next_V(V)\n",
    "V"
   ]
  },
  {
   "cell_type": "code",
   "execution_count": 90,
   "metadata": {},
   "outputs": [
    {
     "data": {
      "text/plain": [
       "array([[-5.2631579 , -4.73684211, -5.2631579 , -5.73684211],\n",
       "       [-5.73684211, -5.2631579 , -5.73684211, -6.1631579 ],\n",
       "       [-6.1631579 , -5.73684211, -6.1631579 , -6.54684211],\n",
       "       [-6.54684211, -6.1631579 , -6.54684211, -6.8921579 ]])"
      ]
     },
     "execution_count": 90,
     "metadata": {},
     "output_type": "execute_result"
    }
   ],
   "source": [
    "for _ in range(100):\n",
    "    V = greedy_next_V(V)\n",
    "V"
   ]
  },
  {
   "cell_type": "code",
   "execution_count": null,
   "metadata": {},
   "outputs": [],
   "source": []
  }
 ],
 "metadata": {
  "kernelspec": {
   "display_name": "Python 3",
   "language": "python",
   "name": "python3"
  },
  "language_info": {
   "codemirror_mode": {
    "name": "ipython",
    "version": 3
   },
   "file_extension": ".py",
   "mimetype": "text/x-python",
   "name": "python",
   "nbconvert_exporter": "python",
   "pygments_lexer": "ipython3",
   "version": "3.8.8"
  }
 },
 "nbformat": 4,
 "nbformat_minor": 4
}
