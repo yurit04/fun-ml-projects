{
 "cells": [
  {
   "cell_type": "code",
   "execution_count": 1,
   "metadata": {},
   "outputs": [],
   "source": [
    "import pandas as pd\n",
    "import numpy as np\n",
    "import matplotlib.pyplot as plt"
   ]
  },
  {
   "cell_type": "code",
   "execution_count": 72,
   "metadata": {},
   "outputs": [
    {
     "data": {
      "text/plain": [
       "'/Users/yuriturygin/Documents/Python Scripts/rl'"
      ]
     },
     "execution_count": 72,
     "metadata": {},
     "output_type": "execute_result"
    }
   ],
   "source": [
    "pwd()"
   ]
  },
  {
   "cell_type": "code",
   "execution_count": 7,
   "metadata": {},
   "outputs": [],
   "source": [
    "class Bandit:\n",
    "    \n",
    "    def __init__(\n",
    "        self,\n",
    "        mu,\n",
    "        sigma\n",
    "    ):\n",
    "        self.mu = mu\n",
    "        self.sigma = sigma\n",
    "        \n",
    "    def reward(self):\n",
    "        return self.mu + self.sigma*np.random.randn()"
   ]
  },
  {
   "cell_type": "code",
   "execution_count": 42,
   "metadata": {},
   "outputs": [],
   "source": [
    "class MultiArmBandit:\n",
    "    \n",
    "    def __init__(\n",
    "        self,\n",
    "        bandit_arms : list\n",
    "    ):\n",
    "        self.arms = bandit_arms\n",
    "        self.n = len(bandit_arms)\n",
    "        self.indices = np.arange(self.n)\n",
    "        \n",
    "    def action(self,k):\n",
    "        if k < self.n:\n",
    "            return self.arms[k].reward()"
   ]
  },
  {
   "cell_type": "code",
   "execution_count": 65,
   "metadata": {},
   "outputs": [],
   "source": [
    "def estimate_q(\n",
    "    multi_arm_bandit : MultiArmBandit,\n",
    "    epsilon,\n",
    "    initial_q,\n",
    "    trials=1000\n",
    "):\n",
    "    q_estimate = np.zeros(multi_arm_bandit.n) + initial_q\n",
    "    n_calls = np.zeros(multi_arm_bandit.n)\n",
    "    \n",
    "    for _ in range(trials):\n",
    "        \n",
    "        if np.random.rand() < epsilon:\n",
    "            k = np.random.choice(multi_arm_bandit.indices)\n",
    "        else:\n",
    "            k = np.argmax(q_estimate)\n",
    "        \n",
    "        n_calls[k] += 1\n",
    "        \n",
    "        R = multi_arm_bandit.action(k)\n",
    "        q_estimate[k] += (R - q_estimate[k])/n_calls[k]\n",
    "        \n",
    "    return q_estimate"
   ]
  },
  {
   "cell_type": "code",
   "execution_count": 71,
   "metadata": {},
   "outputs": [
    {
     "data": {
      "text/plain": [
       "array([ 5.00123672, 10.00923063])"
      ]
     },
     "execution_count": 71,
     "metadata": {},
     "output_type": "execute_result"
    }
   ],
   "source": [
    "estimate_q(\n",
    "    multi_arm_bandit=MultiArmBandit([Bandit(5,2),Bandit(10,3)]),\n",
    "    epsilon=0.1,\n",
    "    initial_q=0,\n",
    "    trials=10000\n",
    ")"
   ]
  },
  {
   "cell_type": "code",
   "execution_count": null,
   "metadata": {},
   "outputs": [],
   "source": []
  }
 ],
 "metadata": {
  "kernelspec": {
   "display_name": "base",
   "language": "python",
   "name": "base"
  },
  "language_info": {
   "codemirror_mode": {
    "name": "ipython",
    "version": 3
   },
   "file_extension": ".py",
   "mimetype": "text/x-python",
   "name": "python",
   "nbconvert_exporter": "python",
   "pygments_lexer": "ipython3",
   "version": "3.8.5"
  }
 },
 "nbformat": 4,
 "nbformat_minor": 4
}
