{
 "cells": [
  {
   "cell_type": "code",
   "execution_count": 1,
   "metadata": {},
   "outputs": [],
   "source": [
    "import numpy as np\n",
    "import tensorflow as tf\n",
    "from tensorflow import keras\n",
    "from tensorflow.keras import layers\n",
    "import tensorflow_datasets as tfds\n",
    "import tensorflow_probability as tfp"
   ]
  },
  {
   "cell_type": "code",
   "execution_count": 2,
   "metadata": {},
   "outputs": [],
   "source": [
    "def get_train_and_test_splits(train_size, batch_size=1):\n",
    "    # We prefetch with a buffer the same size as the dataset because th dataset\n",
    "    # is very small and fits into memory.\n",
    "    dataset = (\n",
    "        tfds.load(name=\"wine_quality\", as_supervised=True, split=\"train\")\n",
    "        .map(lambda x, y: (x, tf.cast(y, tf.float32)))\n",
    "        .prefetch(buffer_size=dataset_size)\n",
    "        .cache()\n",
    "    )\n",
    "    # We shuffle with a buffer the same size as the dataset.\n",
    "    train_dataset = (\n",
    "        dataset.take(train_size).shuffle(buffer_size=train_size).batch(batch_size)\n",
    "    )\n",
    "    test_dataset = dataset.skip(train_size).batch(batch_size)\n",
    "\n",
    "    return train_dataset, test_dataset"
   ]
  },
  {
   "cell_type": "code",
   "execution_count": 3,
   "metadata": {},
   "outputs": [],
   "source": [
    "hidden_units = [8, 8]\n",
    "learning_rate = 0.001\n",
    "\n",
    "\n",
    "def run_experiment(model, loss, train_dataset, test_dataset):\n",
    "\n",
    "    model.compile(\n",
    "        optimizer=keras.optimizers.RMSprop(learning_rate=learning_rate),\n",
    "        loss=loss,\n",
    "        metrics=[keras.metrics.RootMeanSquaredError()],\n",
    "    )\n",
    "\n",
    "    print(\"Start training the model...\")\n",
    "    model.fit(train_dataset, epochs=num_epochs, validation_data=test_dataset, verbose=0)\n",
    "    print(\"Model training finished.\")\n",
    "    _, rmse = model.evaluate(train_dataset, verbose=0)\n",
    "    print(f\"Train RMSE: {round(rmse, 3)}\")\n",
    "\n",
    "    print(\"Evaluating model performance...\")\n",
    "    _, rmse = model.evaluate(test_dataset, verbose=0)\n",
    "    print(f\"Test RMSE: {round(rmse, 3)}\")"
   ]
  },
  {
   "cell_type": "code",
   "execution_count": 4,
   "metadata": {},
   "outputs": [],
   "source": [
    "FEATURE_NAMES = [\n",
    "    \"fixed acidity\",\n",
    "    \"volatile acidity\",\n",
    "    \"citric acid\",\n",
    "    \"residual sugar\",\n",
    "    \"chlorides\",\n",
    "    \"free sulfur dioxide\",\n",
    "    \"total sulfur dioxide\",\n",
    "    \"density\",\n",
    "    \"pH\",\n",
    "    \"sulphates\",\n",
    "    \"alcohol\",\n",
    "]\n",
    "\n",
    "\n",
    "def create_model_inputs():\n",
    "    inputs = {}\n",
    "    for feature_name in FEATURE_NAMES:\n",
    "        inputs[feature_name] = layers.Input(\n",
    "            name=feature_name, shape=(1,), dtype=tf.float32\n",
    "        )\n",
    "    return inputs"
   ]
  },
  {
   "cell_type": "markdown",
   "metadata": {},
   "source": [
    "# Experiment 1: standard neural network"
   ]
  },
  {
   "cell_type": "code",
   "execution_count": 5,
   "metadata": {},
   "outputs": [],
   "source": [
    "def create_baseline_model():\n",
    "    inputs = create_model_inputs()\n",
    "    input_values = [value for _, value in sorted(inputs.items())]\n",
    "    features = keras.layers.concatenate(input_values)\n",
    "    features = layers.BatchNormalization()(features)\n",
    "\n",
    "    # Create hidden layers with deterministic weights using the Dense layer.\n",
    "    for units in hidden_units:\n",
    "        features = layers.Dense(units, activation=\"sigmoid\")(features)\n",
    "    # The output is deterministic: a single point estimate.\n",
    "    outputs = layers.Dense(units=1)(features)\n",
    "\n",
    "    model = keras.Model(inputs=inputs, outputs=outputs)\n",
    "    return model"
   ]
  },
  {
   "cell_type": "code",
   "execution_count": 6,
   "metadata": {},
   "outputs": [],
   "source": [
    "dataset_size = 4898\n",
    "batch_size = 256\n",
    "train_size = int(dataset_size * 0.85)\n",
    "train_dataset, test_dataset = get_train_and_test_splits(train_size, batch_size)"
   ]
  },
  {
   "cell_type": "code",
   "execution_count": 7,
   "metadata": {},
   "outputs": [
    {
     "name": "stdout",
     "output_type": "stream",
     "text": [
      "Start training the model...\n",
      "Model training finished.\n",
      "Train RMSE: 0.751\n",
      "Evaluating model performance...\n",
      "Test RMSE: 0.745\n"
     ]
    }
   ],
   "source": [
    "num_epochs = 100\n",
    "mse_loss = keras.losses.MeanSquaredError()\n",
    "baseline_model = create_baseline_model()\n",
    "run_experiment(baseline_model, mse_loss, train_dataset, test_dataset)"
   ]
  },
  {
   "cell_type": "code",
   "execution_count": 8,
   "metadata": {},
   "outputs": [
    {
     "name": "stdout",
     "output_type": "stream",
     "text": [
      "Predicted: 5.3 - Actual: 6.0\n",
      "Predicted: 6.2 - Actual: 7.0\n",
      "Predicted: 6.2 - Actual: 7.0\n",
      "Predicted: 6.4 - Actual: 6.0\n",
      "Predicted: 6.1 - Actual: 6.0\n",
      "Predicted: 5.0 - Actual: 5.0\n",
      "Predicted: 5.6 - Actual: 5.0\n",
      "Predicted: 6.1 - Actual: 6.0\n",
      "Predicted: 5.8 - Actual: 5.0\n",
      "Predicted: 6.0 - Actual: 5.0\n"
     ]
    }
   ],
   "source": [
    "sample = 10\n",
    "examples, targets = list(test_dataset.unbatch().shuffle(batch_size * 10).batch(sample))[\n",
    "    0\n",
    "]\n",
    "\n",
    "predicted = baseline_model(examples).numpy()\n",
    "for idx in range(sample):\n",
    "    print(f\"Predicted: {round(float(predicted[idx][0]), 1)} - Actual: {targets[idx]}\")"
   ]
  },
  {
   "cell_type": "markdown",
   "metadata": {},
   "source": [
    "# Experiment 2: Bayesian neural network (BNN)"
   ]
  },
  {
   "cell_type": "code",
   "execution_count": 9,
   "metadata": {},
   "outputs": [],
   "source": [
    "# Define the prior weight distribution as Normal of mean=0 and stddev=1.\n",
    "# Note that, in this example, the we prior distribution is not trainable,\n",
    "# as we fix its parameters.\n",
    "def prior(kernel_size, bias_size, dtype=None):\n",
    "    n = kernel_size + bias_size\n",
    "    prior_model = keras.Sequential(\n",
    "        [\n",
    "            tfp.layers.DistributionLambda(\n",
    "                lambda t: tfp.distributions.MultivariateNormalDiag(\n",
    "                    loc=tf.zeros(n), scale_diag=tf.ones(n)\n",
    "                )\n",
    "            )\n",
    "        ]\n",
    "    )\n",
    "    return prior_model\n",
    "\n",
    "\n",
    "# Define variational posterior weight distribution as multivariate Gaussian.\n",
    "# Note that the learnable parameters for this distribution are the means,\n",
    "# variances, and covariances.\n",
    "def posterior(kernel_size, bias_size, dtype=None):\n",
    "    n = kernel_size + bias_size\n",
    "    posterior_model = keras.Sequential(\n",
    "        [\n",
    "            tfp.layers.VariableLayer(\n",
    "                tfp.layers.MultivariateNormalTriL.params_size(n), dtype=dtype\n",
    "            ),\n",
    "            tfp.layers.MultivariateNormalTriL(n),\n",
    "        ]\n",
    "    )\n",
    "    return posterior_model"
   ]
  },
  {
   "cell_type": "code",
   "execution_count": 11,
   "metadata": {},
   "outputs": [
    {
     "name": "stdout",
     "output_type": "stream",
     "text": [
      "WARNING:tensorflow:From C:\\Users\\yurit\\anaconda3\\envs\\tf\\lib\\site-packages\\tensorflow_probability\\python\\distributions\\distribution.py:345: calling MultivariateNormalDiag.__init__ (from tensorflow_probability.python.distributions.mvn_diag) with scale_identity_multiplier is deprecated and will be removed after 2020-01-01.\n",
      "Instructions for updating:\n",
      "`scale_identity_multiplier` is deprecated; please combine it into `scale_diag` directly instead.\n"
     ]
    },
    {
     "name": "stderr",
     "output_type": "stream",
     "text": [
      "WARNING:tensorflow:From C:\\Users\\yurit\\anaconda3\\envs\\tf\\lib\\site-packages\\tensorflow_probability\\python\\distributions\\distribution.py:345: calling MultivariateNormalDiag.__init__ (from tensorflow_probability.python.distributions.mvn_diag) with scale_identity_multiplier is deprecated and will be removed after 2020-01-01.\n",
      "Instructions for updating:\n",
      "`scale_identity_multiplier` is deprecated; please combine it into `scale_diag` directly instead.\n"
     ]
    },
    {
     "name": "stdout",
     "output_type": "stream",
     "text": [
      "Start training the model...\n",
      "Model training finished.\n",
      "Train RMSE: 0.797\n",
      "Evaluating model performance...\n",
      "Test RMSE: 0.798\n"
     ]
    }
   ],
   "source": [
    "num_epochs = 500\n",
    "train_sample_size = int(train_size * 0.3)\n",
    "small_train_dataset = train_dataset.unbatch().take(train_sample_size).batch(batch_size)\n",
    "\n",
    "bnn_model_small = create_bnn_model(train_sample_size)\n",
    "run_experiment(bnn_model_small, mse_loss, small_train_dataset, test_dataset)\n"
   ]
  },
  {
   "cell_type": "code",
   "execution_count": 10,
   "metadata": {},
   "outputs": [],
   "source": [
    "def create_bnn_model(train_size):\n",
    "    inputs = create_model_inputs()\n",
    "    features = keras.layers.concatenate(list(inputs.values()))\n",
    "    features = layers.BatchNormalization()(features)\n",
    "\n",
    "    # Create hidden layers with weight uncertainty using the DenseVariational layer.\n",
    "    for units in hidden_units:\n",
    "        features = tfp.layers.DenseVariational(\n",
    "            units=units,\n",
    "            make_prior_fn=prior,\n",
    "            make_posterior_fn=posterior,\n",
    "            kl_weight=1 / train_size,\n",
    "            activation=\"sigmoid\",\n",
    "        )(features)\n",
    "\n",
    "    # The output is deterministic: a single point estimate.\n",
    "    outputs = layers.Dense(units=1)(features)\n",
    "    model = keras.Model(inputs=inputs, outputs=outputs)\n",
    "    return model"
   ]
  },
  {
   "cell_type": "code",
   "execution_count": 12,
   "metadata": {},
   "outputs": [
    {
     "name": "stdout",
     "output_type": "stream",
     "text": [
      "Predictions mean: 5.33, min: 4.66, max: 6.05, range: 1.4 - Actual: 6.0\n",
      "Predictions mean: 6.28, min: 5.97, max: 6.56, range: 0.6 - Actual: 7.0\n",
      "Predictions mean: 6.22, min: 5.83, max: 6.49, range: 0.66 - Actual: 7.0\n",
      "Predictions mean: 6.36, min: 5.91, max: 6.58, range: 0.67 - Actual: 6.0\n",
      "Predictions mean: 6.15, min: 5.84, max: 6.43, range: 0.59 - Actual: 6.0\n",
      "Predictions mean: 5.1, min: 4.43, max: 6.0, range: 1.58 - Actual: 5.0\n",
      "Predictions mean: 5.66, min: 5.15, max: 6.26, range: 1.11 - Actual: 5.0\n",
      "Predictions mean: 6.15, min: 5.84, max: 6.43, range: 0.59 - Actual: 6.0\n",
      "Predictions mean: 5.81, min: 5.1, max: 6.36, range: 1.27 - Actual: 5.0\n",
      "Predictions mean: 6.2, min: 5.95, max: 6.45, range: 0.5 - Actual: 5.0\n"
     ]
    }
   ],
   "source": [
    "def compute_predictions(model, iterations=100):\n",
    "    predicted = []\n",
    "    for _ in range(iterations):\n",
    "        predicted.append(model(examples).numpy())\n",
    "    predicted = np.concatenate(predicted, axis=1)\n",
    "\n",
    "    prediction_mean = np.mean(predicted, axis=1).tolist()\n",
    "    prediction_min = np.min(predicted, axis=1).tolist()\n",
    "    prediction_max = np.max(predicted, axis=1).tolist()\n",
    "    prediction_range = (np.max(predicted, axis=1) - np.min(predicted, axis=1)).tolist()\n",
    "\n",
    "    for idx in range(sample):\n",
    "        print(\n",
    "            f\"Predictions mean: {round(prediction_mean[idx], 2)}, \"\n",
    "            f\"min: {round(prediction_min[idx], 2)}, \"\n",
    "            f\"max: {round(prediction_max[idx], 2)}, \"\n",
    "            f\"range: {round(prediction_range[idx], 2)} - \"\n",
    "            f\"Actual: {targets[idx]}\"\n",
    "        )\n",
    "\n",
    "\n",
    "compute_predictions(bnn_model_small)"
   ]
  },
  {
   "cell_type": "markdown",
   "metadata": {},
   "source": [
    "## Train BNN with the whole training set."
   ]
  },
  {
   "cell_type": "code",
   "execution_count": 13,
   "metadata": {},
   "outputs": [
    {
     "name": "stdout",
     "output_type": "stream",
     "text": [
      "Start training the model...\n",
      "Model training finished.\n",
      "Train RMSE: 0.765\n",
      "Evaluating model performance...\n",
      "Test RMSE: 0.778\n",
      "Predictions mean: 5.29, min: 5.0, max: 5.59, range: 0.58 - Actual: 6.0\n",
      "Predictions mean: 6.35, min: 5.96, max: 6.53, range: 0.57 - Actual: 7.0\n",
      "Predictions mean: 6.22, min: 5.75, max: 6.43, range: 0.68 - Actual: 7.0\n",
      "Predictions mean: 6.51, min: 6.01, max: 6.64, range: 0.64 - Actual: 6.0\n",
      "Predictions mean: 6.1, min: 5.71, max: 6.35, range: 0.63 - Actual: 6.0\n",
      "Predictions mean: 5.17, min: 4.88, max: 5.42, range: 0.53 - Actual: 5.0\n",
      "Predictions mean: 5.67, min: 5.3, max: 5.94, range: 0.64 - Actual: 5.0\n",
      "Predictions mean: 6.12, min: 5.73, max: 6.35, range: 0.62 - Actual: 6.0\n",
      "Predictions mean: 5.74, min: 5.36, max: 6.01, range: 0.65 - Actual: 5.0\n",
      "Predictions mean: 6.13, min: 5.71, max: 6.32, range: 0.61 - Actual: 5.0\n"
     ]
    }
   ],
   "source": [
    "num_epochs = 500\n",
    "bnn_model_full = create_bnn_model(train_size)\n",
    "run_experiment(bnn_model_full, mse_loss, train_dataset, test_dataset)\n",
    "\n",
    "compute_predictions(bnn_model_full)"
   ]
  },
  {
   "cell_type": "markdown",
   "metadata": {},
   "source": [
    "# Experiment 3: probabilistic Bayesian neural network"
   ]
  },
  {
   "cell_type": "code",
   "execution_count": 14,
   "metadata": {},
   "outputs": [],
   "source": [
    "def create_probablistic_bnn_model(train_size):\n",
    "    inputs = create_model_inputs()\n",
    "    features = keras.layers.concatenate(list(inputs.values()))\n",
    "    features = layers.BatchNormalization()(features)\n",
    "\n",
    "    # Create hidden layers with weight uncertainty using the DenseVariational layer.\n",
    "    for units in hidden_units:\n",
    "        features = tfp.layers.DenseVariational(\n",
    "            units=units,\n",
    "            make_prior_fn=prior,\n",
    "            make_posterior_fn=posterior,\n",
    "            kl_weight=1 / train_size,\n",
    "            activation=\"sigmoid\",\n",
    "        )(features)\n",
    "\n",
    "    # Create a probabilisticå output (Normal distribution), and use the `Dense` layer\n",
    "    # to produce the parameters of the distribution.\n",
    "    # We set units=2 to learn both the mean and the variance of the Normal distribution.\n",
    "    distribution_params = layers.Dense(units=2)(features)\n",
    "    outputs = tfp.layers.IndependentNormal(1)(distribution_params)\n",
    "\n",
    "    model = keras.Model(inputs=inputs, outputs=outputs)\n",
    "    return model"
   ]
  },
  {
   "cell_type": "code",
   "execution_count": 15,
   "metadata": {},
   "outputs": [
    {
     "name": "stdout",
     "output_type": "stream",
     "text": [
      "Start training the model...\n",
      "Model training finished.\n",
      "Train RMSE: 1.064\n",
      "Evaluating model performance...\n",
      "Test RMSE: 1.085\n"
     ]
    }
   ],
   "source": [
    "def negative_loglikelihood(targets, estimated_distribution):\n",
    "    return -estimated_distribution.log_prob(targets)\n",
    "\n",
    "\n",
    "num_epochs = 1000\n",
    "prob_bnn_model = create_probablistic_bnn_model(train_size)\n",
    "run_experiment(prob_bnn_model, negative_loglikelihood, train_dataset, test_dataset)"
   ]
  },
  {
   "cell_type": "code",
   "execution_count": 16,
   "metadata": {},
   "outputs": [
    {
     "name": "stdout",
     "output_type": "stream",
     "text": [
      "Prediction mean: 5.48, stddev: 0.72, 95% CI: [6.89 - 4.06] - Actual: 6.0\n",
      "Prediction mean: 6.25, stddev: 0.8, 95% CI: [7.82 - 4.68] - Actual: 7.0\n",
      "Prediction mean: 6.06, stddev: 0.74, 95% CI: [7.52 - 4.6] - Actual: 7.0\n",
      "Prediction mean: 6.43, stddev: 0.8, 95% CI: [7.99 - 4.86] - Actual: 6.0\n",
      "Prediction mean: 5.87, stddev: 0.72, 95% CI: [7.28 - 4.47] - Actual: 6.0\n",
      "Prediction mean: 5.22, stddev: 0.69, 95% CI: [6.57 - 3.87] - Actual: 5.0\n",
      "Prediction mean: 5.62, stddev: 0.7, 95% CI: [6.99 - 4.24] - Actual: 5.0\n",
      "Prediction mean: 5.9, stddev: 0.72, 95% CI: [7.31 - 4.49] - Actual: 6.0\n",
      "Prediction mean: 5.63, stddev: 0.72, 95% CI: [7.04 - 4.22] - Actual: 5.0\n",
      "Prediction mean: 5.85, stddev: 0.74, 95% CI: [7.3 - 4.39] - Actual: 5.0\n"
     ]
    }
   ],
   "source": [
    "prediction_distribution = prob_bnn_model(examples)\n",
    "prediction_mean = prediction_distribution.mean().numpy().tolist()\n",
    "prediction_stdv = prediction_distribution.stddev().numpy()\n",
    "\n",
    "# The 95% CI is computed as mean ± (1.96 * stdv)\n",
    "upper = (prediction_mean + (1.96 * prediction_stdv)).tolist()\n",
    "lower = (prediction_mean - (1.96 * prediction_stdv)).tolist()\n",
    "prediction_stdv = prediction_stdv.tolist()\n",
    "\n",
    "for idx in range(sample):\n",
    "    print(\n",
    "        f\"Prediction mean: {round(prediction_mean[idx][0], 2)}, \"\n",
    "        f\"stddev: {round(prediction_stdv[idx][0], 2)}, \"\n",
    "        f\"95% CI: [{round(upper[idx][0], 2)} - {round(lower[idx][0], 2)}]\"\n",
    "        f\" - Actual: {targets[idx]}\"\n",
    "    )"
   ]
  },
  {
   "cell_type": "code",
   "execution_count": null,
   "metadata": {},
   "outputs": [],
   "source": []
  },
  {
   "cell_type": "code",
   "execution_count": null,
   "metadata": {},
   "outputs": [],
   "source": []
  }
 ],
 "metadata": {
  "kernelspec": {
   "display_name": "tf",
   "language": "python",
   "name": "tf"
  },
  "language_info": {
   "codemirror_mode": {
    "name": "ipython",
    "version": 3
   },
   "file_extension": ".py",
   "mimetype": "text/x-python",
   "name": "python",
   "nbconvert_exporter": "python",
   "pygments_lexer": "ipython3",
   "version": "3.9.13"
  }
 },
 "nbformat": 4,
 "nbformat_minor": 4
}
