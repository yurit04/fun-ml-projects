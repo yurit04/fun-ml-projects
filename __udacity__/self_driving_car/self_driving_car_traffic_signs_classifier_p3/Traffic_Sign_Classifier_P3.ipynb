{
 "cells": [
  {
   "cell_type": "markdown",
   "metadata": {
    "id": "HBDDwauk1rgl"
   },
   "source": [
    "# Self-Driving Car Engineer Nanodegree\n",
    "\n",
    "## Deep Learning\n",
    "\n",
    "## Project: Build a Traffic Sign Recognition Classifier\n",
    "\n",
    "In this notebook, a template is provided for you to implement your functionality in stages, which is required to successfully complete this project. If additional code is required that cannot be included in the notebook, be sure that the Python code is successfully imported and included in your submission if necessary. \n",
    "\n",
    "> **Note**: Once you have completed all of the code implementations, you need to finalize your work by exporting the iPython Notebook as an HTML document. Before exporting the notebook to html, all of the code cells need to have been run so that reviewers can see the final implementation and output. You can then export the notebook by using the menu above and navigating to  \\n\",\n",
    "    \"**File -> Download as -> HTML (.html)**. Include the finished document along with this notebook as your submission. \n",
    "\n",
    "In addition to implementing code, there is a writeup to complete. The writeup should be completed in a separate file, which can be either a markdown file or a pdf document. There is a [write up template](https://github.com/udacity/CarND-Traffic-Sign-Classifier-Project/blob/master/writeup_template.md) that can be used to guide the writing process. Completing the code template and writeup template will cover all of the [rubric points](https://review.udacity.com/#!/rubrics/481/view) for this project.\n",
    "\n",
    "The [rubric](https://review.udacity.com/#!/rubrics/481/view) contains \"Stand Out Suggestions\" for enhancing the project beyond the minimum requirements. The stand out suggestions are optional. If you decide to pursue the \"stand out suggestions\", you can include the code in this Ipython notebook and also discuss the results in the writeup file.\n",
    "\n",
    "\n",
    ">**Note:** Code and Markdown cells can be executed using the **Shift + Enter** keyboard shortcut. In addition, Markdown cells can be edited by typically double-clicking the cell to enter edit mode."
   ]
  },
  {
   "cell_type": "markdown",
   "metadata": {
    "id": "TbgIH9u01rgt"
   },
   "source": [
    "---\n",
    "## Step 0: Load The Data"
   ]
  },
  {
   "cell_type": "code",
   "execution_count": 69,
   "metadata": {
    "id": "Vj6zbroZ1rgu"
   },
   "outputs": [],
   "source": [
    "# Load pickled data\n",
    "import pickle\n",
    "\n",
    "training_file = './data/train.p'\n",
    "validation_file= './data/valid.p'\n",
    "testing_file = './data/test.p'\n",
    "\n",
    "with open(training_file, mode='rb') as f:\n",
    "    train = pickle.load(f)\n",
    "with open(validation_file, mode='rb') as f:\n",
    "    valid = pickle.load(f)\n",
    "with open(testing_file, mode='rb') as f:\n",
    "    test = pickle.load(f)\n",
    "    \n",
    "X_train, y_train = train['features'], train['labels']\n",
    "X_valid, y_valid = valid['features'], valid['labels']\n",
    "X_test, y_test = test['features'], test['labels']"
   ]
  },
  {
   "cell_type": "code",
   "execution_count": 70,
   "metadata": {
    "colab": {
     "base_uri": "https://localhost:8080/"
    },
    "id": "jJWjzmWP3Fdi",
    "outputId": "1b3804f6-2a72-49ee-c6a7-418251ded8d6"
   },
   "outputs": [
    {
     "data": {
      "text/plain": [
       "43"
      ]
     },
     "execution_count": 70,
     "metadata": {},
     "output_type": "execute_result"
    }
   ],
   "source": [
    "len(set(y_train))"
   ]
  },
  {
   "cell_type": "markdown",
   "metadata": {
    "id": "Xj1B9xnh1rgu"
   },
   "source": [
    "---\n",
    "\n",
    "## Step 1: Dataset Summary & Exploration\n",
    "\n",
    "The pickled data is a dictionary with 4 key/value pairs:\n",
    "\n",
    "- `'features'` is a 4D array containing raw pixel data of the traffic sign images, (num examples, width, height, channels).\n",
    "- `'labels'` is a 1D array containing the label/class id of the traffic sign. The file `signnames.csv` contains id -> name mappings for each id.\n",
    "- `'sizes'` is a list containing tuples, (width, height) representing the original width and height the image.\n",
    "- `'coords'` is a list containing tuples, (x1, y1, x2, y2) representing coordinates of a bounding box around the sign in the image. **THESE COORDINATES ASSUME THE ORIGINAL IMAGE. THE PICKLED DATA CONTAINS RESIZED VERSIONS (32 by 32) OF THESE IMAGES**\n",
    "\n",
    "Complete the basic data summary below. Use python, numpy and/or pandas methods to calculate the data summary rather than hard coding the results. For example, the [pandas shape method](http://pandas.pydata.org/pandas-docs/stable/generated/pandas.DataFrame.shape.html) might be useful for calculating some of the summary results. "
   ]
  },
  {
   "cell_type": "markdown",
   "metadata": {
    "id": "QAtcRB_N1rgu"
   },
   "source": [
    "### Provide a Basic Summary of the Data Set Using Python, Numpy and/or Pandas"
   ]
  },
  {
   "cell_type": "code",
   "execution_count": 71,
   "metadata": {
    "colab": {
     "base_uri": "https://localhost:8080/"
    },
    "id": "Z1sud4821rgv",
    "outputId": "ef259556-8a87-44a0-e7a6-4494577c0a91"
   },
   "outputs": [
    {
     "name": "stdout",
     "output_type": "stream",
     "text": [
      "Number of training examples = 34799\n",
      "Number of validation examples = 4410\n",
      "Number of testing examples = 12630\n",
      "Image data shape = (32, 32, 3)\n",
      "Number of classes = 43\n"
     ]
    }
   ],
   "source": [
    "\n",
    "\n",
    "# Number of training examples\n",
    "n_train = X_train.shape[0]\n",
    "\n",
    "# Number of validation examples\n",
    "n_validation = X_valid.shape[0]\n",
    "\n",
    "# Number of testing examples.\n",
    "n_test = X_test.shape[0]\n",
    "\n",
    "# What's the shape of an traffic sign image?\n",
    "image_shape = X_test[0].shape\n",
    "\n",
    "# How many unique classes/labels there are in the dataset.\n",
    "n_classes = len(set(y_train))\n",
    "\n",
    "print(\"Number of training examples =\", n_train)\n",
    "print(\"Number of validation examples =\", n_validation)\n",
    "print(\"Number of testing examples =\", n_test)\n",
    "print(\"Image data shape =\", image_shape)\n",
    "print(\"Number of classes =\", n_classes)"
   ]
  },
  {
   "cell_type": "markdown",
   "metadata": {
    "id": "m2TtQpFc1rgv"
   },
   "source": [
    "### Include an exploratory visualization of the dataset"
   ]
  },
  {
   "cell_type": "markdown",
   "metadata": {
    "id": "8XQf17rh1rgv"
   },
   "source": [
    "Visualize the German Traffic Signs Dataset using the pickled file(s). This is open ended, suggestions include: plotting traffic sign images, plotting the count of each sign, etc. \n",
    "\n",
    "The [Matplotlib](http://matplotlib.org/) [examples](http://matplotlib.org/examples/index.html) and [gallery](http://matplotlib.org/gallery.html) pages are a great resource for doing visualizations in Python.\n",
    "\n",
    "**NOTE:** It's recommended you start with something simple first. If you wish to do more, come back to it after you've completed the rest of the sections. It can be interesting to look at the distribution of classes in the training, validation and test set. Is the distribution the same? Are there more examples of some classes than others?"
   ]
  },
  {
   "cell_type": "code",
   "execution_count": 72,
   "metadata": {
    "id": "KyjFD_SW1rgv"
   },
   "outputs": [],
   "source": [
    "### Data exploration visualization code goes here.\n",
    "import matplotlib.pyplot as plt\n",
    "import random\n",
    "import numpy as np\n",
    "from sklearn.utils import shuffle\n",
    "# Visualizations will be shown in the notebook.\n",
    "%matplotlib inline"
   ]
  },
  {
   "cell_type": "code",
   "execution_count": null,
   "metadata": {
    "id": "63KPsAdy59Y9"
   },
   "outputs": [],
   "source": []
  },
  {
   "cell_type": "code",
   "execution_count": 73,
   "metadata": {
    "id": "TERkxkQy59cP"
   },
   "outputs": [],
   "source": [
    "import pandas as pd\n",
    "\n",
    "df_signnames = pd.read_csv('./signnames.csv')"
   ]
  },
  {
   "cell_type": "code",
   "execution_count": 74,
   "metadata": {
    "id": "MGx5r3hVxHzK"
   },
   "outputs": [],
   "source": [
    "df_train = pd.DataFrame(y_train)\n",
    "df_valid = pd.DataFrame(y_valid)\n",
    "df_test = pd.DataFrame(y_test)"
   ]
  },
  {
   "cell_type": "code",
   "execution_count": 75,
   "metadata": {
    "colab": {
     "base_uri": "https://localhost:8080/"
    },
    "id": "ZPCSqQomxawZ",
    "outputId": "58478b77-e474-431b-c7a6-39b1036b73eb"
   },
   "outputs": [
    {
     "data": {
      "text/plain": [
       "2     2010\n",
       "1     1980\n",
       "13    1920\n",
       "12    1890\n",
       "38    1860\n",
       "10    1800\n",
       "4     1770\n",
       "5     1650\n",
       "25    1350\n",
       "9     1320\n",
       "7     1290\n",
       "8     1260\n",
       "3     1260\n",
       "11    1170\n",
       "18    1080\n",
       "35    1080\n",
       "17     990\n",
       "31     690\n",
       "14     690\n",
       "33     599\n",
       "15     540\n",
       "26     540\n",
       "28     480\n",
       "23     450\n",
       "30     390\n",
       "34     360\n",
       "6      360\n",
       "16     360\n",
       "22     330\n",
       "36     330\n",
       "40     300\n",
       "20     300\n",
       "21     270\n",
       "39     270\n",
       "24     240\n",
       "29     240\n",
       "32     210\n",
       "42     210\n",
       "41     210\n",
       "27     210\n",
       "37     180\n",
       "19     180\n",
       "0      180\n",
       "Name: 0, dtype: int64"
      ]
     },
     "execution_count": 75,
     "metadata": {},
     "output_type": "execute_result"
    }
   ],
   "source": [
    "df_train[0].value_counts()"
   ]
  },
  {
   "cell_type": "code",
   "execution_count": 76,
   "metadata": {
    "colab": {
     "base_uri": "https://localhost:8080/",
     "height": 318
    },
    "id": "J-9EyKJ5x_ke",
    "outputId": "cddec85e-add2-4204-8c7c-7d6353c23cf3"
   },
   "outputs": [
    {
     "data": {
      "image/png": "[encoded data removed]",
      "text/plain": [
       "<matplotlib.figure.Figure at 0x7fbe616edf98>"
      ]
     },
     "metadata": {
      "needs_background": "light"
     },
     "output_type": "display_data"
    }
   ],
   "source": [
    "fig, ax = plt.subplots(figsize=(12,4))\n",
    "df_train[0].value_counts().plot(ax=ax, kind='bar', title='Training Set');"
   ]
  },
  {
   "cell_type": "code",
   "execution_count": 77,
   "metadata": {
    "colab": {
     "base_uri": "https://localhost:8080/",
     "height": 318
    },
    "id": "d31w9l1wzLoC",
    "outputId": "18ffdaff-f2e2-43b1-b73f-ae34b87b1f30"
   },
   "outputs": [
    {
     "data": {
      "image/png": "[encoded data removed]",
      "text/plain": [
       "<matplotlib.figure.Figure at 0x7fbe5ed85438>"
      ]
     },
     "metadata": {
      "needs_background": "light"
     },
     "output_type": "display_data"
    }
   ],
   "source": [
    "fig, ax = plt.subplots(figsize=(12,4))\n",
    "df_valid[0].value_counts().plot(ax=ax, kind='bar', title='Validation Set');"
   ]
  },
  {
   "cell_type": "code",
   "execution_count": 78,
   "metadata": {
    "colab": {
     "base_uri": "https://localhost:8080/",
     "height": 318
    },
    "id": "S_WZAOgEznE3",
    "outputId": "f7fc67a7-87e9-40ae-c1ba-43543352dcad"
   },
   "outputs": [
    {
     "data": {
      "image/png": "[encoded data removed]",
      "text/plain": [
       "<matplotlib.figure.Figure at 0x7fbe515372e8>"
      ]
     },
     "metadata": {
      "needs_background": "light"
     },
     "output_type": "display_data"
    }
   ],
   "source": [
    "fig, ax = plt.subplots(figsize=(12,4))\n",
    "df_test[0].value_counts().plot(ax=ax, kind='bar', title='Test Set');"
   ]
  },
  {
   "cell_type": "code",
   "execution_count": 79,
   "metadata": {
    "colab": {
     "base_uri": "https://localhost:8080/"
    },
    "id": "0pKezy2F8hoh",
    "outputId": "1af2d592-c683-4b68-aeff-13705ff9b849"
   },
   "outputs": [
    {
     "name": "stdout",
     "output_type": "stream",
     "text": [
      "Category 0 = Speed limit (20km/h)\n",
      "Category 1 = Speed limit (30km/h)\n",
      "Category 2 = Speed limit (50km/h)\n",
      "Category 3 = Speed limit (60km/h)\n",
      "Category 4 = Speed limit (70km/h)\n",
      "Category 5 = Speed limit (80km/h)\n",
      "Category 6 = End of speed limit (80km/h)\n",
      "Category 7 = Speed limit (100km/h)\n",
      "Category 8 = Speed limit (120km/h)\n",
      "Category 9 = No passing\n",
      "Category 10 = No passing for vehicles over 3.5 metric tons\n",
      "Category 11 = Right-of-way at the next intersection\n",
      "Category 12 = Priority road\n",
      "Category 13 = Yield\n",
      "Category 14 = Stop\n",
      "Category 15 = No vehicles\n",
      "Category 16 = Vehicles over 3.5 metric tons prohibited\n",
      "Category 17 = No entry\n",
      "Category 18 = General caution\n",
      "Category 19 = Dangerous curve to the left\n",
      "Category 20 = Dangerous curve to the right\n",
      "Category 21 = Double curve\n",
      "Category 22 = Bumpy road\n",
      "Category 23 = Slippery road\n",
      "Category 24 = Road narrows on the right\n",
      "Category 25 = Road work\n",
      "Category 26 = Traffic signals\n",
      "Category 27 = Pedestrians\n",
      "Category 28 = Children crossing\n",
      "Category 29 = Bicycles crossing\n",
      "Category 30 = Beware of ice/snow\n",
      "Category 31 = Wild animals crossing\n",
      "Category 32 = End of all speed and passing limits\n",
      "Category 33 = Turn right ahead\n",
      "Category 34 = Turn left ahead\n",
      "Category 35 = Ahead only\n",
      "Category 36 = Go straight or right\n",
      "Category 37 = Go straight or left\n",
      "Category 38 = Keep right\n",
      "Category 39 = Keep left\n",
      "Category 40 = Roundabout mandatory\n",
      "Category 41 = End of no passing\n",
      "Category 42 = End of no passing by vehicles over 3.5 metric tons\n"
     ]
    }
   ],
   "source": [
    "index_to_name_dict = {}\n",
    "\n",
    "for i in range(43):\n",
    "  index_to_name_dict[i] = df_signnames.iloc[i]['SignName']\n",
    "\n",
    "for key, value in index_to_name_dict.items():\n",
    "  print(f'Category {key} = {value}')\n",
    "\n"
   ]
  },
  {
   "cell_type": "code",
   "execution_count": 80,
   "metadata": {
    "colab": {
     "base_uri": "https://localhost:8080/",
     "height": 143
    },
    "id": "1ojmUWFM-SAW",
    "outputId": "0640aef2-325d-4cbd-ff28-bd2eeb92216b"
   },
   "outputs": [
    {
     "name": "stdout",
     "output_type": "stream",
     "text": [
      "38 = Keep right\n"
     ]
    },
    {
     "data": {
      "image/png": "[encoded data removed]",
      "text/plain": [
       "<matplotlib.figure.Figure at 0x7fbe74c6c8d0>"
      ]
     },
     "metadata": {
      "needs_background": "light"
     },
     "output_type": "display_data"
    }
   ],
   "source": [
    "index = random.randint(0, n_train)\n",
    "image = X_train[index].squeeze()\n",
    "\n",
    "plt.figure(figsize=(1,1))\n",
    "plt.imshow(image)#, cmap=\"gray\")\n",
    "print(f'{y_train[index]}' + f' = {index_to_name_dict[y_train[index]]}')"
   ]
  },
  {
   "cell_type": "code",
   "execution_count": 81,
   "metadata": {
    "colab": {
     "base_uri": "https://localhost:8080/",
     "height": 164
    },
    "id": "_WIdwAt06vPH",
    "outputId": "9843179d-11e9-40f2-b8a7-745b62c7c5a5"
   },
   "outputs": [
    {
     "data": {
      "image/png": "[encoded data removed]",
      "text/plain": [
       "<matplotlib.figure.Figure at 0x7fbe5151d208>"
      ]
     },
     "metadata": {
      "needs_background": "light"
     },
     "output_type": "display_data"
    }
   ],
   "source": [
    "index = random.sample(range(0, n_train), 6)\n",
    "fig, axs = plt.subplots(nrows=1, ncols=6, figsize=(10,2))\n",
    "\n",
    "for i, ax in enumerate(axs.flatten()):\n",
    "    plt.sca(ax)\n",
    "    plt.imshow(X_train[index[i]].squeeze())#, cmap=plt.cm.jet)\n",
    "    plt.title('Image: {}'.format(i+1))\n",
    "\n",
    "\n",
    "plt.show()\n",
    "\n"
   ]
  },
  {
   "cell_type": "markdown",
   "metadata": {
    "id": "mvSAVMPa1rgw"
   },
   "source": [
    "----\n",
    "\n",
    "## Step 2: Design and Test a Model Architecture\n",
    "\n",
    "Design and implement a deep learning model that learns to recognize traffic signs. Train and test your model on the [German Traffic Sign Dataset](http://benchmark.ini.rub.de/?section=gtsrb&subsection=dataset).\n",
    "\n",
    "The LeNet-5 implementation shown in the [classroom](https://classroom.udacity.com/nanodegrees/nd013/parts/fbf77062-5703-404e-b60c-95b78b2f3f9e/modules/6df7ae49-c61c-4bb2-a23e-6527e69209ec/lessons/601ae704-1035-4287-8b11-e2c2716217ad/concepts/d4aca031-508f-4e0b-b493-e7b706120f81) at the end of the CNN lesson is a solid starting point. You'll have to change the number of classes and possibly the preprocessing, but aside from that it's plug and play! \n",
    "\n",
    "With the LeNet-5 solution from the lecture, you should expect a validation set accuracy of about 0.89. To meet specifications, the validation set accuracy will need to be at least 0.93. It is possible to get an even higher accuracy, but 0.93 is the minimum for a successful project submission. \n",
    "\n",
    "There are various aspects to consider when thinking about this problem:\n",
    "\n",
    "- Neural network architecture (is the network over or underfitting?)\n",
    "- Play around preprocessing techniques (normalization, rgb to grayscale, etc)\n",
    "- Number of examples per label (some have more than others).\n",
    "- Generate fake data.\n",
    "\n",
    "Here is an example of a [published baseline model on this problem](http://yann.lecun.com/exdb/publis/pdf/sermanet-ijcnn-11.pdf). It's not required to be familiar with the approach used in the paper but, it's good practice to try to read papers like these."
   ]
  },
  {
   "cell_type": "markdown",
   "metadata": {
    "id": "mNrx6foP1rgw"
   },
   "source": [
    "### Pre-process the Data Set (normalization, grayscale, etc.)"
   ]
  },
  {
   "cell_type": "markdown",
   "metadata": {
    "id": "CcuXvy4s1rgw"
   },
   "source": [
    "Minimally, the image data should be normalized so that the data has mean zero and equal variance. For image data, `(pixel - 128)/ 128` is a quick way to approximately normalize the data and can be used in this project. \n",
    "\n",
    "Other pre-processing steps are optional. You can try different techniques to see if it improves performance. \n",
    "\n",
    "Use the code cell (or multiple code cells, if necessary) to implement the first step of your project."
   ]
  },
  {
   "cell_type": "code",
   "execution_count": 82,
   "metadata": {
    "id": "nJhi1yrb1rgw"
   },
   "outputs": [],
   "source": [
    "### Preprocess the data here. It is required to normalize the data. Other preprocessing steps could include \n",
    "### converting to grayscale, etc.\n",
    "\n",
    "X_train, y_train = shuffle(X_train, y_train)\n"
   ]
  },
  {
   "cell_type": "code",
   "execution_count": 83,
   "metadata": {
    "id": "baTqZtHKcqUW"
   },
   "outputs": [],
   "source": [
    "X_train = X_train / 255\n",
    "X_valid = X_valid / 255\n",
    "X_test = X_test / 255"
   ]
  },
  {
   "cell_type": "code",
   "execution_count": 84,
   "metadata": {
    "colab": {
     "base_uri": "https://localhost:8080/",
     "height": 131
    },
    "id": "XelCvwUoCRbg",
    "outputId": "7bc242ef-daf4-484c-d578-c8a4cb2c1424"
   },
   "outputs": [
    {
     "ename": "AttributeError",
     "evalue": "module 'tensorflow' has no attribute 'keras'",
     "output_type": "error",
     "traceback": [
      "\u001b[0;31m---------------------------------------------------------------------------\u001b[0m",
      "\u001b[0;31mAttributeError\u001b[0m                            Traceback (most recent call last)",
      "\u001b[0;32m<ipython-input-84-4ad351f7d2ba>\u001b[0m in \u001b[0;36m<module>\u001b[0;34m()\u001b[0m\n\u001b[1;32m      9\u001b[0m     \u001b[0;32mfor\u001b[0m \u001b[0mi\u001b[0m\u001b[0;34m,\u001b[0m \u001b[0max\u001b[0m \u001b[0;32min\u001b[0m \u001b[0menumerate\u001b[0m\u001b[0;34m(\u001b[0m\u001b[0maxs\u001b[0m\u001b[0;34m.\u001b[0m\u001b[0mflatten\u001b[0m\u001b[0;34m(\u001b[0m\u001b[0;34m)\u001b[0m\u001b[0;34m)\u001b[0m\u001b[0;34m:\u001b[0m\u001b[0;34m\u001b[0m\u001b[0m\n\u001b[1;32m     10\u001b[0m         \u001b[0mplt\u001b[0m\u001b[0;34m.\u001b[0m\u001b[0msca\u001b[0m\u001b[0;34m(\u001b[0m\u001b[0max\u001b[0m\u001b[0;34m)\u001b[0m\u001b[0;34m\u001b[0m\u001b[0m\n\u001b[0;32m---> 11\u001b[0;31m         \u001b[0mplt\u001b[0m\u001b[0;34m.\u001b[0m\u001b[0mimshow\u001b[0m\u001b[0;34m(\u001b[0m\u001b[0mtf\u001b[0m\u001b[0;34m.\u001b[0m\u001b[0mkeras\u001b[0m\u001b[0;34m.\u001b[0m\u001b[0mpreprocessing\u001b[0m\u001b[0;34m.\u001b[0m\u001b[0mimage\u001b[0m\u001b[0;34m.\u001b[0m\u001b[0mrandom_zoom\u001b[0m\u001b[0;34m(\u001b[0m\u001b[0mX_train\u001b[0m\u001b[0;34m[\u001b[0m\u001b[0;36m8\u001b[0m\u001b[0;34m]\u001b[0m\u001b[0;34m,\u001b[0m \u001b[0mzoom_range\u001b[0m\u001b[0;34m=\u001b[0m\u001b[0;34m[\u001b[0m\u001b[0;36m0.5\u001b[0m\u001b[0;34m,\u001b[0m \u001b[0;36m1.2\u001b[0m\u001b[0;34m]\u001b[0m\u001b[0;34m,\u001b[0m \u001b[0mchannel_axis\u001b[0m\u001b[0;34m=\u001b[0m\u001b[0;36m2\u001b[0m\u001b[0;34m)\u001b[0m\u001b[0;34m.\u001b[0m\u001b[0msqueeze\u001b[0m\u001b[0;34m(\u001b[0m\u001b[0;34m)\u001b[0m\u001b[0;34m)\u001b[0m\u001b[0;31m#, cmap=plt.cm.jet)\u001b[0m\u001b[0;34m\u001b[0m\u001b[0m\n\u001b[0m\u001b[1;32m     12\u001b[0m         \u001b[0mplt\u001b[0m\u001b[0;34m.\u001b[0m\u001b[0mtitle\u001b[0m\u001b[0;34m(\u001b[0m\u001b[0;34m'Image: {}'\u001b[0m\u001b[0;34m.\u001b[0m\u001b[0mformat\u001b[0m\u001b[0;34m(\u001b[0m\u001b[0mi\u001b[0m\u001b[0;34m+\u001b[0m\u001b[0;36m1\u001b[0m\u001b[0;34m)\u001b[0m\u001b[0;34m)\u001b[0m\u001b[0;34m\u001b[0m\u001b[0m\n",
      "\u001b[0;31mAttributeError\u001b[0m: module 'tensorflow' has no attribute 'keras'"
     ]
    },
    {
     "data": {
      "image/png": "[encoded data removed]",
      "text/plain": [
       "<matplotlib.figure.Figure at 0x7fbe74d33518>"
      ]
     },
     "metadata": {
      "needs_background": "light"
     },
     "output_type": "display_data"
    }
   ],
   "source": [
    "#import tensorflow_addons as tfa\n",
    "import tensorflow as tf\n",
    "\n",
    "with tf.Session() as sess:\n",
    "    sess.run(tf.global_variables_initializer())\n",
    "\n",
    "    fig, axs = plt.subplots(nrows=1, ncols=10, figsize=(10,2))\n",
    "\n",
    "    for i, ax in enumerate(axs.flatten()):\n",
    "        plt.sca(ax)\n",
    "        plt.imshow(tf.keras.preprocessing.image.random_zoom(X_train[8], zoom_range=[0.5, 1.2], channel_axis=2).squeeze())#, cmap=plt.cm.jet)\n",
    "        plt.title('Image: {}'.format(i+1))"
   ]
  },
  {
   "cell_type": "code",
   "execution_count": null,
   "metadata": {
    "id": "pemqgGCOC2j8"
   },
   "outputs": [],
   "source": []
  },
  {
   "cell_type": "markdown",
   "metadata": {
    "id": "P0R3kV8V1rgw"
   },
   "source": [
    "### Model Architecture"
   ]
  },
  {
   "cell_type": "code",
   "execution_count": 85,
   "metadata": {
    "id": "rHhrdZ971rgx"
   },
   "outputs": [
    {
     "ename": "ModuleNotFoundError",
     "evalue": "No module named 'tensorflow.keras'",
     "output_type": "error",
     "traceback": [
      "\u001b[0;31m---------------------------------------------------------------------------\u001b[0m",
      "\u001b[0;31mModuleNotFoundError\u001b[0m                       Traceback (most recent call last)",
      "\u001b[0;32m<ipython-input-85-c74a7a744e93>\u001b[0m in \u001b[0;36m<module>\u001b[0;34m()\u001b[0m\n\u001b[1;32m      3\u001b[0m \u001b[0;34m\u001b[0m\u001b[0m\n\u001b[1;32m      4\u001b[0m \u001b[0;34m\u001b[0m\u001b[0m\n\u001b[0;32m----> 5\u001b[0;31m \u001b[0;32mfrom\u001b[0m \u001b[0mtensorflow\u001b[0m\u001b[0;34m.\u001b[0m\u001b[0mkeras\u001b[0m \u001b[0;32mimport\u001b[0m \u001b[0mlayers\u001b[0m\u001b[0;34m\u001b[0m\u001b[0m\n\u001b[0m\u001b[1;32m      6\u001b[0m \u001b[0mtf\u001b[0m\u001b[0;34m.\u001b[0m\u001b[0mcompat\u001b[0m\u001b[0;34m.\u001b[0m\u001b[0mv1\u001b[0m\u001b[0;34m.\u001b[0m\u001b[0mdisable_eager_execution\u001b[0m\u001b[0;34m(\u001b[0m\u001b[0;34m)\u001b[0m\u001b[0;34m\u001b[0m\u001b[0m\n\u001b[1;32m      7\u001b[0m \u001b[0;34m\u001b[0m\u001b[0m\n",
      "\u001b[0;31mModuleNotFoundError\u001b[0m: No module named 'tensorflow.keras'"
     ]
    }
   ],
   "source": [
    "### Define your architecture here.\n",
    "### Feel free to use as many code cells as needed.\n",
    "\n",
    "\n",
    "from tensorflow.keras import layers\n",
    "tf.compat.v1.disable_eager_execution()\n",
    "\n",
    "EPOCHS = 120\n",
    "BATCH_SIZE = 128\n",
    "\n",
    "dropout = 0.5 # Dropout "
   ]
  },
  {
   "cell_type": "code",
   "execution_count": 57,
   "metadata": {
    "id": "ZIWeR99JD2sx"
   },
   "outputs": [],
   "source": [
    "from tensorflow.compat.v1.layers import flatten\n",
    "from tensorflow.keras.layers import Dense, Dropout,Conv2D, Activation, MaxPooling2D, Flatten, Layer, BatchNormalization, GlobalMaxPool2D, Input, MaxPooling1D, Concatenate, SpatialDropout2D\n",
    "\n",
    "keep_prob = tf.compat.v1.placeholder(tf.float32)\n",
    "\n",
    "training_ph = tf.compat.v1.placeholder(tf.int32)\n",
    "\n",
    "def TrafficSignNet(x, keep_prob):    \n",
    "    # Arguments used for tf.truncated_normal, randomly defines variables for the weights and biases for each layer\n",
    "    mu = 0\n",
    "    sigma = 0.1\n",
    "      \n",
    "    # Convolutional\n",
    "    num_feature_maps1 = 32\n",
    "    filter_size1 = 3\n",
    "    conv1_W = tf.Variable(tf.random.truncated_normal(shape=(filter_size1, filter_size1, 3, num_feature_maps1), mean = mu, stddev = sigma))\n",
    "    conv1_b = tf.Variable(tf.zeros(num_feature_maps1))\n",
    "    conv1   = tf.nn.conv2d(x, conv1_W, strides=[1, 1, 1, 1], padding='VALID') + conv1_b\n",
    "\n",
    "    # Activation\n",
    "    conv1 = tf.nn.relu(conv1)\n",
    "\n",
    "    num_feature_maps12 = 32\n",
    "    conv12_W = tf.Variable(tf.random.truncated_normal(shape=(filter_size1, filter_size1, num_feature_maps1, num_feature_maps12), mean = mu, stddev = sigma))\n",
    "    conv12_b = tf.Variable(tf.zeros(num_feature_maps12))\n",
    "    conv12   = tf.nn.conv2d(conv1, conv12_W, strides=[1, 1, 1, 1], padding='VALID') + conv12_b\n",
    "\n",
    "    # Activation\n",
    "    conv12 = tf.nn.relu(conv12)\n",
    "\n",
    "    #conv12 = SpatialDropout2D(0.5)(conv12)\n",
    "\n",
    "    # Pooling\n",
    "    conv12 = tf.nn.max_pool(conv12, ksize=[1, 2, 2, 1], strides=[1, 2, 2, 1], padding='VALID')\n",
    "\n",
    "    # Convolutional\n",
    "    num_feature_maps2 = 64\n",
    "    conv2_W = tf.Variable(tf.random.truncated_normal(shape=(filter_size1, filter_size1, num_feature_maps12, num_feature_maps2), mean = mu, stddev = sigma))\n",
    "    conv2_b = tf.Variable(tf.zeros(num_feature_maps2))\n",
    "    conv2   = tf.nn.conv2d(conv12, conv2_W, strides=[1, 1, 1, 1], padding='VALID') + conv2_b\n",
    "    \n",
    "    # Activation.\n",
    "    conv2 = tf.nn.relu(conv2)\n",
    "\n",
    "    num_feature_maps21 = 64\n",
    "    conv21_W = tf.Variable(tf.random.truncated_normal(shape=(filter_size1, filter_size1, num_feature_maps2, num_feature_maps21), mean = mu, stddev = sigma))\n",
    "    conv21_b = tf.Variable(tf.zeros(num_feature_maps21))\n",
    "    conv2   = tf.nn.conv2d(conv2, conv21_W, strides=[1, 1, 1, 1], padding='VALID') + conv21_b\n",
    "    \n",
    "    # Activation.\n",
    "    conv2 = tf.nn.relu(conv2)\n",
    "\n",
    "    #conv2 = SpatialDropout2D(0.5)(conv2)\n",
    "\n",
    "    # Pooling.\n",
    "    conv2 = tf.nn.max_pool(conv2, ksize=[1, 2, 2, 1], strides=[1, 2, 2, 1], padding='VALID')\n",
    "\n",
    "    num_feature_maps22 = 128\n",
    "    conv22_W = tf.Variable(tf.random.truncated_normal(shape=(filter_size1, filter_size1, num_feature_maps2, num_feature_maps22), mean = mu, stddev = sigma))\n",
    "    conv22_b = tf.Variable(tf.zeros(num_feature_maps22))\n",
    "    conv22   = tf.nn.conv2d(conv2, conv22_W, strides=[1, 1, 1, 1], padding='VALID') + conv22_b\n",
    "    \n",
    "    # Activation\n",
    "    conv22 = tf.nn.relu(conv22)\n",
    "\n",
    "\n",
    "    num_feature_maps23 = 128\n",
    "    conv23_W = tf.Variable(tf.random.truncated_normal(shape=(filter_size1, filter_size1, num_feature_maps22, num_feature_maps23), mean = mu, stddev = sigma))\n",
    "    conv23_b = tf.Variable(tf.zeros(num_feature_maps23))\n",
    "    conv22   = tf.nn.conv2d(conv22, conv23_W, strides=[1, 1, 1, 1], padding='SAME') + conv23_b\n",
    "\n",
    "    # # Pooling\n",
    "    conv22 = tf.nn.max_pool(conv22, ksize=[1, 2, 2, 1], strides=[1, 2, 2, 1], padding='VALID')\n",
    "\n",
    "\n",
    "    # Flatten\n",
    "    fc0   = flatten(conv22)\n",
    "    \n",
    "    # Dropout\n",
    "    fc2 = tf.nn.dropout(fc0, keep_prob)\n",
    "\n",
    "    fc3_W  = tf.Variable(tf.random.truncated_normal(shape=(fc2[0].shape[0], n_classes), mean = mu, stddev = sigma))\n",
    "    fc3_b  = tf.Variable(tf.zeros(n_classes))\n",
    "    logits = tf.matmul(fc2, fc3_W) + fc3_b\n",
    "    \n",
    "    return logits"
   ]
  },
  {
   "cell_type": "code",
   "execution_count": 58,
   "metadata": {
    "id": "OeapP4z_D2w9"
   },
   "outputs": [],
   "source": [
    "x = tf.compat.v1.placeholder(tf.float32, (None, 32, 32, 3))\n",
    "y = tf.compat.v1.placeholder(tf.int32, (None))\n",
    "one_hot_y = tf.one_hot(y, n_classes)"
   ]
  },
  {
   "cell_type": "code",
   "execution_count": 59,
   "metadata": {
    "colab": {
     "base_uri": "https://localhost:8080/"
    },
    "id": "6WcG9NLzD21R",
    "outputId": "0908ea7c-edb2-4115-e329-7374593164e8"
   },
   "outputs": [
    {
     "name": "stderr",
     "output_type": "stream",
     "text": [
      "/usr/local/lib/python3.6/dist-packages/tensorflow/python/keras/legacy_tf_layers/core.py:329: UserWarning: `tf.layers.flatten` is deprecated and will be removed in a future version. Please use `tf.keras.layers.Flatten` instead.\n",
      "  warnings.warn('`tf.layers.flatten` is deprecated and '\n",
      "/usr/local/lib/python3.6/dist-packages/tensorflow/python/keras/engine/base_layer_v1.py:1719: UserWarning: `layer.apply` is deprecated and will be removed in a future version. Please use `layer.__call__` method instead.\n",
      "  warnings.warn('`layer.apply` is deprecated and '\n"
     ]
    }
   ],
   "source": [
    "rate = 0.0005\n",
    "\n",
    "logits = TrafficSignNet(x, keep_prob)\n",
    "soft_max_probs = tf.nn.softmax(logits)\n",
    "cross_entropy = tf.nn.softmax_cross_entropy_with_logits(labels=one_hot_y, logits=logits)\n",
    "loss_operation = tf.reduce_mean(cross_entropy)\n",
    "optimizer = tf.compat.v1.train.AdamOptimizer(learning_rate = rate)\n",
    "training_operation = optimizer.minimize(loss_operation)"
   ]
  },
  {
   "cell_type": "code",
   "execution_count": 51,
   "metadata": {
    "id": "WMp92_8_D22V"
   },
   "outputs": [],
   "source": []
  },
  {
   "cell_type": "code",
   "execution_count": 51,
   "metadata": {
    "id": "66TQt_EqD2-B"
   },
   "outputs": [],
   "source": []
  },
  {
   "cell_type": "markdown",
   "metadata": {
    "id": "X_rDn6ui1rgx"
   },
   "source": [
    "### Train, Validate and Test the Model"
   ]
  },
  {
   "cell_type": "markdown",
   "metadata": {
    "id": "de9r0GO81rgx"
   },
   "source": [
    "A validation set can be used to assess how well the model is performing. A low accuracy on the training and validation\n",
    "sets imply underfitting. A high accuracy on the training set but low accuracy on the validation set implies overfitting."
   ]
  },
  {
   "cell_type": "code",
   "execution_count": 60,
   "metadata": {
    "collapsed": true,
    "id": "_lcfcDHW1rgy"
   },
   "outputs": [],
   "source": [
    "### Train your model here.\n",
    "### Calculate and report the accuracy on the training and validation set.\n",
    "### Once a final model architecture is selected, \n",
    "### the accuracy on the test set should be calculated and reported as well.\n",
    "### Feel free to use as many code cells as needed.\n",
    "\n",
    "correct_prediction = tf.equal(tf.argmax(logits, 1), tf.argmax(one_hot_y, 1))\n",
    "accuracy_operation = tf.reduce_mean(tf.cast(correct_prediction, tf.float32))\n",
    "saver = tf.compat.v1.train.Saver()\n",
    "\n",
    "def evaluate(X_data, y_data):\n",
    "    num_examples = len(X_data)\n",
    "    total_accuracy = 0\n",
    "    sess = tf.compat.v1.get_default_session()\n",
    "    for offset in range(0, num_examples, BATCH_SIZE):\n",
    "        batch_x, batch_y = X_data[offset:offset+BATCH_SIZE], y_data[offset:offset+BATCH_SIZE]\n",
    "        accuracy = sess.run(accuracy_operation, feed_dict={x: batch_x, y: batch_y, keep_prob: 0.0, training_ph: 0})\n",
    "        total_accuracy += (accuracy * len(batch_x))\n",
    "    return total_accuracy / num_examples\n"
   ]
  },
  {
   "cell_type": "code",
   "execution_count": 61,
   "metadata": {
    "colab": {
     "base_uri": "https://localhost:8080/"
    },
    "id": "hrPG_Xt-RL9a",
    "outputId": "d4ef8e9b-ceee-421a-bcb6-81bc96e93a1a"
   },
   "outputs": [
    {
     "name": "stdout",
     "output_type": "stream",
     "text": [
      "Training...\n",
      "\n",
      "EPOCH 1 ...\n",
      "Validation Accuracy = 0.918\n",
      "\n",
      "EPOCH 2 ...\n",
      "Validation Accuracy = 0.949\n",
      "\n",
      "EPOCH 3 ...\n",
      "Validation Accuracy = 0.964\n",
      "\n",
      "EPOCH 4 ...\n",
      "Validation Accuracy = 0.969\n",
      "\n",
      "EPOCH 5 ...\n",
      "Validation Accuracy = 0.968\n",
      "\n",
      "EPOCH 6 ...\n",
      "Validation Accuracy = 0.976\n",
      "\n",
      "EPOCH 7 ...\n",
      "Validation Accuracy = 0.977\n",
      "\n",
      "EPOCH 8 ...\n",
      "Validation Accuracy = 0.979\n",
      "\n",
      "EPOCH 9 ...\n",
      "Validation Accuracy = 0.974\n",
      "\n",
      "EPOCH 10 ...\n",
      "Validation Accuracy = 0.978\n",
      "\n",
      "EPOCH 11 ...\n",
      "Validation Accuracy = 0.980\n",
      "\n",
      "EPOCH 12 ...\n",
      "Validation Accuracy = 0.977\n",
      "\n",
      "EPOCH 13 ...\n",
      "Validation Accuracy = 0.981\n",
      "\n",
      "EPOCH 14 ...\n",
      "Validation Accuracy = 0.973\n",
      "\n",
      "EPOCH 15 ...\n",
      "Validation Accuracy = 0.977\n",
      "\n",
      "EPOCH 16 ...\n",
      "Validation Accuracy = 0.970\n",
      "\n",
      "EPOCH 17 ...\n",
      "Validation Accuracy = 0.980\n",
      "\n",
      "EPOCH 18 ...\n",
      "Validation Accuracy = 0.979\n",
      "\n",
      "EPOCH 19 ...\n",
      "Validation Accuracy = 0.984\n",
      "\n",
      "EPOCH 20 ...\n",
      "Validation Accuracy = 0.986\n",
      "\n",
      "EPOCH 21 ...\n",
      "Validation Accuracy = 0.986\n",
      "\n",
      "EPOCH 22 ...\n",
      "Validation Accuracy = 0.980\n",
      "\n",
      "EPOCH 23 ...\n",
      "Validation Accuracy = 0.980\n",
      "\n",
      "EPOCH 24 ...\n",
      "Validation Accuracy = 0.980\n",
      "\n",
      "EPOCH 25 ...\n",
      "Validation Accuracy = 0.984\n",
      "\n",
      "EPOCH 26 ...\n",
      "Validation Accuracy = 0.983\n",
      "\n",
      "EPOCH 27 ...\n",
      "Validation Accuracy = 0.983\n",
      "\n",
      "EPOCH 28 ...\n",
      "Validation Accuracy = 0.982\n",
      "\n",
      "EPOCH 29 ...\n",
      "Validation Accuracy = 0.983\n",
      "\n",
      "EPOCH 30 ...\n",
      "Validation Accuracy = 0.982\n",
      "\n",
      "EPOCH 31 ...\n",
      "Validation Accuracy = 0.982\n",
      "\n",
      "EPOCH 32 ...\n",
      "Validation Accuracy = 0.986\n",
      "\n",
      "EPOCH 33 ...\n",
      "Validation Accuracy = 0.983\n",
      "\n",
      "EPOCH 34 ...\n",
      "Validation Accuracy = 0.980\n",
      "\n",
      "EPOCH 35 ...\n",
      "Validation Accuracy = 0.989\n",
      "\n",
      "EPOCH 36 ...\n",
      "Validation Accuracy = 0.987\n",
      "\n",
      "EPOCH 37 ...\n",
      "Validation Accuracy = 0.983\n",
      "\n",
      "EPOCH 38 ...\n",
      "Validation Accuracy = 0.985\n",
      "\n",
      "EPOCH 39 ...\n",
      "Validation Accuracy = 0.987\n",
      "\n",
      "EPOCH 40 ...\n",
      "Validation Accuracy = 0.983\n",
      "\n",
      "EPOCH 41 ...\n",
      "Validation Accuracy = 0.987\n",
      "\n",
      "EPOCH 42 ...\n",
      "Validation Accuracy = 0.981\n",
      "\n",
      "EPOCH 43 ...\n",
      "Validation Accuracy = 0.982\n",
      "\n",
      "EPOCH 44 ...\n",
      "Validation Accuracy = 0.978\n",
      "\n",
      "EPOCH 45 ...\n",
      "Validation Accuracy = 0.979\n",
      "\n",
      "EPOCH 46 ...\n",
      "Validation Accuracy = 0.978\n",
      "\n",
      "EPOCH 47 ...\n",
      "Validation Accuracy = 0.981\n",
      "\n",
      "EPOCH 48 ...\n",
      "Validation Accuracy = 0.984\n",
      "\n",
      "EPOCH 49 ...\n",
      "Validation Accuracy = 0.983\n",
      "\n",
      "EPOCH 50 ...\n",
      "Validation Accuracy = 0.983\n",
      "\n",
      "EPOCH 51 ...\n",
      "Validation Accuracy = 0.980\n",
      "\n",
      "EPOCH 52 ...\n",
      "Validation Accuracy = 0.982\n",
      "\n",
      "EPOCH 53 ...\n",
      "Validation Accuracy = 0.979\n",
      "\n",
      "EPOCH 54 ...\n",
      "Validation Accuracy = 0.987\n",
      "\n",
      "EPOCH 55 ...\n",
      "Validation Accuracy = 0.985\n",
      "\n",
      "EPOCH 56 ...\n",
      "Validation Accuracy = 0.984\n",
      "\n",
      "EPOCH 57 ...\n",
      "Validation Accuracy = 0.985\n",
      "\n",
      "EPOCH 58 ...\n",
      "Validation Accuracy = 0.985\n",
      "\n",
      "EPOCH 59 ...\n",
      "Validation Accuracy = 0.984\n",
      "\n",
      "EPOCH 60 ...\n",
      "Validation Accuracy = 0.982\n",
      "\n",
      "EPOCH 61 ...\n",
      "Validation Accuracy = 0.985\n",
      "\n",
      "EPOCH 62 ...\n",
      "Validation Accuracy = 0.980\n",
      "\n",
      "EPOCH 63 ...\n",
      "Validation Accuracy = 0.985\n",
      "\n",
      "EPOCH 64 ...\n",
      "Validation Accuracy = 0.985\n",
      "\n",
      "EPOCH 65 ...\n",
      "Validation Accuracy = 0.984\n",
      "\n",
      "EPOCH 66 ...\n",
      "Validation Accuracy = 0.989\n",
      "\n",
      "EPOCH 67 ...\n",
      "Validation Accuracy = 0.988\n",
      "\n",
      "EPOCH 68 ...\n",
      "Validation Accuracy = 0.980\n",
      "\n",
      "EPOCH 69 ...\n",
      "Validation Accuracy = 0.983\n",
      "\n",
      "EPOCH 70 ...\n",
      "Validation Accuracy = 0.983\n",
      "\n",
      "EPOCH 71 ...\n",
      "Validation Accuracy = 0.983\n",
      "\n",
      "EPOCH 72 ...\n",
      "Validation Accuracy = 0.983\n",
      "\n",
      "EPOCH 73 ...\n",
      "Validation Accuracy = 0.981\n",
      "\n",
      "EPOCH 74 ...\n",
      "Validation Accuracy = 0.982\n",
      "\n",
      "EPOCH 75 ...\n",
      "Validation Accuracy = 0.984\n",
      "\n",
      "EPOCH 76 ...\n",
      "Validation Accuracy = 0.983\n",
      "\n",
      "EPOCH 77 ...\n",
      "Validation Accuracy = 0.985\n",
      "\n",
      "EPOCH 78 ...\n",
      "Validation Accuracy = 0.980\n",
      "\n",
      "EPOCH 79 ...\n",
      "Validation Accuracy = 0.989\n",
      "\n",
      "EPOCH 80 ...\n",
      "Validation Accuracy = 0.988\n",
      "\n",
      "EPOCH 81 ...\n",
      "Validation Accuracy = 0.984\n",
      "\n",
      "EPOCH 82 ...\n",
      "Validation Accuracy = 0.979\n",
      "\n",
      "EPOCH 83 ...\n",
      "Validation Accuracy = 0.986\n",
      "\n",
      "EPOCH 84 ...\n",
      "Validation Accuracy = 0.990\n",
      "\n",
      "EPOCH 85 ...\n",
      "Validation Accuracy = 0.988\n",
      "\n",
      "EPOCH 86 ...\n",
      "Validation Accuracy = 0.987\n",
      "\n",
      "EPOCH 87 ...\n",
      "Validation Accuracy = 0.985\n",
      "\n",
      "EPOCH 88 ...\n",
      "Validation Accuracy = 0.987\n",
      "\n",
      "EPOCH 89 ...\n",
      "Validation Accuracy = 0.980\n",
      "\n",
      "EPOCH 90 ...\n",
      "Validation Accuracy = 0.988\n",
      "\n",
      "EPOCH 91 ...\n",
      "Validation Accuracy = 0.988\n",
      "\n",
      "EPOCH 92 ...\n",
      "Validation Accuracy = 0.983\n",
      "\n",
      "EPOCH 93 ...\n",
      "Validation Accuracy = 0.983\n",
      "\n",
      "EPOCH 94 ...\n",
      "Validation Accuracy = 0.986\n",
      "\n",
      "EPOCH 95 ...\n",
      "Validation Accuracy = 0.988\n",
      "\n",
      "EPOCH 96 ...\n",
      "Validation Accuracy = 0.986\n",
      "\n",
      "EPOCH 97 ...\n",
      "Validation Accuracy = 0.990\n",
      "\n",
      "EPOCH 98 ...\n",
      "Validation Accuracy = 0.984\n",
      "\n",
      "EPOCH 99 ...\n",
      "Validation Accuracy = 0.984\n",
      "\n",
      "EPOCH 100 ...\n",
      "Validation Accuracy = 0.989\n",
      "\n",
      "EPOCH 101 ...\n",
      "Validation Accuracy = 0.986\n",
      "\n",
      "EPOCH 102 ...\n",
      "Validation Accuracy = 0.988\n",
      "\n",
      "EPOCH 103 ...\n",
      "Validation Accuracy = 0.985\n",
      "\n",
      "EPOCH 104 ...\n",
      "Validation Accuracy = 0.990\n",
      "\n",
      "EPOCH 105 ...\n",
      "Validation Accuracy = 0.986\n",
      "\n",
      "EPOCH 106 ...\n",
      "Validation Accuracy = 0.989\n",
      "\n",
      "EPOCH 107 ...\n",
      "Validation Accuracy = 0.988\n",
      "\n",
      "EPOCH 108 ...\n",
      "Validation Accuracy = 0.990\n",
      "\n",
      "EPOCH 109 ...\n",
      "Validation Accuracy = 0.991\n",
      "\n",
      "EPOCH 110 ...\n",
      "Validation Accuracy = 0.988\n",
      "\n",
      "EPOCH 111 ...\n",
      "Validation Accuracy = 0.984\n",
      "\n",
      "EPOCH 112 ...\n",
      "Validation Accuracy = 0.991\n",
      "\n",
      "EPOCH 113 ...\n",
      "Validation Accuracy = 0.989\n",
      "\n",
      "EPOCH 114 ...\n",
      "Validation Accuracy = 0.985\n",
      "\n",
      "EPOCH 115 ...\n",
      "Validation Accuracy = 0.993\n",
      "\n",
      "EPOCH 116 ...\n",
      "Validation Accuracy = 0.990\n",
      "\n",
      "EPOCH 117 ...\n",
      "Validation Accuracy = 0.990\n",
      "\n",
      "EPOCH 118 ...\n",
      "Validation Accuracy = 0.989\n",
      "\n",
      "EPOCH 119 ...\n",
      "Validation Accuracy = 0.989\n",
      "\n",
      "EPOCH 120 ...\n",
      "Validation Accuracy = 0.988\n",
      "\n",
      "Model saved\n",
      "Max Validation Accuracy = 0.9927437641723356 on Epoch = 114\n"
     ]
    }
   ],
   "source": [
    "with tf.compat.v1.Session() as sess:\n",
    "    sess.run(tf.compat.v1.global_variables_initializer())\n",
    "    num_examples = len(X_train)\n",
    "    \n",
    "    print(\"Training...\")\n",
    "    print()\n",
    "    max_accy, epoch_max_accy = 0, 0\n",
    "    for i in range(EPOCHS):\n",
    "        X_train, y_train = shuffle(X_train, y_train)\n",
    "        for offset in range(0, num_examples, BATCH_SIZE):\n",
    "            end = offset + BATCH_SIZE\n",
    "            batch_x, batch_y = X_train[offset:end], y_train[offset:end]\n",
    "            #batch_x_augmented = []\n",
    "            batch_x_augmented2 = []\n",
    "            for image in batch_x:\n",
    "              #batch_x_augmented.append(tf.keras.preprocessing.image.random_rotation(image, 45, channel_axis=2))\n",
    "              #batch_x_augmented.append(tf.keras.preprocessing.image.random_brightness(image, brightness_range=[0.4,1.2]))\n",
    "              batch_x_augmented2.append(tf.keras.preprocessing.image.random_zoom(image, zoom_range=[0.5, 1.2], channel_axis=2))\n",
    "\n",
    "            #sess.run(training_operation, feed_dict={x: batch_x_augmented, y: batch_y, keep_prob: dropout, training_ph: 1})\n",
    "            sess.run(training_operation, feed_dict={x: batch_x_augmented2, y: batch_y, keep_prob: dropout, training_ph: 1})\n",
    "            sess.run(training_operation, feed_dict={x: batch_x, y: batch_y, keep_prob: dropout, training_ph: 1})\n",
    "            \n",
    "        validation_accuracy = evaluate(X_valid, y_valid)\n",
    "        if validation_accuracy > max_accy:\n",
    "          max_accy = validation_accuracy\n",
    "          epoch_max_accy = i\n",
    "        \n",
    "        print(\"EPOCH {} ...\".format(i+1))\n",
    "        print(\"Validation Accuracy = {:.3f}\".format(validation_accuracy))\n",
    "        print()\n",
    "        \n",
    "    saver.save(sess,'TrafficSignNet_model.ckpt')\n",
    "    print(\"Model saved\")\n",
    "    print(f'Max Validation Accuracy = {max_accy} on Epoch = {epoch_max_accy}')"
   ]
  },
  {
   "cell_type": "code",
   "execution_count": 62,
   "metadata": {
    "colab": {
     "base_uri": "https://localhost:8080/"
    },
    "id": "thIsGxK5qc8P",
    "outputId": "30f5a9e6-fad7-4ba5-888b-068269187a3e"
   },
   "outputs": [
    {
     "name": "stdout",
     "output_type": "stream",
     "text": [
      "INFO:tensorflow:Restoring parameters from /content/gdrive/My Drive/CarND-Traffic-Sign-Classifier-Project/TrafficSignNet_model.ckpt\n",
      "Test Accuracy = 0.984\n"
     ]
    }
   ],
   "source": [
    "# Accuracy on the test set\n",
    "\n",
    "with tf.compat.v1.Session() as sess:\n",
    "    saver.restore(sess, 'TrafficSignNet_model.ckpt')\n",
    "\n",
    "    test_accuracy = evaluate(X_test, y_test)\n",
    "    print(\"Test Accuracy = {:.3f}\".format(test_accuracy))"
   ]
  },
  {
   "cell_type": "code",
   "execution_count": null,
   "metadata": {
    "id": "E5W5S3s_uwkV"
   },
   "outputs": [],
   "source": []
  },
  {
   "cell_type": "markdown",
   "metadata": {
    "id": "3ayHm22w1rgy"
   },
   "source": [
    "---\n",
    "\n",
    "## Step 3: Test a Model on New Images\n",
    "\n",
    "To give yourself more insight into how your model is working, download at least five pictures of German traffic signs from the web and use your model to predict the traffic sign type.\n",
    "\n",
    "You may find `signnames.csv` useful as it contains mappings from the class id (integer) to the actual sign name."
   ]
  },
  {
   "cell_type": "markdown",
   "metadata": {
    "id": "eQ-mZ2H51rgy"
   },
   "source": [
    "### Load and Output the Images"
   ]
  },
  {
   "cell_type": "code",
   "execution_count": 67,
   "metadata": {
    "colab": {
     "base_uri": "https://localhost:8080/",
     "height": 166
    },
    "id": "AV4pPu3L1rgz",
    "outputId": "c4a52001-42c9-43d4-e9eb-59e06fe5eda3"
   },
   "outputs": [
    {
     "data": {
      "image/png": "[encoded data removed]",
      "text/plain": [
       "<matplotlib.figure.Figure at 0x7fbe74b03828>"
      ]
     },
     "metadata": {
      "needs_background": "light"
     },
     "output_type": "display_data"
    }
   ],
   "source": [
    "### Load the images and plot them here.\n",
    "import glob\n",
    "images = glob.glob('GTS_Examples/GTS*')\n",
    "\n",
    "fig, axs = plt.subplots(nrows=1, ncols=len(images), figsize=(12,4))\n",
    "for i, ax in enumerate(axs.flatten()):\n",
    "    plt.sca(ax)\n",
    "    plt.imshow(plt.imread(images[i]))#, cmap=plt.cm.jet)\n",
    "    plt.title('Image: {}'.format(i+1))\n",
    "\n",
    "\n",
    "plt.show()"
   ]
  },
  {
   "cell_type": "code",
   "execution_count": 68,
   "metadata": {
    "colab": {
     "base_uri": "https://localhost:8080/"
    },
    "id": "Y7bjMfSjXbEW",
    "outputId": "cdf475f3-98b2-43c2-923f-7c84fcc03bef"
   },
   "outputs": [
    {
     "data": {
      "text/plain": [
       "7"
      ]
     },
     "execution_count": 68,
     "metadata": {},
     "output_type": "execute_result"
    }
   ],
   "source": [
    "len(images)"
   ]
  },
  {
   "cell_type": "markdown",
   "metadata": {
    "id": "yLScJQnJ1rgz"
   },
   "source": [
    "### Predict the Sign Type for Each Image"
   ]
  },
  {
   "cell_type": "code",
   "execution_count": 100,
   "metadata": {
    "collapsed": true,
    "id": "ZsS0hG_81rgz"
   },
   "outputs": [],
   "source": [
    "### Run the predictions here and use the model to output the prediction for each image.\n",
    "### Make sure to pre-process the images with the same pre-processing pipeline used earlier."
   ]
  },
  {
   "cell_type": "code",
   "execution_count": 86,
   "metadata": {
    "id": "hxj0iUQJax-c"
   },
   "outputs": [],
   "source": [
    "# Resizing to 32x32\n",
    "\n",
    "from PIL import Image \n",
    "\n",
    "GTS_images_resized = []\n",
    "newsize = (32, 32) \n",
    "for im in images:\n",
    "  GTS_images_resized.append(np.array(Image.open(im).resize(newsize)))"
   ]
  },
  {
   "cell_type": "code",
   "execution_count": 87,
   "metadata": {
    "id": "jaUb3XgCliZX"
   },
   "outputs": [],
   "source": [
    "# Rescaling/preprocessing\n",
    "\n",
    "GTS_images_resized = np.asarray(GTS_images_resized) / 255"
   ]
  },
  {
   "cell_type": "code",
   "execution_count": 88,
   "metadata": {
    "colab": {
     "base_uri": "https://localhost:8080/"
    },
    "id": "gA9mF7m3vmXm",
    "outputId": "12df4a47-6b42-4d57-9677-441beabb2a5c"
   },
   "outputs": [
    {
     "data": {
      "text/plain": [
       "7"
      ]
     },
     "execution_count": 88,
     "metadata": {
      "tags": []
     },
     "output_type": "execute_result"
    }
   ],
   "source": [
    "len(GTS_images_resized)"
   ]
  },
  {
   "cell_type": "code",
   "execution_count": 89,
   "metadata": {
    "colab": {
     "base_uri": "https://localhost:8080/"
    },
    "id": "Ro38qV9PyOZP",
    "outputId": "fc893d41-51a3-4d50-bdf6-7cd0ee2ee9a1"
   },
   "outputs": [
    {
     "name": "stdout",
     "output_type": "stream",
     "text": [
      "INFO:tensorflow:Restoring parameters from /content/gdrive/My Drive/CarND-Traffic-Sign-Classifier-Project/TrafficSignNet_model.ckpt\n",
      "[ 4 22 28 37 41 31  2]\n"
     ]
    }
   ],
   "source": [
    "saver = tf.compat.v1.train.Saver()\n",
    "\n",
    "outputs_preds = []\n",
    "soft_max_probs_out = []\n",
    "\n",
    "# Launch the graph\n",
    "with tf.compat.v1.Session() as sess:\n",
    "    saver.restore(sess, 'TrafficSignNet_model.ckpt')\n",
    "\n",
    "    batch_x = GTS_images_resized\n",
    "    logits_out = sess.run(logits, feed_dict={x: batch_x, keep_prob: 0.0})\n",
    "    soft_max_probs_out = sess.run(tf.nn.softmax(logits_out))\n",
    "    outputs_preds = sess.run(tf.argmax(logits_out, 1))\n",
    "    print(outputs_preds)\n",
    "\n",
    "\n"
   ]
  },
  {
   "cell_type": "code",
   "execution_count": null,
   "metadata": {
    "colab": {
     "base_uri": "https://localhost:8080/"
    },
    "id": "XnE_4R0517mN",
    "outputId": "352228c0-a897-4af8-d0d5-c5c346a3fb68"
   },
   "outputs": [
    {
     "data": {
      "text/plain": [
       "array([31, 40, 40, 11, 33,  5,  4, 38,  1, 40, 32])"
      ]
     },
     "execution_count": 53,
     "metadata": {
      "tags": []
     },
     "output_type": "execute_result"
    }
   ],
   "source": [
    "outputs_preds"
   ]
  },
  {
   "cell_type": "code",
   "execution_count": null,
   "metadata": {
    "colab": {
     "base_uri": "https://localhost:8080/"
    },
    "id": "H6zoicZehEhH",
    "outputId": "86266afd-fa24-4c37-99a7-682265b5913e"
   },
   "outputs": [
    {
     "data": {
      "text/plain": [
       "array([0., 0., 0., 0., 0., 0., 0., 0., 0., 0., 0., 0., 0., 0., 0., 0., 0.,\n",
       "       0., 0., 0., 0., 0., 0., 0., 0., 0., 0., 0., 0., 0., 0., 0., 0., 0.,\n",
       "       0., 0., 0., 0., 0., 0., 1., 0., 0.], dtype=float32)"
      ]
     },
     "execution_count": 54,
     "metadata": {
      "tags": []
     },
     "output_type": "execute_result"
    }
   ],
   "source": [
    "soft_max_probs_out[9]"
   ]
  },
  {
   "cell_type": "code",
   "execution_count": 90,
   "metadata": {
    "colab": {
     "base_uri": "https://localhost:8080/",
     "height": 720
    },
    "id": "uNOmH4ld17uq",
    "outputId": "797de546-4f82-4609-a470-c65bfc65c266"
   },
   "outputs": [
    {
     "name": "stdout",
     "output_type": "stream",
     "text": [
      "Prediction: Speed limit (70km/h)\n",
      "Prediction: Bumpy road\n",
      "Prediction: Children crossing\n",
      "Prediction: Go straight or left\n",
      "Prediction: End of no passing\n",
      "Prediction: Wild animals crossing\n",
      "Prediction: Speed limit (50km/h)\n"
     ]
    },
    {
     "data": {
      "image/png": "[encoded data removed]",
      "text/plain": [
       "<Figure size 72x72 with 1 Axes>"
      ]
     },
     "metadata": {
      "needs_background": "light",
      "tags": []
     },
     "output_type": "display_data"
    },
    {
     "data": {
      "image/png": "[encoded data removed]",
      "text/plain": [
       "<Figure size 72x72 with 1 Axes>"
      ]
     },
     "metadata": {
      "needs_background": "light",
      "tags": []
     },
     "output_type": "display_data"
    },
    {
     "data": {
      "image/png": "[encoded data removed]",
      "text/plain": [
       "<Figure size 72x72 with 1 Axes>"
      ]
     },
     "metadata": {
      "needs_background": "light",
      "tags": []
     },
     "output_type": "display_data"
    },
    {
     "data": {
      "image/png": "[encoded data removed]",
      "text/plain": [
       "<Figure size 72x72 with 1 Axes>"
      ]
     },
     "metadata": {
      "needs_background": "light",
      "tags": []
     },
     "output_type": "display_data"
    },
    {
     "data": {
      "image/png": "[encoded data removed]",
      "text/plain": [
       "<Figure size 72x72 with 1 Axes>"
      ]
     },
     "metadata": {
      "needs_background": "light",
      "tags": []
     },
     "output_type": "display_data"
    },
    {
     "data": {
      "image/png": "[encoded data removed]",
      "text/plain": [
       "<Figure size 72x72 with 1 Axes>"
      ]
     },
     "metadata": {
      "needs_background": "light",
      "tags": []
     },
     "output_type": "display_data"
    },
    {
     "data": {
      "image/png": "[encoded data removed]",
      "text/plain": [
       "<Figure size 72x72 with 1 Axes>"
      ]
     },
     "metadata": {
      "needs_background": "light",
      "tags": []
     },
     "output_type": "display_data"
    }
   ],
   "source": [
    "for i, i_pred in enumerate(outputs_preds):\n",
    "  # image = GTS_images_resized[i].squeeze()\n",
    "  # plt.figure(figsize=(1,1))\n",
    "  # plt.imshow(image)\n",
    "  plt.figure(figsize=(1,1))\n",
    "  plt.imshow(plt.imread(images[i]))\n",
    "  print(f'Prediction: {index_to_name_dict[i_pred]}')"
   ]
  },
  {
   "cell_type": "markdown",
   "metadata": {
    "id": "U1DA2JZx1rgz"
   },
   "source": [
    "### Analyze Performance"
   ]
  },
  {
   "cell_type": "code",
   "execution_count": 86,
   "metadata": {
    "colab": {
     "base_uri": "https://localhost:8080/"
    },
    "id": "clW5iRNA1rgz",
    "outputId": "c0f02c48-05f2-47e9-a50e-33c8364851f0"
   },
   "outputs": [
    {
     "name": "stdout",
     "output_type": "stream",
     "text": [
      "Accuracy on new/unseen images = 0.57\n"
     ]
    }
   ],
   "source": [
    "### Calculate the accuracy for these 5 new images. \n",
    "### For example, if the model predicted 1 out of 5 signs correctly, it's 20% accurate on these new images.\n",
    "\n",
    "print(f'Accuracy on new/unseen images = {4 / 7:.2}')\n"
   ]
  },
  {
   "cell_type": "markdown",
   "metadata": {
    "id": "XnlmGy2R1rg0"
   },
   "source": [
    "### Output Top 5 Softmax Probabilities For Each Image Found on the Web"
   ]
  },
  {
   "cell_type": "markdown",
   "metadata": {
    "id": "4_lB_ZM41rg0"
   },
   "source": [
    "For each of the new images, print out the model's softmax probabilities to show the **certainty** of the model's predictions (limit the output to the top 5 probabilities for each image). [`tf.nn.top_k`](https://www.tensorflow.org/versions/r0.12/api_docs/python/nn.html#top_k) could prove helpful here. \n",
    "\n",
    "The example below demonstrates how tf.nn.top_k can be used to find the top k predictions for each image.\n",
    "\n",
    "`tf.nn.top_k` will return the values and indices (class ids) of the top k predictions. So if k=3, for each sign, it'll return the 3 largest probabilities (out of a possible 43) and the correspoding class ids.\n",
    "\n",
    "Take this numpy array as an example. The values in the array represent predictions. The array contains softmax probabilities for five candidate images with six possible classes. `tf.nn.top_k` is used to choose the three classes with the highest probability:\n",
    "\n",
    "```\n",
    "# (5, 6) array\n",
    "a = np.array([[ 0.24879643,  0.07032244,  0.12641572,  0.34763842,  0.07893497,\n",
    "         0.12789202],\n",
    "       [ 0.28086119,  0.27569815,  0.08594638,  0.0178669 ,  0.18063401,\n",
    "         0.15899337],\n",
    "       [ 0.26076848,  0.23664738,  0.08020603,  0.07001922,  0.1134371 ,\n",
    "         0.23892179],\n",
    "       [ 0.11943333,  0.29198961,  0.02605103,  0.26234032,  0.1351348 ,\n",
    "         0.16505091],\n",
    "       [ 0.09561176,  0.34396535,  0.0643941 ,  0.16240774,  0.24206137,\n",
    "         0.09155967]])\n",
    "```\n",
    "\n",
    "Running it through `sess.run(tf.nn.top_k(tf.constant(a), k=3))` produces:\n",
    "\n",
    "```\n",
    "TopKV2(values=array([[ 0.34763842,  0.24879643,  0.12789202],\n",
    "       [ 0.28086119,  0.27569815,  0.18063401],\n",
    "       [ 0.26076848,  0.23892179,  0.23664738],\n",
    "       [ 0.29198961,  0.26234032,  0.16505091],\n",
    "       [ 0.34396535,  0.24206137,  0.16240774]]), indices=array([[3, 0, 5],\n",
    "       [0, 1, 4],\n",
    "       [0, 5, 1],\n",
    "       [1, 3, 5],\n",
    "       [1, 4, 3]], dtype=int32))\n",
    "```\n",
    "\n",
    "Looking just at the first row we get `[ 0.34763842,  0.24879643,  0.12789202]`, you can confirm these are the 3 largest probabilities in `a`. You'll also notice `[3, 0, 5]` are the corresponding indices."
   ]
  },
  {
   "cell_type": "code",
   "execution_count": 91,
   "metadata": {
    "colab": {
     "base_uri": "https://localhost:8080/"
    },
    "collapsed": true,
    "id": "QXIqE4i51rg0",
    "outputId": "29a39f8a-f611-4980-d0e0-a164b76d8ebb"
   },
   "outputs": [
    {
     "name": "stdout",
     "output_type": "stream",
     "text": [
      "INFO:tensorflow:Restoring parameters from /content/gdrive/My Drive/CarND-Traffic-Sign-Classifier-Project/TrafficSignNet_model.ckpt\n"
     ]
    }
   ],
   "source": [
    "### Print out the top five softmax probabilities for the predictions on the German traffic sign images found on the web. \n",
    "\n",
    "with tf.compat.v1.Session() as sess:\n",
    "    saver.restore(sess, 'TrafficSignNet_model.ckpt')\n",
    "    top_k_outputs = sess.run(tf.nn.top_k(soft_max_probs_out, k=5)) \n"
   ]
  },
  {
   "cell_type": "code",
   "execution_count": 92,
   "metadata": {
    "colab": {
     "base_uri": "https://localhost:8080/"
    },
    "id": "_VGOjjxHnrzo",
    "outputId": "86804d04-6081-45e1-fe56-31f033a50e94"
   },
   "outputs": [
    {
     "name": "stdout",
     "output_type": "stream",
     "text": [
      "Top 5 probs:[1.000 0.000 0.000 0.000 0.000] \n",
      "and corresponding classes:\n",
      " ['Speed limit (70km/h)', 'Speed limit (20km/h)', 'Road narrows on the right', 'Speed limit (30km/h)', 'Traffic signals']\n",
      "\n",
      "Top 5 probs:[1.000 0.000 0.000 0.000 0.000] \n",
      "and corresponding classes:\n",
      " ['Bumpy road', 'Speed limit (20km/h)', 'Speed limit (30km/h)', 'Speed limit (50km/h)', 'Speed limit (60km/h)']\n",
      "\n",
      "Top 5 probs:[1.000 0.000 0.000 0.000 0.000] \n",
      "and corresponding classes:\n",
      " ['Children crossing', 'Bicycles crossing', 'Speed limit (20km/h)', 'Speed limit (30km/h)', 'Speed limit (50km/h)']\n",
      "\n",
      "Top 5 probs:[1.000 0.000 0.000 0.000 0.000] \n",
      "and corresponding classes:\n",
      " ['Go straight or left', 'Ahead only', 'Right-of-way at the next intersection', 'Turn right ahead', 'Slippery road']\n",
      "\n",
      "Top 5 probs:[0.960 0.040 0.000 0.000 0.000] \n",
      "and corresponding classes:\n",
      " ['End of no passing', 'No entry', 'Priority road', 'No passing', 'Go straight or right']\n",
      "\n",
      "Top 5 probs:[1.000 0.000 0.000 0.000 0.000] \n",
      "and corresponding classes:\n",
      " ['Wild animals crossing', 'Speed limit (20km/h)', 'Speed limit (30km/h)', 'Speed limit (50km/h)', 'Speed limit (60km/h)']\n",
      "\n",
      "Top 5 probs:[1.000 0.000 0.000 0.000 0.000] \n",
      "and corresponding classes:\n",
      " ['Speed limit (50km/h)', 'Speed limit (60km/h)', 'No passing for vehicles over 3.5 metric tons', 'Speed limit (80km/h)', 'Speed limit (30km/h)']\n",
      "\n"
     ]
    }
   ],
   "source": [
    "float_formatter = \"{:.3f}\".format\n",
    "np.set_printoptions(formatter={'float_kind':float_formatter})\n",
    "\n",
    "for i in range(len(outputs_preds)):\n",
    "  pred_labels = []\n",
    "  for indx in top_k_outputs.indices[i]:\n",
    "     pred_labels.append(index_to_name_dict[indx])\n",
    "  \n",
    "  print(f'Top 5 probs:{top_k_outputs.values[i]} \\nand corresponding classes:\\n {pred_labels}\\n')"
   ]
  }
 ],
 "metadata": {
  "accelerator": "GPU",
  "anaconda-cloud": {},
  "colab": {
   "collapsed_sections": [],
   "name": "Traffic_Sign_Classifier_P3.ipynb",
   "provenance": []
  },
  "kernelspec": {
   "display_name": "Python 3",
   "language": "python",
   "name": "python3"
  },
  "language_info": {
   "codemirror_mode": {
    "name": "ipython",
    "version": 3
   },
   "file_extension": ".py",
   "mimetype": "text/x-python",
   "name": "python",
   "nbconvert_exporter": "python",
   "pygments_lexer": "ipython3",
   "version": "3.8.5"
  }
 },
 "nbformat": 4,
 "nbformat_minor": 1
}
