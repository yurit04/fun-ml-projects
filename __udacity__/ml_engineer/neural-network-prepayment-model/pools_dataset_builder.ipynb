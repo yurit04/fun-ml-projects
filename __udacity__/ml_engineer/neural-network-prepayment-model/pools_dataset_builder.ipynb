{
 "cells": [
  {
   "cell_type": "code",
   "execution_count": 1,
   "metadata": {},
   "outputs": [],
   "source": [
    "import pandas as pd\n",
    "import numpy as np\n",
    "import matplotlib.pyplot as plt\n",
    "from matplotlib.backends.backend_pdf import PdfPages\n",
    "import seaborn as sns\n",
    "import time\n",
    "import imp\n",
    "import os\n",
    "import os, os.path\n",
    "import datetime as dt\n",
    "import dateutil.parser as dp\n",
    "import dill\n",
    "\n",
    "%matplotlib inline"
   ]
  },
  {
   "cell_type": "code",
   "execution_count": 2,
   "metadata": {},
   "outputs": [
    {
     "output_type": "stream",
     "name": "stdout",
     "text": [
      "# of attr files:  121\n# of geo pct files:  120\n# of seller pct files:  122\n"
     ]
    }
   ],
   "source": [
    "# Create lists of data files (3 groups: regular attributes, GEO, and Seller composition)\n",
    "pools_attributes_files = list()\n",
    "for root, dirs, files in os.walk(\"C:/Users/YuriTurygin/Desktop/NN-PPM/data/pools attributes\"):\n",
    "    for name in files:\n",
    "        pools_attributes_files.append(os.path.join(root, name))        \n",
    "        \n",
    "pools_geo_pct_files = list()\n",
    "for root, dirs, files in os.walk(\"C:/Users/YuriTurygin/Desktop/NN-PPM/data/geo pct\"):\n",
    "    for name in files:\n",
    "        pools_geo_pct_files.append(os.path.join(root, name))  \n",
    "        \n",
    "pools_seller_pct_files = list()\n",
    "for root, dirs, files in os.walk(\"C:/Users/YuriTurygin/Desktop/NN-PPM/data/seller pct\"):\n",
    "    for name in files:\n",
    "        pools_seller_pct_files.append(os.path.join(root, name)) \n",
    "        \n",
    "print(\"# of attr files: \",len(pools_attributes_files))\n",
    "print(\"# of geo pct files: \",len(pools_geo_pct_files))\n",
    "print(\"# of seller pct files: \",len(pools_seller_pct_files))"
   ]
  },
  {
   "cell_type": "code",
   "execution_count": 3,
   "metadata": {},
   "outputs": [],
   "source": [
    "# Read in all files with regular pool attributes\n",
    "attr_df = pd.DataFrame()\n",
    "for file in pools_attributes_files:\n",
    "    one_month_issue_pools = pd.read_csv(file)\n",
    "    if len(attr_df)==0:\n",
    "        attr_df = one_month_issue_pools\n",
    "    else:\n",
    "        # df1.columns.difference(df2.columns)\n",
    "        # df2.columns.difference(df1.columns)\n",
    "        if all(attr_df.columns == one_month_issue_pools.columns):\n",
    "            attr_df = pd.concat([attr_df,one_month_issue_pools])\n",
    "        else:\n",
    "            print(f'columns missmatch for {file}')\n",
    "\n",
    "    #print('Done loading ' + file)"
   ]
  },
  {
   "cell_type": "code",
   "execution_count": 4,
   "metadata": {},
   "outputs": [
    {
     "output_type": "execute_result",
     "data": {
      "text/plain": [
       "Index(['poolno', 'asofdate', 'cusip', 'Prefix', 'spread', 'Cpr1', 'Cpr3',\n",
       "       'Cpr6', 'Cpr12', 'Cpr24', 'CprLife', 'SMM', 'DayCount', 'OBal', 'CBal',\n",
       "       'pbal', 'paydown', 'Prepay', 'factor', 'OCoupon', 'Coupon', 'OWac',\n",
       "       'Wac', 'Wam', 'Age', 'aols', 'waols', 'ONLoans', 'cnloans', 'PCNLoans',\n",
       "       'PPNLoans', 'OSato', 'CSato', 'oltv', 'cltv', '%cltv_80', '%cltv_105',\n",
       "       '%cltv_125', '%ccltv_80', '%ccltv_105', '%ccltv_125', 'fico',\n",
       "       '%FedHold', '%CMOHold', 'dti', 'codti', '%CashWindow', '%Majors',\n",
       "       'ocltv', 'ccltv', 'PurpPct_purchase', 'PurpPct_refi',\n",
       "       'PctChannel_Broker', 'PctChannel_Corr', 'PctChannel_Retail',\n",
       "       'OccPct_investor', 'OccPct_owner', 'PropUnitsPct_2-4', 'Label'],\n",
       "      dtype='object')"
      ]
     },
     "metadata": {},
     "execution_count": 4
    }
   ],
   "source": [
    "attr_df.columns"
   ]
  },
  {
   "cell_type": "code",
   "execution_count": 5,
   "metadata": {},
   "outputs": [
    {
     "output_type": "stream",
     "name": "stdout",
     "text": [
      "attr_df.shape = (10143061, 59)\n"
     ]
    }
   ],
   "source": [
    "print(f'attr_df.shape = {attr_df.shape}')"
   ]
  },
  {
   "cell_type": "code",
   "execution_count": 6,
   "metadata": {},
   "outputs": [],
   "source": [
    "# Read in all files with pools GEO info\n",
    "geo_df = pd.DataFrame()\n",
    "for file in pools_geo_pct_files:\n",
    "    one_month_issue_pools = pd.read_csv(file)\n",
    "    if len(geo_df)==0:\n",
    "        geo_df = one_month_issue_pools\n",
    "    else:\n",
    "        # df1.columns.difference(df2.columns)\n",
    "        # df2.columns.difference(df1.columns)\n",
    "        if all(geo_df.columns == one_month_issue_pools.columns):\n",
    "            geo_df = pd.concat([geo_df,one_month_issue_pools])\n",
    "        else:\n",
    "            print(f'columns missmatch for {file}')\n",
    "\n",
    "    #print('Done loading ' + file)"
   ]
  },
  {
   "cell_type": "code",
   "execution_count": 7,
   "metadata": {},
   "outputs": [
    {
     "output_type": "execute_result",
     "data": {
      "text/plain": [
       "Index(['poolno', 'asofdate', 'cusip', 'StatePct_AK', 'StatePct_AL',\n",
       "       'StatePct_AR', 'StatePct_AZ', 'StatePct_CA', 'StatePct_CO',\n",
       "       'StatePct_CT', 'StatePct_DC', 'StatePct_DE', 'StatePct_FL',\n",
       "       'StatePct_GA', 'StatePct_GU', 'StatePct_HI', 'StatePct_IA',\n",
       "       'StatePct_ID', 'StatePct_IL', 'StatePct_IN', 'StatePct_KS',\n",
       "       'StatePct_KY', 'StatePct_LA', 'StatePct_MA', 'StatePct_MD',\n",
       "       'StatePct_ME', 'StatePct_MI', 'StatePct_MN', 'StatePct_MO',\n",
       "       'StatePct_MS', 'StatePct_MT', 'StatePct_NC', 'StatePct_ND',\n",
       "       'StatePct_NE', 'StatePct_NH', 'StatePct_NJ', 'StatePct_NM',\n",
       "       'StatePct_NV', 'StatePct_NY', 'StatePct_OH', 'StatePct_OK',\n",
       "       'StatePct_OR', 'StatePct_PA', 'StatePct_PR', 'StatePct_RI',\n",
       "       'StatePct_SC', 'StatePct_SD', 'StatePct_TN', 'StatePct_TX',\n",
       "       'StatePct_UT', 'StatePct_VA', 'StatePct_VI', 'StatePct_VT',\n",
       "       'StatePct_WA', 'StatePct_WI', 'StatePct_WV', 'StatePct_WY', 'Label'],\n",
       "      dtype='object')"
      ]
     },
     "metadata": {},
     "execution_count": 7
    }
   ],
   "source": [
    "geo_df.columns"
   ]
  },
  {
   "cell_type": "code",
   "execution_count": 8,
   "metadata": {},
   "outputs": [
    {
     "output_type": "stream",
     "name": "stdout",
     "text": [
      "geo_df.shape = (9929896, 58)\n"
     ]
    }
   ],
   "source": [
    "print(f'geo_df.shape = {geo_df.shape}')"
   ]
  },
  {
   "cell_type": "code",
   "execution_count": 9,
   "metadata": {},
   "outputs": [],
   "source": [
    "# Read in all files with pools Seller info\n",
    "seller_df = pd.DataFrame()\n",
    "for file in pools_seller_pct_files:\n",
    "    one_month_issue_pools = pd.read_csv(file)\n",
    "    if len(seller_df)==0:\n",
    "        seller_df = one_month_issue_pools\n",
    "    else:\n",
    "        # df1.columns.difference(df2.columns)\n",
    "        # df2.columns.difference(df1.columns)\n",
    "        if all(seller_df.columns == one_month_issue_pools.columns):\n",
    "            seller_df = pd.concat([seller_df,one_month_issue_pools])\n",
    "        else:\n",
    "            print(f'columns missmatch for {file}')\n",
    "    #print('Done loading ' + file)"
   ]
  },
  {
   "cell_type": "code",
   "execution_count": 10,
   "metadata": {},
   "outputs": [
    {
     "output_type": "execute_result",
     "data": {
      "text/plain": [
       "Index(['poolno', 'asofdate', 'SellerPct_AMRHT', 'SellerPct_ALS',\n",
       "       'SellerPct_CAFULL', 'SellerPct_CNTL', 'SellerPct_CITIZ', 'SellerPct_53',\n",
       "       'SellerPct_FIR', 'SellerPct_FRDOM', 'SellerPct_GUILD',\n",
       "       'SellerPct_CHASE', 'SellerPct_LLSL', 'SellerPct_MATRX', 'SellerPct_NCM',\n",
       "       'SellerPct_NATIONST', 'SellerPct_NRESM', 'SellerPct_PNYMAC',\n",
       "       'SellerPct_PILOSI', 'SellerPct_QUICK', 'SellerPct_REG',\n",
       "       'SellerPct_RMSC', 'SellerPct_UNSHFI', 'SellerPct_WFHM', 'cusip',\n",
       "       'Prefix', 'Label'],\n",
       "      dtype='object')"
      ]
     },
     "metadata": {},
     "execution_count": 10
    }
   ],
   "source": [
    "seller_df.columns"
   ]
  },
  {
   "cell_type": "code",
   "execution_count": 11,
   "metadata": {},
   "outputs": [
    {
     "output_type": "stream",
     "name": "stdout",
     "text": [
      "seller_df.shape = (9636863, 27)\n"
     ]
    }
   ],
   "source": [
    "print(f'seller_df.shape = {seller_df.shape}')"
   ]
  },
  {
   "cell_type": "code",
   "execution_count": 12,
   "metadata": {},
   "outputs": [
    {
     "output_type": "stream",
     "name": "stdout",
     "text": [
      "attr_df.shape = (10143061, 59)\n"
     ]
    }
   ],
   "source": [
    "print(f'attr_df.shape = {attr_df.shape}')"
   ]
  },
  {
   "cell_type": "code",
   "execution_count": 13,
   "metadata": {},
   "outputs": [],
   "source": [
    "attr_df.drop(['Prefix','Cpr1','Cpr3','Cpr6','Cpr12','Cpr24','CprLife','pbal','paydown','Prepay','OCoupon','OWac','PCNLoans','PPNLoans','OSato','%cltv_80','%cltv_105','%cltv_125','%ccltv_80','%ccltv_105','%ccltv_125','%FedHold','%CMOHold','dti','codti'],axis=1,inplace=True)"
   ]
  },
  {
   "cell_type": "code",
   "execution_count": 14,
   "metadata": {},
   "outputs": [],
   "source": [
    "attr_df.dropna(subset=['CBal','SMM','Wac','aols','fico','OccPct_investor','OccPct_owner','PropUnitsPct_2-4'],inplace=True)"
   ]
  },
  {
   "cell_type": "code",
   "execution_count": 15,
   "metadata": {},
   "outputs": [],
   "source": [
    "attr_df.sort_values(by=['poolno','asofdate'],inplace=True)"
   ]
  },
  {
   "cell_type": "code",
   "execution_count": 16,
   "metadata": {},
   "outputs": [],
   "source": [
    "attr_df.fillna(method='ffill',inplace=True)"
   ]
  },
  {
   "cell_type": "code",
   "execution_count": 17,
   "metadata": {},
   "outputs": [],
   "source": [
    "attr_df['CBal'] = attr_df['CBal'].apply(lambda x: float(x))"
   ]
  },
  {
   "cell_type": "code",
   "execution_count": 18,
   "metadata": {},
   "outputs": [],
   "source": [
    "attr_df.rename(columns={'Label':'pool_issue_month'},inplace=True)"
   ]
  },
  {
   "cell_type": "code",
   "execution_count": 19,
   "metadata": {},
   "outputs": [
    {
     "output_type": "stream",
     "name": "stdout",
     "text": [
      "<class 'pandas.core.frame.DataFrame'>\nInt64Index: 10113549 entries, 1482 to 164706\nData columns (total 34 columns):\n #   Column             Non-Null Count     Dtype  \n---  ------             --------------     -----  \n 0   poolno             10113549 non-null  object \n 1   asofdate           10113549 non-null  int64  \n 2   cusip              10113549 non-null  object \n 3   spread             10113549 non-null  float64\n 4   SMM                10113549 non-null  float64\n 5   DayCount           10113549 non-null  float64\n 6   OBal               10113549 non-null  float64\n 7   CBal               10113549 non-null  float64\n 8   factor             10113549 non-null  float64\n 9   Coupon             10113549 non-null  float64\n 10  Wac                10113549 non-null  float64\n 11  Wam                10113549 non-null  float64\n 12  Age                10113549 non-null  float64\n 13  aols               10113549 non-null  float64\n 14  waols              10113549 non-null  float64\n 15  ONLoans            10113549 non-null  float64\n 16  cnloans            10113549 non-null  float64\n 17  CSato              10113549 non-null  float64\n 18  oltv               10113549 non-null  float64\n 19  cltv               10113549 non-null  float64\n 20  fico               10113549 non-null  float64\n 21  %CashWindow        10113549 non-null  float64\n 22  %Majors            10113549 non-null  float64\n 23  ocltv              10113549 non-null  float64\n 24  ccltv              10113549 non-null  float64\n 25  PurpPct_purchase   10113549 non-null  float64\n 26  PurpPct_refi       10113549 non-null  float64\n 27  PctChannel_Broker  10113520 non-null  float64\n 28  PctChannel_Corr    10113520 non-null  float64\n 29  PctChannel_Retail  10113520 non-null  float64\n 30  OccPct_investor    10113549 non-null  float64\n 31  OccPct_owner       10113549 non-null  float64\n 32  PropUnitsPct_2-4   10113549 non-null  float64\n 33  pool_issue_month   10113549 non-null  int64  \ndtypes: float64(30), int64(2), object(2)\nmemory usage: 2.6+ GB\n"
     ]
    }
   ],
   "source": [
    "attr_df.info(verbose=True, null_counts=True)"
   ]
  },
  {
   "cell_type": "code",
   "execution_count": 20,
   "metadata": {},
   "outputs": [],
   "source": [
    "geo_df.drop('Label',axis=1,inplace=True)"
   ]
  },
  {
   "cell_type": "code",
   "execution_count": 21,
   "metadata": {},
   "outputs": [],
   "source": [
    "geo_df.sort_values(by=['poolno','asofdate'],inplace=True)"
   ]
  },
  {
   "cell_type": "code",
   "execution_count": 22,
   "metadata": {},
   "outputs": [],
   "source": [
    "geo_df.fillna(method='ffill',inplace=True)"
   ]
  },
  {
   "cell_type": "code",
   "execution_count": 23,
   "metadata": {},
   "outputs": [
    {
     "output_type": "stream",
     "name": "stdout",
     "text": [
      "<class 'pandas.core.frame.DataFrame'>\nInt64Index: 9929896 entries, 1482 to 164706\nData columns (total 57 columns):\n #   Column       Non-Null Count    Dtype  \n---  ------       --------------    -----  \n 0   poolno       9929896 non-null  object \n 1   asofdate     9929896 non-null  int64  \n 2   cusip        9929896 non-null  object \n 3   StatePct_AK  9929896 non-null  float64\n 4   StatePct_AL  9929896 non-null  object \n 5   StatePct_AR  9929896 non-null  float64\n 6   StatePct_AZ  9929896 non-null  float64\n 7   StatePct_CA  9929896 non-null  float64\n 8   StatePct_CO  9929896 non-null  object \n 9   StatePct_CT  9929896 non-null  float64\n 10  StatePct_DC  9929896 non-null  float64\n 11  StatePct_DE  9929896 non-null  float64\n 12  StatePct_FL  9929896 non-null  float64\n 13  StatePct_GA  9929896 non-null  float64\n 14  StatePct_GU  9929896 non-null  float64\n 15  StatePct_HI  9929896 non-null  float64\n 16  StatePct_IA  9929896 non-null  float64\n 17  StatePct_ID  9929896 non-null  float64\n 18  StatePct_IL  9929896 non-null  float64\n 19  StatePct_IN  9929896 non-null  float64\n 20  StatePct_KS  9929896 non-null  float64\n 21  StatePct_KY  9929896 non-null  float64\n 22  StatePct_LA  9929896 non-null  float64\n 23  StatePct_MA  9929896 non-null  float64\n 24  StatePct_MD  9929896 non-null  float64\n 25  StatePct_ME  9929896 non-null  object \n 26  StatePct_MI  9929896 non-null  float64\n 27  StatePct_MN  9929896 non-null  float64\n 28  StatePct_MO  9929896 non-null  float64\n 29  StatePct_MS  9929896 non-null  float64\n 30  StatePct_MT  9929896 non-null  object \n 31  StatePct_NC  9929896 non-null  float64\n 32  StatePct_ND  9929896 non-null  float64\n 33  StatePct_NE  9929896 non-null  float64\n 34  StatePct_NH  9929896 non-null  float64\n 35  StatePct_NJ  9929896 non-null  float64\n 36  StatePct_NM  9929896 non-null  float64\n 37  StatePct_NV  9929896 non-null  float64\n 38  StatePct_NY  9929896 non-null  float64\n 39  StatePct_OH  9929896 non-null  float64\n 40  StatePct_OK  9929896 non-null  float64\n 41  StatePct_OR  9929896 non-null  float64\n 42  StatePct_PA  9929896 non-null  float64\n 43  StatePct_PR  9929896 non-null  float64\n 44  StatePct_RI  9929896 non-null  float64\n 45  StatePct_SC  9929896 non-null  float64\n 46  StatePct_SD  9929896 non-null  float64\n 47  StatePct_TN  9929896 non-null  object \n 48  StatePct_TX  9929896 non-null  float64\n 49  StatePct_UT  9929896 non-null  float64\n 50  StatePct_VA  9929896 non-null  float64\n 51  StatePct_VI  9929896 non-null  float64\n 52  StatePct_VT  9929896 non-null  float64\n 53  StatePct_WA  9929896 non-null  float64\n 54  StatePct_WI  9929896 non-null  float64\n 55  StatePct_WV  9929896 non-null  float64\n 56  StatePct_WY  9929896 non-null  object \ndtypes: float64(48), int64(1), object(8)\nmemory usage: 4.3+ GB\n"
     ]
    }
   ],
   "source": [
    "geo_df.info(verbose=True, null_counts=True)"
   ]
  },
  {
   "cell_type": "code",
   "execution_count": 24,
   "metadata": {},
   "outputs": [],
   "source": [
    "geo_columns = ['StatePct_AK','StatePct_AL','StatePct_AR','StatePct_AZ','StatePct_CA','StatePct_CO','StatePct_CT',\n",
    "                'StatePct_DC','StatePct_DE','StatePct_FL','StatePct_GA','StatePct_GU','StatePct_HI','StatePct_IA',\n",
    "                'StatePct_ID','StatePct_IL','StatePct_IN','StatePct_KS','StatePct_KY','StatePct_LA','StatePct_MA',\n",
    "                'StatePct_MD','StatePct_ME','StatePct_MI','StatePct_MN','StatePct_MO','StatePct_MS','StatePct_MT',\n",
    "                'StatePct_NC','StatePct_ND','StatePct_NE','StatePct_NH','StatePct_NJ','StatePct_NM','StatePct_NV',\n",
    "                'StatePct_NY','StatePct_OH','StatePct_OK','StatePct_OR','StatePct_PA','StatePct_PR','StatePct_RI',\n",
    "                'StatePct_SC','StatePct_SD','StatePct_TN','StatePct_TX','StatePct_UT','StatePct_VA','StatePct_VI',\n",
    "                'StatePct_VT','StatePct_WA','StatePct_WI','StatePct_WV','StatePct_WY']"
   ]
  },
  {
   "cell_type": "code",
   "execution_count": 25,
   "metadata": {},
   "outputs": [],
   "source": [
    "def isfloat(value):\n",
    "  try:\n",
    "    float(value)\n",
    "    return True\n",
    "  except ValueError:\n",
    "    return False"
   ]
  },
  {
   "cell_type": "code",
   "execution_count": 26,
   "metadata": {},
   "outputs": [],
   "source": [
    "geo_df[geo_columns] = geo_df[geo_columns].applymap(lambda x: float(x) if isfloat(x) else np.nan)"
   ]
  },
  {
   "cell_type": "code",
   "execution_count": 27,
   "metadata": {},
   "outputs": [],
   "source": [
    "geo_df.fillna(0,inplace=True)"
   ]
  },
  {
   "cell_type": "code",
   "execution_count": 28,
   "metadata": {},
   "outputs": [
    {
     "output_type": "stream",
     "name": "stdout",
     "text": [
      "<class 'pandas.core.frame.DataFrame'>\nInt64Index: 9929896 entries, 1482 to 164706\nData columns (total 57 columns):\n #   Column       Non-Null Count    Dtype  \n---  ------       --------------    -----  \n 0   poolno       9929896 non-null  object \n 1   asofdate     9929896 non-null  int64  \n 2   cusip        9929896 non-null  object \n 3   StatePct_AK  9929896 non-null  float64\n 4   StatePct_AL  9929896 non-null  float64\n 5   StatePct_AR  9929896 non-null  float64\n 6   StatePct_AZ  9929896 non-null  float64\n 7   StatePct_CA  9929896 non-null  float64\n 8   StatePct_CO  9929896 non-null  float64\n 9   StatePct_CT  9929896 non-null  float64\n 10  StatePct_DC  9929896 non-null  float64\n 11  StatePct_DE  9929896 non-null  float64\n 12  StatePct_FL  9929896 non-null  float64\n 13  StatePct_GA  9929896 non-null  float64\n 14  StatePct_GU  9929896 non-null  float64\n 15  StatePct_HI  9929896 non-null  float64\n 16  StatePct_IA  9929896 non-null  float64\n 17  StatePct_ID  9929896 non-null  float64\n 18  StatePct_IL  9929896 non-null  float64\n 19  StatePct_IN  9929896 non-null  float64\n 20  StatePct_KS  9929896 non-null  float64\n 21  StatePct_KY  9929896 non-null  float64\n 22  StatePct_LA  9929896 non-null  float64\n 23  StatePct_MA  9929896 non-null  float64\n 24  StatePct_MD  9929896 non-null  float64\n 25  StatePct_ME  9929896 non-null  float64\n 26  StatePct_MI  9929896 non-null  float64\n 27  StatePct_MN  9929896 non-null  float64\n 28  StatePct_MO  9929896 non-null  float64\n 29  StatePct_MS  9929896 non-null  float64\n 30  StatePct_MT  9929896 non-null  float64\n 31  StatePct_NC  9929896 non-null  float64\n 32  StatePct_ND  9929896 non-null  float64\n 33  StatePct_NE  9929896 non-null  float64\n 34  StatePct_NH  9929896 non-null  float64\n 35  StatePct_NJ  9929896 non-null  float64\n 36  StatePct_NM  9929896 non-null  float64\n 37  StatePct_NV  9929896 non-null  float64\n 38  StatePct_NY  9929896 non-null  float64\n 39  StatePct_OH  9929896 non-null  float64\n 40  StatePct_OK  9929896 non-null  float64\n 41  StatePct_OR  9929896 non-null  float64\n 42  StatePct_PA  9929896 non-null  float64\n 43  StatePct_PR  9929896 non-null  float64\n 44  StatePct_RI  9929896 non-null  float64\n 45  StatePct_SC  9929896 non-null  float64\n 46  StatePct_SD  9929896 non-null  float64\n 47  StatePct_TN  9929896 non-null  float64\n 48  StatePct_TX  9929896 non-null  float64\n 49  StatePct_UT  9929896 non-null  float64\n 50  StatePct_VA  9929896 non-null  float64\n 51  StatePct_VI  9929896 non-null  float64\n 52  StatePct_VT  9929896 non-null  float64\n 53  StatePct_WA  9929896 non-null  float64\n 54  StatePct_WI  9929896 non-null  float64\n 55  StatePct_WV  9929896 non-null  float64\n 56  StatePct_WY  9929896 non-null  float64\ndtypes: float64(54), int64(1), object(2)\nmemory usage: 4.3+ GB\n"
     ]
    }
   ],
   "source": [
    "geo_df.info(verbose=True, null_counts=True)"
   ]
  },
  {
   "cell_type": "code",
   "execution_count": 29,
   "metadata": {},
   "outputs": [
    {
     "output_type": "stream",
     "name": "stdout",
     "text": [
      "<class 'pandas.core.frame.DataFrame'>\nInt64Index: 9636863 entries, 0 to 1283\nData columns (total 27 columns):\n #   Column              Non-Null Count    Dtype  \n---  ------              --------------    -----  \n 0   poolno              9636863 non-null  object \n 1   asofdate            9636863 non-null  int64  \n 2   SellerPct_AMRHT     9634381 non-null  object \n 3   SellerPct_ALS       9634376 non-null  float64\n 4   SellerPct_CAFULL    9634376 non-null  float64\n 5   SellerPct_CNTL      9634373 non-null  float64\n 6   SellerPct_CITIZ     9634373 non-null  float64\n 7   SellerPct_53        9634373 non-null  float64\n 8   SellerPct_FIR       9634355 non-null  float64\n 9   SellerPct_FRDOM     9634355 non-null  float64\n 10  SellerPct_GUILD     9634355 non-null  object \n 11  SellerPct_CHASE     9634348 non-null  float64\n 12  SellerPct_LLSL      9634348 non-null  float64\n 13  SellerPct_MATRX     9634348 non-null  object \n 14  SellerPct_NCM       9634334 non-null  float64\n 15  SellerPct_NATIONST  9634334 non-null  float64\n 16  SellerPct_NRESM     9634331 non-null  object \n 17  SellerPct_PNYMAC    9634327 non-null  float64\n 18  SellerPct_PILOSI    9634327 non-null  float64\n 19  SellerPct_QUICK     9634309 non-null  object \n 20  SellerPct_REG       9634308 non-null  float64\n 21  SellerPct_RMSC      9634308 non-null  float64\n 22  SellerPct_UNSHFI    9634295 non-null  float64\n 23  SellerPct_WFHM      9634295 non-null  float64\n 24  cusip               9636768 non-null  object \n 25  Prefix              9636730 non-null  object \n 26  Label               9636863 non-null  int64  \ndtypes: float64(17), int64(2), object(8)\nmemory usage: 2.0+ GB\n"
     ]
    }
   ],
   "source": [
    "seller_df.info(verbose=True, null_counts=True)"
   ]
  },
  {
   "cell_type": "code",
   "execution_count": 30,
   "metadata": {},
   "outputs": [],
   "source": [
    "seller_df.drop(['Label','Prefix'],axis=1,inplace=True)"
   ]
  },
  {
   "cell_type": "code",
   "execution_count": 31,
   "metadata": {},
   "outputs": [],
   "source": [
    "seller_df.sort_values(by=['poolno','asofdate'],inplace=True)"
   ]
  },
  {
   "cell_type": "code",
   "execution_count": 32,
   "metadata": {},
   "outputs": [],
   "source": [
    "seller_df.fillna(method='ffill',inplace=True)"
   ]
  },
  {
   "cell_type": "code",
   "execution_count": 33,
   "metadata": {},
   "outputs": [],
   "source": [
    "seller_columns = ['SellerPct_AMRHT','SellerPct_ALS','SellerPct_CAFULL','SellerPct_CNTL','SellerPct_CITIZ',\n",
    "                  'SellerPct_53','SellerPct_FIR','SellerPct_FRDOM','SellerPct_GUILD','SellerPct_CHASE',\n",
    "                  'SellerPct_LLSL','SellerPct_MATRX','SellerPct_NCM','SellerPct_NATIONST','SellerPct_NRESM',\n",
    "                  'SellerPct_PNYMAC','SellerPct_PILOSI','SellerPct_QUICK','SellerPct_REG','SellerPct_RMSC',\n",
    "                  'SellerPct_UNSHFI','SellerPct_WFHM']"
   ]
  },
  {
   "cell_type": "code",
   "execution_count": 34,
   "metadata": {},
   "outputs": [],
   "source": [
    "seller_df[seller_columns] = seller_df[seller_columns].applymap(lambda x: float(x) if isfloat(x) else np.nan)"
   ]
  },
  {
   "cell_type": "code",
   "execution_count": 35,
   "metadata": {},
   "outputs": [],
   "source": [
    "seller_df.fillna(0,inplace=True)"
   ]
  },
  {
   "cell_type": "code",
   "execution_count": 36,
   "metadata": {},
   "outputs": [
    {
     "output_type": "stream",
     "name": "stdout",
     "text": [
      "<class 'pandas.core.frame.DataFrame'>\nInt64Index: 9636863 entries, 1482 to 136071\nData columns (total 25 columns):\n #   Column              Non-Null Count    Dtype  \n---  ------              --------------    -----  \n 0   poolno              9636863 non-null  object \n 1   asofdate            9636863 non-null  int64  \n 2   SellerPct_AMRHT     9636863 non-null  float64\n 3   SellerPct_ALS       9636863 non-null  float64\n 4   SellerPct_CAFULL    9636863 non-null  float64\n 5   SellerPct_CNTL      9636863 non-null  float64\n 6   SellerPct_CITIZ     9636863 non-null  float64\n 7   SellerPct_53        9636863 non-null  float64\n 8   SellerPct_FIR       9636863 non-null  float64\n 9   SellerPct_FRDOM     9636863 non-null  float64\n 10  SellerPct_GUILD     9636863 non-null  float64\n 11  SellerPct_CHASE     9636863 non-null  float64\n 12  SellerPct_LLSL      9636863 non-null  float64\n 13  SellerPct_MATRX     9636863 non-null  float64\n 14  SellerPct_NCM       9636863 non-null  float64\n 15  SellerPct_NATIONST  9636863 non-null  float64\n 16  SellerPct_NRESM     9636863 non-null  float64\n 17  SellerPct_PNYMAC    9636863 non-null  float64\n 18  SellerPct_PILOSI    9636863 non-null  float64\n 19  SellerPct_QUICK     9636863 non-null  float64\n 20  SellerPct_REG       9636863 non-null  float64\n 21  SellerPct_RMSC      9636863 non-null  float64\n 22  SellerPct_UNSHFI    9636863 non-null  float64\n 23  SellerPct_WFHM      9636863 non-null  float64\n 24  cusip               9636863 non-null  object \ndtypes: float64(22), int64(1), object(2)\nmemory usage: 1.9+ GB\n"
     ]
    }
   ],
   "source": [
    "seller_df.info(verbose=True, null_counts=True)"
   ]
  },
  {
   "cell_type": "code",
   "execution_count": 37,
   "metadata": {},
   "outputs": [],
   "source": [
    "dill.dump_session('notebook_env_all_3_dfs.db')"
   ]
  },
  {
   "source": [
    "-----------------------------------------------------------------------------------------------------------------\n",
    "-----------------------------------------------------------------------------------------------------------------\n",
    "Section above performed data loading from raw csv files, performed data cleaning and filled in NAs.\n",
    "Section below combines the three DataFrames (attr_df, geo_df, seller_df) into a single DataFrame called df\n",
    "We then save df into a dill session memory file and csv files for pools with >=250 current number of loans\n",
    "Due to memory issues we only keep a subset of df consisting only of pools with >=250 current number of loans \n",
    "\n",
    "-----------------------------------------------------------------------------------------------------------------\n",
    "-----------------------------------------------------------------------------------------------------------------"
   ],
   "cell_type": "markdown",
   "metadata": {}
  },
  {
   "cell_type": "code",
   "execution_count": 38,
   "metadata": {},
   "outputs": [],
   "source": [
    "#dill.load_session('notebook_env_all_3_dfs.db')"
   ]
  },
  {
   "cell_type": "code",
   "execution_count": 39,
   "metadata": {},
   "outputs": [
    {
     "output_type": "stream",
     "name": "stdout",
     "text": [
      "attr_df.shape   = (10113549, 34)\ngeo_df.shape    = (9929896, 57)\nseller_df.shape = (9636863, 25)\n"
     ]
    }
   ],
   "source": [
    "print(f'attr_df.shape   = {attr_df.shape}')\n",
    "print(f'geo_df.shape    = {geo_df.shape}')\n",
    "print(f'seller_df.shape = {seller_df.shape}')"
   ]
  },
  {
   "cell_type": "code",
   "execution_count": 40,
   "metadata": {},
   "outputs": [
    {
     "output_type": "stream",
     "name": "stdout",
     "text": [
      "attr_df.shape = (594533, 34)\n"
     ]
    }
   ],
   "source": [
    "nloans = 250\n",
    "attr_df = attr_df[attr_df['cnloans']>=nloans]\n",
    "\n",
    "print(f'attr_df.shape = {attr_df.shape}')"
   ]
  },
  {
   "cell_type": "code",
   "execution_count": 41,
   "metadata": {},
   "outputs": [],
   "source": [
    "geo_df.drop('poolno',axis=1,inplace=True)"
   ]
  },
  {
   "cell_type": "code",
   "execution_count": 42,
   "metadata": {},
   "outputs": [],
   "source": [
    "df = pd.merge(attr_df,geo_df,on=['cusip','asofdate'],how='left')"
   ]
  },
  {
   "cell_type": "code",
   "execution_count": 43,
   "metadata": {},
   "outputs": [
    {
     "output_type": "stream",
     "name": "stdout",
     "text": [
      "<class 'pandas.core.frame.DataFrame'>\nInt64Index: 594533 entries, 0 to 594532\nData columns (total 88 columns):\n #   Column             Non-Null Count   Dtype  \n---  ------             --------------   -----  \n 0   poolno             594533 non-null  object \n 1   asofdate           594533 non-null  int64  \n 2   cusip              594533 non-null  object \n 3   spread             594533 non-null  float64\n 4   SMM                594533 non-null  float64\n 5   DayCount           594533 non-null  float64\n 6   OBal               594533 non-null  float64\n 7   CBal               594533 non-null  float64\n 8   factor             594533 non-null  float64\n 9   Coupon             594533 non-null  float64\n 10  Wac                594533 non-null  float64\n 11  Wam                594533 non-null  float64\n 12  Age                594533 non-null  float64\n 13  aols               594533 non-null  float64\n 14  waols              594533 non-null  float64\n 15  ONLoans            594533 non-null  float64\n 16  cnloans            594533 non-null  float64\n 17  CSato              594533 non-null  float64\n 18  oltv               594533 non-null  float64\n 19  cltv               594533 non-null  float64\n 20  fico               594533 non-null  float64\n 21  %CashWindow        594533 non-null  float64\n 22  %Majors            594533 non-null  float64\n 23  ocltv              594533 non-null  float64\n 24  ccltv              594533 non-null  float64\n 25  PurpPct_purchase   594533 non-null  float64\n 26  PurpPct_refi       594533 non-null  float64\n 27  PctChannel_Broker  594533 non-null  float64\n 28  PctChannel_Corr    594533 non-null  float64\n 29  PctChannel_Retail  594533 non-null  float64\n 30  OccPct_investor    594533 non-null  float64\n 31  OccPct_owner       594533 non-null  float64\n 32  PropUnitsPct_2-4   594533 non-null  float64\n 33  pool_issue_month   594533 non-null  int64  \n 34  StatePct_AK        582532 non-null  float64\n 35  StatePct_AL        582532 non-null  float64\n 36  StatePct_AR        582532 non-null  float64\n 37  StatePct_AZ        582532 non-null  float64\n 38  StatePct_CA        582532 non-null  float64\n 39  StatePct_CO        582532 non-null  float64\n 40  StatePct_CT        582532 non-null  float64\n 41  StatePct_DC        582532 non-null  float64\n 42  StatePct_DE        582532 non-null  float64\n 43  StatePct_FL        582532 non-null  float64\n 44  StatePct_GA        582532 non-null  float64\n 45  StatePct_GU        582532 non-null  float64\n 46  StatePct_HI        582532 non-null  float64\n 47  StatePct_IA        582532 non-null  float64\n 48  StatePct_ID        582532 non-null  float64\n 49  StatePct_IL        582532 non-null  float64\n 50  StatePct_IN        582532 non-null  float64\n 51  StatePct_KS        582532 non-null  float64\n 52  StatePct_KY        582532 non-null  float64\n 53  StatePct_LA        582532 non-null  float64\n 54  StatePct_MA        582532 non-null  float64\n 55  StatePct_MD        582532 non-null  float64\n 56  StatePct_ME        582532 non-null  float64\n 57  StatePct_MI        582532 non-null  float64\n 58  StatePct_MN        582532 non-null  float64\n 59  StatePct_MO        582532 non-null  float64\n 60  StatePct_MS        582532 non-null  float64\n 61  StatePct_MT        582532 non-null  float64\n 62  StatePct_NC        582532 non-null  float64\n 63  StatePct_ND        582532 non-null  float64\n 64  StatePct_NE        582532 non-null  float64\n 65  StatePct_NH        582532 non-null  float64\n 66  StatePct_NJ        582532 non-null  float64\n 67  StatePct_NM        582532 non-null  float64\n 68  StatePct_NV        582532 non-null  float64\n 69  StatePct_NY        582532 non-null  float64\n 70  StatePct_OH        582532 non-null  float64\n 71  StatePct_OK        582532 non-null  float64\n 72  StatePct_OR        582532 non-null  float64\n 73  StatePct_PA        582532 non-null  float64\n 74  StatePct_PR        582532 non-null  float64\n 75  StatePct_RI        582532 non-null  float64\n 76  StatePct_SC        582532 non-null  float64\n 77  StatePct_SD        582532 non-null  float64\n 78  StatePct_TN        582532 non-null  float64\n 79  StatePct_TX        582532 non-null  float64\n 80  StatePct_UT        582532 non-null  float64\n 81  StatePct_VA        582532 non-null  float64\n 82  StatePct_VI        582532 non-null  float64\n 83  StatePct_VT        582532 non-null  float64\n 84  StatePct_WA        582532 non-null  float64\n 85  StatePct_WI        582532 non-null  float64\n 86  StatePct_WV        582532 non-null  float64\n 87  StatePct_WY        582532 non-null  float64\ndtypes: float64(84), int64(2), object(2)\nmemory usage: 403.7+ MB\n"
     ]
    }
   ],
   "source": [
    "df.info(verbose=True, null_counts=True)"
   ]
  },
  {
   "cell_type": "code",
   "execution_count": 44,
   "metadata": {},
   "outputs": [],
   "source": [
    "seller_df.drop('poolno',axis=1,inplace=True)"
   ]
  },
  {
   "cell_type": "code",
   "execution_count": 45,
   "metadata": {},
   "outputs": [],
   "source": [
    "df = pd.merge(df,seller_df,on=['cusip','asofdate'],how='left')"
   ]
  },
  {
   "cell_type": "code",
   "execution_count": 46,
   "metadata": {},
   "outputs": [],
   "source": [
    "df.fillna(0,inplace=True)"
   ]
  },
  {
   "cell_type": "code",
   "execution_count": 47,
   "metadata": {},
   "outputs": [
    {
     "output_type": "stream",
     "name": "stdout",
     "text": [
      "<class 'pandas.core.frame.DataFrame'>\nInt64Index: 594533 entries, 0 to 594532\nData columns (total 110 columns):\n #   Column              Non-Null Count   Dtype  \n---  ------              --------------   -----  \n 0   poolno              594533 non-null  object \n 1   asofdate            594533 non-null  int64  \n 2   cusip               594533 non-null  object \n 3   spread              594533 non-null  float64\n 4   SMM                 594533 non-null  float64\n 5   DayCount            594533 non-null  float64\n 6   OBal                594533 non-null  float64\n 7   CBal                594533 non-null  float64\n 8   factor              594533 non-null  float64\n 9   Coupon              594533 non-null  float64\n 10  Wac                 594533 non-null  float64\n 11  Wam                 594533 non-null  float64\n 12  Age                 594533 non-null  float64\n 13  aols                594533 non-null  float64\n 14  waols               594533 non-null  float64\n 15  ONLoans             594533 non-null  float64\n 16  cnloans             594533 non-null  float64\n 17  CSato               594533 non-null  float64\n 18  oltv                594533 non-null  float64\n 19  cltv                594533 non-null  float64\n 20  fico                594533 non-null  float64\n 21  %CashWindow         594533 non-null  float64\n 22  %Majors             594533 non-null  float64\n 23  ocltv               594533 non-null  float64\n 24  ccltv               594533 non-null  float64\n 25  PurpPct_purchase    594533 non-null  float64\n 26  PurpPct_refi        594533 non-null  float64\n 27  PctChannel_Broker   594533 non-null  float64\n 28  PctChannel_Corr     594533 non-null  float64\n 29  PctChannel_Retail   594533 non-null  float64\n 30  OccPct_investor     594533 non-null  float64\n 31  OccPct_owner        594533 non-null  float64\n 32  PropUnitsPct_2-4    594533 non-null  float64\n 33  pool_issue_month    594533 non-null  int64  \n 34  StatePct_AK         594533 non-null  float64\n 35  StatePct_AL         594533 non-null  float64\n 36  StatePct_AR         594533 non-null  float64\n 37  StatePct_AZ         594533 non-null  float64\n 38  StatePct_CA         594533 non-null  float64\n 39  StatePct_CO         594533 non-null  float64\n 40  StatePct_CT         594533 non-null  float64\n 41  StatePct_DC         594533 non-null  float64\n 42  StatePct_DE         594533 non-null  float64\n 43  StatePct_FL         594533 non-null  float64\n 44  StatePct_GA         594533 non-null  float64\n 45  StatePct_GU         594533 non-null  float64\n 46  StatePct_HI         594533 non-null  float64\n 47  StatePct_IA         594533 non-null  float64\n 48  StatePct_ID         594533 non-null  float64\n 49  StatePct_IL         594533 non-null  float64\n 50  StatePct_IN         594533 non-null  float64\n 51  StatePct_KS         594533 non-null  float64\n 52  StatePct_KY         594533 non-null  float64\n 53  StatePct_LA         594533 non-null  float64\n 54  StatePct_MA         594533 non-null  float64\n 55  StatePct_MD         594533 non-null  float64\n 56  StatePct_ME         594533 non-null  float64\n 57  StatePct_MI         594533 non-null  float64\n 58  StatePct_MN         594533 non-null  float64\n 59  StatePct_MO         594533 non-null  float64\n 60  StatePct_MS         594533 non-null  float64\n 61  StatePct_MT         594533 non-null  float64\n 62  StatePct_NC         594533 non-null  float64\n 63  StatePct_ND         594533 non-null  float64\n 64  StatePct_NE         594533 non-null  float64\n 65  StatePct_NH         594533 non-null  float64\n 66  StatePct_NJ         594533 non-null  float64\n 67  StatePct_NM         594533 non-null  float64\n 68  StatePct_NV         594533 non-null  float64\n 69  StatePct_NY         594533 non-null  float64\n 70  StatePct_OH         594533 non-null  float64\n 71  StatePct_OK         594533 non-null  float64\n 72  StatePct_OR         594533 non-null  float64\n 73  StatePct_PA         594533 non-null  float64\n 74  StatePct_PR         594533 non-null  float64\n 75  StatePct_RI         594533 non-null  float64\n 76  StatePct_SC         594533 non-null  float64\n 77  StatePct_SD         594533 non-null  float64\n 78  StatePct_TN         594533 non-null  float64\n 79  StatePct_TX         594533 non-null  float64\n 80  StatePct_UT         594533 non-null  float64\n 81  StatePct_VA         594533 non-null  float64\n 82  StatePct_VI         594533 non-null  float64\n 83  StatePct_VT         594533 non-null  float64\n 84  StatePct_WA         594533 non-null  float64\n 85  StatePct_WI         594533 non-null  float64\n 86  StatePct_WV         594533 non-null  float64\n 87  StatePct_WY         594533 non-null  float64\n 88  SellerPct_AMRHT     594533 non-null  float64\n 89  SellerPct_ALS       594533 non-null  float64\n 90  SellerPct_CAFULL    594533 non-null  float64\n 91  SellerPct_CNTL      594533 non-null  float64\n 92  SellerPct_CITIZ     594533 non-null  float64\n 93  SellerPct_53        594533 non-null  float64\n 94  SellerPct_FIR       594533 non-null  float64\n 95  SellerPct_FRDOM     594533 non-null  float64\n 96  SellerPct_GUILD     594533 non-null  float64\n 97  SellerPct_CHASE     594533 non-null  float64\n 98  SellerPct_LLSL      594533 non-null  float64\n 99  SellerPct_MATRX     594533 non-null  float64\n 100 SellerPct_NCM       594533 non-null  float64\n 101 SellerPct_NATIONST  594533 non-null  float64\n 102 SellerPct_NRESM     594533 non-null  float64\n 103 SellerPct_PNYMAC    594533 non-null  float64\n 104 SellerPct_PILOSI    594533 non-null  float64\n 105 SellerPct_QUICK     594533 non-null  float64\n 106 SellerPct_REG       594533 non-null  float64\n 107 SellerPct_RMSC      594533 non-null  float64\n 108 SellerPct_UNSHFI    594533 non-null  float64\n 109 SellerPct_WFHM      594533 non-null  float64\ndtypes: float64(106), int64(2), object(2)\nmemory usage: 503.5+ MB\n"
     ]
    }
   ],
   "source": [
    "df.info(verbose=True, null_counts=True)"
   ]
  },
  {
   "cell_type": "code",
   "execution_count": 48,
   "metadata": {},
   "outputs": [],
   "source": [
    "dill.dump_session('notebook_env__df.db')"
   ]
  },
  {
   "cell_type": "code",
   "execution_count": 49,
   "metadata": {},
   "outputs": [
    {
     "output_type": "stream",
     "name": "stdout",
     "text": [
      "ddf.shape = (594533, 110)\n"
     ]
    }
   ],
   "source": [
    "# Write df into a sequence of small files\n",
    "nloans = 250\n",
    "ddf = df[df['cnloans']>=nloans]\n",
    "\n",
    "print(f'ddf.shape = {ddf.shape}')\n",
    "\n",
    "rows = ddf.shape[0]\n",
    "\n",
    "N = rows//30000 + 1\n",
    "\n",
    "for i in range(N):\n",
    "    ddf.iloc[i*30000:(i+1)*30000,].to_csv(f'data/pools_ge{nloans}_loans_part{i+1}.csv',index=False)"
   ]
  },
  {
   "cell_type": "code",
   "execution_count": null,
   "metadata": {},
   "outputs": [],
   "source": []
  }
 ],
 "metadata": {
  "kernelspec": {
   "display_name": "Python 3",
   "language": "python",
   "name": "python3"
  },
  "language_info": {
   "codemirror_mode": {
    "name": "ipython",
    "version": 3
   },
   "file_extension": ".py",
   "mimetype": "text/x-python",
   "name": "python",
   "nbconvert_exporter": "python",
   "pygments_lexer": "ipython3",
   "version": "3.7.6-final"
  }
 },
 "nbformat": 4,
 "nbformat_minor": 2
}